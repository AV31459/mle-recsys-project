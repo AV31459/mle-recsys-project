{
 "cells": [
  {
   "cell_type": "markdown",
   "id": "9eb67c21",
   "metadata": {},
   "source": [
    "__NB:__ Частсть ячеек с кодом сохранена в формате raw (результаты кешированы/сам код временно отключен для оптимизации времени выполнения) - они могут не отображатся в некоторых viewer-ах (в частности, в веб интерфейсе GitHub). "
   ]
  },
  {
   "cell_type": "markdown",
   "id": "f4095ae4-7294-4b28-853e-88d235002c97",
   "metadata": {},
   "source": [
    "### 0. Инициализация"
   ]
  },
  {
   "cell_type": "code",
   "execution_count": 1,
   "id": "662d04e7-1b0b-4e4a-9ddf-4526d7fef119",
   "metadata": {},
   "outputs": [],
   "source": [
    "# Загружаем библиотеки необходимые для выполнения кода ноутбука.\n",
    "\n",
    "import pandas as pd\n",
    "import numpy as np\n",
    "import seaborn as sns\n",
    "import matplotlib.pyplot as plt\n",
    "import logging\n",
    "\n",
    "from utils.shortcuts import print_deep_mem_usage\n",
    "from utils.s3 import print_bucket_contents, upload_file_to_s3"
   ]
  },
  {
   "cell_type": "code",
   "execution_count": 2,
   "id": "6299631b",
   "metadata": {},
   "outputs": [],
   "source": [
    "# Настройка форматов\n",
    "pd.set_option('display.max_columns', None)\n",
    "pd.set_option('display.float_format',  '{:,.2f}'.format)\n",
    "\n",
    "# Отключаем INFO сообщения от matplotlib\n",
    "logging.getLogger('matplotlib').setLevel(logging.WARNING)\n",
    "\n",
    "sns.set_theme(style=\"whitegrid\")\n",
    "plt.rcParams['figure.figsize'] = (15,5)\n",
    "plt.rcParams['axes.titlesize'] = 'large'\n",
    "plt.rcParams['axes.labelsize'] =  'large'\n",
    "plt.rcParams['xtick.labelsize'] =  'medium'\n",
    "plt.rcParams['ytick.labelsize'] =  'medium'\n",
    "plt.rcParams['legend.title_fontsize'] = 'large'\n",
    "plt.rcParams['legend.fontsize'] = 'medium'\n",
    "plt.rcParams['legend.framealpha'] = .9"
   ]
  },
  {
   "cell_type": "markdown",
   "id": "bf80fbc5-b660-4fac-8fbb-a5cae77313b3",
   "metadata": {},
   "source": [
    "### 1. Первый этап"
   ]
  },
  {
   "cell_type": "markdown",
   "id": "5263a8b3-fe99-4204-8a2e-105182792c11",
   "metadata": {},
   "source": [
    "#### 1.1 Загрузка первичных данных"
   ]
  },
  {
   "cell_type": "code",
   "execution_count": 3,
   "id": "5d4b8961-3f35-4e58-9d6b-3e2dbd2c4224",
   "metadata": {},
   "outputs": [],
   "source": [
    "tracks = pd.read_parquet('data/tracks.parquet')\n",
    "cat_names = pd.read_parquet('data/catalog_names.parquet')\n",
    "interactions = pd.read_parquet('data/interactions.parquet')"
   ]
  },
  {
   "cell_type": "markdown",
   "id": "e8f2a1f7-a05f-4f39-af90-5f4018aa6f9d",
   "metadata": {},
   "source": [
    "#### 1.2 Обзор данных"
   ]
  },
  {
   "cell_type": "markdown",
   "id": "e02e6a05",
   "metadata": {},
   "source": [
    "##### 1.2.1 cat_names - справочник каталожных имен"
   ]
  },
  {
   "cell_type": "code",
   "execution_count": 4,
   "id": "cd1f2faa",
   "metadata": {},
   "outputs": [
    {
     "name": "stdout",
     "output_type": "stream",
     "text": [
      "<class 'pandas.core.frame.DataFrame'>\n",
      "RangeIndex: 1812471 entries, 0 to 1812470\n",
      "Data columns (total 3 columns):\n",
      " #   Column  Dtype \n",
      "---  ------  ----- \n",
      " 0   id      int64 \n",
      " 1   type    object\n",
      " 2   name    object\n",
      "dtypes: int64(1), object(2)\n",
      "memory usage: 263.7 MB\n"
     ]
    }
   ],
   "source": [
    "# Типы данных\n",
    "cat_names.info(memory_usage='deep')"
   ]
  },
  {
   "cell_type": "code",
   "execution_count": 5,
   "id": "1a45806c",
   "metadata": {},
   "outputs": [
    {
     "data": {
      "text/html": [
       "<div>\n",
       "<style scoped>\n",
       "    .dataframe tbody tr th:only-of-type {\n",
       "        vertical-align: middle;\n",
       "    }\n",
       "\n",
       "    .dataframe tbody tr th {\n",
       "        vertical-align: top;\n",
       "    }\n",
       "\n",
       "    .dataframe thead th {\n",
       "        text-align: right;\n",
       "    }\n",
       "</style>\n",
       "<table border=\"1\" class=\"dataframe\">\n",
       "  <thead>\n",
       "    <tr style=\"text-align: right;\">\n",
       "      <th></th>\n",
       "      <th>id</th>\n",
       "      <th>type</th>\n",
       "      <th>name</th>\n",
       "    </tr>\n",
       "  </thead>\n",
       "  <tbody>\n",
       "    <tr>\n",
       "      <th>0</th>\n",
       "      <td>3</td>\n",
       "      <td>album</td>\n",
       "      <td>Taller Children</td>\n",
       "    </tr>\n",
       "    <tr>\n",
       "      <th>1</th>\n",
       "      <td>12</td>\n",
       "      <td>album</td>\n",
       "      <td>Wild Young Hearts</td>\n",
       "    </tr>\n",
       "    <tr>\n",
       "      <th>2</th>\n",
       "      <td>13</td>\n",
       "      <td>album</td>\n",
       "      <td>Lonesome Crow</td>\n",
       "    </tr>\n",
       "  </tbody>\n",
       "</table>\n",
       "</div>"
      ],
      "text/plain": [
       "   id   type               name\n",
       "0   3  album    Taller Children\n",
       "1  12  album  Wild Young Hearts\n",
       "2  13  album      Lonesome Crow"
      ]
     },
     "execution_count": 5,
     "metadata": {},
     "output_type": "execute_result"
    }
   ],
   "source": [
    "# Визуальный осмотр данных\n",
    "cat_names.head(3)"
   ]
  },
  {
   "cell_type": "code",
   "execution_count": 6,
   "id": "a4bee1de",
   "metadata": {},
   "outputs": [
    {
     "data": {
      "text/plain": [
       "min              0\n",
       "max      101521819\n",
       "count      1812471\n",
       "Name: id, dtype: int64"
      ]
     },
     "execution_count": 6,
     "metadata": {},
     "output_type": "execute_result"
    }
   ],
   "source": [
    "# Диапазон значений id\n",
    "cat_names['id'].describe()[['min', 'max', 'count']].astype('int')"
   ]
  },
  {
   "cell_type": "code",
   "execution_count": 7,
   "id": "86ff1355",
   "metadata": {},
   "outputs": [
    {
     "name": "stdout",
     "output_type": "stream",
     "text": [
      "Memory usage in MB:\n",
      "Index     0.00\n",
      "id        6.91\n",
      "type      1.73\n",
      "name    124.19\n",
      "Total memory usage 132.8 MB\n"
     ]
    }
   ],
   "source": [
    "# Оптимизируем типы данных\n",
    "cat_names = cat_names.reset_index(drop=True)\n",
    "cat_names['id'] = cat_names['id'].astype('int32')\n",
    "cat_names['type'] = cat_names['type'].astype('category')\n",
    "cat_names['name'] = cat_names['name'].astype('category')\n",
    "\n",
    "# Объем памяти после оптимизации типов\n",
    "print_deep_mem_usage(cat_names)"
   ]
  },
  {
   "cell_type": "code",
   "execution_count": 8,
   "id": "ec3063d1",
   "metadata": {},
   "outputs": [
    {
     "data": {
      "text/plain": [
       "type\n",
       "track     1000000\n",
       "album      658724\n",
       "artist     153581\n",
       "genre         166\n",
       "Name: count, dtype: int64"
      ]
     },
     "execution_count": 8,
     "metadata": {},
     "output_type": "execute_result"
    }
   ],
   "source": [
    "# Уникальные типы каталожных единиц\n",
    "cat_names['type'].value_counts()"
   ]
  },
  {
   "cell_type": "code",
   "execution_count": 9,
   "id": "2013110a",
   "metadata": {},
   "outputs": [
    {
     "data": {
      "text/plain": [
       "id      0\n",
       "type    0\n",
       "name    0\n",
       "dtype: int64"
      ]
     },
     "execution_count": 9,
     "metadata": {},
     "output_type": "execute_result"
    }
   ],
   "source": [
    "# Проверка на пропуски -> отсутствуют\n",
    "cat_names.isna().sum()"
   ]
  },
  {
   "cell_type": "code",
   "execution_count": 10,
   "id": "c9f8f17e-9b56-4f5a-a463-f694a993effb",
   "metadata": {},
   "outputs": [
    {
     "data": {
      "text/plain": [
       "35774"
      ]
     },
     "execution_count": 10,
     "metadata": {},
     "output_type": "execute_result"
    }
   ],
   "source": [
    "# Наличие дубликатов по полю 'id' -> присутствуют\n",
    "cat_names[['id']].duplicated().sum()"
   ]
  },
  {
   "cell_type": "code",
   "execution_count": 11,
   "id": "86360449",
   "metadata": {},
   "outputs": [
    {
     "data": {
      "text/plain": [
       "0"
      ]
     },
     "execution_count": 11,
     "metadata": {},
     "output_type": "execute_result"
    }
   ],
   "source": [
    "# Наличие дубликатов по связке 'id', 'type' -> отсутсвуют\n",
    "cat_names[['id', 'type']].duplicated().sum()"
   ]
  },
  {
   "cell_type": "code",
   "execution_count": 12,
   "id": "5f99244b",
   "metadata": {},
   "outputs": [
    {
     "data": {
      "text/plain": [
       "689769"
      ]
     },
     "execution_count": 12,
     "metadata": {},
     "output_type": "execute_result"
    }
   ],
   "source": [
    "# Наличие дубликатов по связке 'type', 'name' -> присутствуют, и много\n",
    "cat_names[['type', 'name']].duplicated().sum()"
   ]
  },
  {
   "cell_type": "code",
   "execution_count": 13,
   "id": "a7d83d8b",
   "metadata": {},
   "outputs": [
    {
     "data": {
      "text/plain": [
       "'Type [track] : duplicated names 469276 of 1000000 or 46.9%.'"
      ]
     },
     "metadata": {},
     "output_type": "display_data"
    },
    {
     "data": {
      "text/plain": [
       "'Type [album] : duplicated names 218108 of 658724 or 33.1%.'"
      ]
     },
     "metadata": {},
     "output_type": "display_data"
    },
    {
     "data": {
      "text/plain": [
       "'Type [artist] : duplicated names 2385 of 153581 or 1.6%.'"
      ]
     },
     "metadata": {},
     "output_type": "display_data"
    },
    {
     "data": {
      "text/plain": [
       "'Type [genre] : duplicated names 0 of 166 or 0.0%.'"
      ]
     },
     "metadata": {},
     "output_type": "display_data"
    }
   ],
   "source": [
    "# Наличие дубликатов по связке 'type', 'name' для разных типов\n",
    "cat_type_name_duplicated = cat_names[cat_names[['type', 'name']].duplicated()]\n",
    "\n",
    "for type, total_count in cat_names['type'].value_counts().to_dict().items():\n",
    "    duplicated_count = len(cat_type_name_duplicated.query('type == @type'))\n",
    "    display(\n",
    "        f'Type [{type}] : '\n",
    "        f'duplicated names {duplicated_count} of {total_count} '\n",
    "        f'or {duplicated_count / total_count * 100:.1f}%.'\n",
    "    )\n",
    "\n",
    "del cat_type_name_duplicated, type, duplicated_count, total_count"
   ]
  },
  {
   "cell_type": "markdown",
   "id": "00220834",
   "metadata": {},
   "source": [
    "__NB! В каталоге около половины треков и трети альбомов имеют повторяющиеся (дублированные) имена.__   \n",
    "Решение: оставляем как есть, корректировку (слияние) дубликатов в справочниках пока не проводим."
   ]
  },
  {
   "cell_type": "markdown",
   "id": "512baefa",
   "metadata": {},
   "source": [
    "##### 1.2.2 tracks - данные о треках"
   ]
  },
  {
   "cell_type": "code",
   "execution_count": 14,
   "id": "8803614b",
   "metadata": {},
   "outputs": [
    {
     "name": "stdout",
     "output_type": "stream",
     "text": [
      "<class 'pandas.core.frame.DataFrame'>\n",
      "RangeIndex: 1000000 entries, 0 to 999999\n",
      "Data columns (total 4 columns):\n",
      " #   Column    Non-Null Count    Dtype \n",
      "---  ------    --------------    ----- \n",
      " 0   track_id  1000000 non-null  int64 \n",
      " 1   albums    1000000 non-null  object\n",
      " 2   artists   1000000 non-null  object\n",
      " 3   genres    1000000 non-null  object\n",
      "dtypes: int64(1), object(3)\n",
      "memory usage: 351.0 MB\n"
     ]
    }
   ],
   "source": [
    "tracks.info(memory_usage='deep')"
   ]
  },
  {
   "cell_type": "code",
   "execution_count": 15,
   "id": "baa58ba6",
   "metadata": {},
   "outputs": [
    {
     "data": {
      "text/html": [
       "<div>\n",
       "<style scoped>\n",
       "    .dataframe tbody tr th:only-of-type {\n",
       "        vertical-align: middle;\n",
       "    }\n",
       "\n",
       "    .dataframe tbody tr th {\n",
       "        vertical-align: top;\n",
       "    }\n",
       "\n",
       "    .dataframe thead th {\n",
       "        text-align: right;\n",
       "    }\n",
       "</style>\n",
       "<table border=\"1\" class=\"dataframe\">\n",
       "  <thead>\n",
       "    <tr style=\"text-align: right;\">\n",
       "      <th></th>\n",
       "      <th>track_id</th>\n",
       "      <th>albums</th>\n",
       "      <th>artists</th>\n",
       "      <th>genres</th>\n",
       "    </tr>\n",
       "  </thead>\n",
       "  <tbody>\n",
       "    <tr>\n",
       "      <th>0</th>\n",
       "      <td>26</td>\n",
       "      <td>[3, 2490753]</td>\n",
       "      <td>[16]</td>\n",
       "      <td>[11, 21]</td>\n",
       "    </tr>\n",
       "    <tr>\n",
       "      <th>1</th>\n",
       "      <td>38</td>\n",
       "      <td>[3, 2490753]</td>\n",
       "      <td>[16]</td>\n",
       "      <td>[11, 21]</td>\n",
       "    </tr>\n",
       "    <tr>\n",
       "      <th>2</th>\n",
       "      <td>135</td>\n",
       "      <td>[12, 214, 2490809]</td>\n",
       "      <td>[84]</td>\n",
       "      <td>[11]</td>\n",
       "    </tr>\n",
       "  </tbody>\n",
       "</table>\n",
       "</div>"
      ],
      "text/plain": [
       "   track_id              albums artists    genres\n",
       "0        26        [3, 2490753]    [16]  [11, 21]\n",
       "1        38        [3, 2490753]    [16]  [11, 21]\n",
       "2       135  [12, 214, 2490809]    [84]      [11]"
      ]
     },
     "execution_count": 15,
     "metadata": {},
     "output_type": "execute_result"
    }
   ],
   "source": [
    "# визуальный отсмотр\n",
    "tracks.head(3)"
   ]
  },
  {
   "cell_type": "code",
   "execution_count": 16,
   "id": "d434be1e",
   "metadata": {},
   "outputs": [
    {
     "name": "stdout",
     "output_type": "stream",
     "text": [
      "Memory usage in MB:\n",
      "Index       0.00\n",
      "track_id    3.81\n",
      "albums     69.65\n",
      "artists    55.42\n",
      "genres     58.39\n",
      "Total memory usage 187.3 MB\n"
     ]
    }
   ],
   "source": [
    "# Оптимизируем типы даныых\n",
    "tracks = tracks.reset_index(drop=True)\n",
    "tracks['track_id'] = tracks['track_id'].astype('int32')\n",
    "tracks[['albums', 'artists', 'genres']] = (\n",
    "    tracks[['albums', 'artists', 'genres']]\n",
    "    .map(lambda x: tuple(x.astype('int32')))\n",
    ")\n",
    "\n",
    "# Объем в памяти после оптимизации\n",
    "print_deep_mem_usage(tracks)"
   ]
  },
  {
   "cell_type": "code",
   "execution_count": 17,
   "id": "7702235a",
   "metadata": {},
   "outputs": [],
   "source": [
    "# Исходное число треков\n",
    "track_count_initial = len(tracks)"
   ]
  },
  {
   "cell_type": "code",
   "execution_count": 18,
   "id": "4b2b2982",
   "metadata": {},
   "outputs": [
    {
     "data": {
      "text/plain": [
       "0"
      ]
     },
     "execution_count": 18,
     "metadata": {},
     "output_type": "execute_result"
    }
   ],
   "source": [
    "# дубликаты по 'track_id' -> отсутствуют\n",
    "tracks['track_id'].duplicated().sum()"
   ]
  },
  {
   "cell_type": "code",
   "execution_count": 19,
   "id": "3b94e5cc",
   "metadata": {},
   "outputs": [
    {
     "data": {
      "text/plain": [
       "set()"
      ]
     },
     "execution_count": 19,
     "metadata": {},
     "output_type": "execute_result"
    }
   ],
   "source": [
    "# Все ли track_id есть в справочнике -> да, все\n",
    "set(tracks['track_id']) - set(cat_names.query('type == \"track\"')['id'])"
   ]
  },
  {
   "cell_type": "code",
   "execution_count": 20,
   "id": "04066d70",
   "metadata": {},
   "outputs": [
    {
     "data": {
      "text/plain": [
       "{nan}"
      ]
     },
     "execution_count": 20,
     "metadata": {},
     "output_type": "execute_result"
    }
   ],
   "source": [
    "# все ли id альбомов есть в справочнике -> нет, не все: \n",
    "# встречаются пропуски (nan)\n",
    "(\n",
    "    set(tracks['albums'].explode().drop_duplicates()) \n",
    "    - set(cat_names.query('type == \"album\"')['id'])\n",
    ")"
   ]
  },
  {
   "cell_type": "code",
   "execution_count": 21,
   "id": "7531e4be",
   "metadata": {},
   "outputs": [
    {
     "name": "stdout",
     "output_type": "stream",
     "text": [
      "Tracks with broken \"albums\": 18 or 0.00% of total.\n",
      "\n",
      "Sample:\n"
     ]
    },
    {
     "data": {
      "text/html": [
       "<div>\n",
       "<style scoped>\n",
       "    .dataframe tbody tr th:only-of-type {\n",
       "        vertical-align: middle;\n",
       "    }\n",
       "\n",
       "    .dataframe tbody tr th {\n",
       "        vertical-align: top;\n",
       "    }\n",
       "\n",
       "    .dataframe thead th {\n",
       "        text-align: right;\n",
       "    }\n",
       "</style>\n",
       "<table border=\"1\" class=\"dataframe\">\n",
       "  <thead>\n",
       "    <tr style=\"text-align: right;\">\n",
       "      <th></th>\n",
       "      <th>track_id</th>\n",
       "      <th>albums</th>\n",
       "      <th>artists</th>\n",
       "      <th>genres</th>\n",
       "    </tr>\n",
       "  </thead>\n",
       "  <tbody>\n",
       "    <tr>\n",
       "      <th>310821</th>\n",
       "      <td>20200372</td>\n",
       "      <td>()</td>\n",
       "      <td>()</td>\n",
       "      <td>()</td>\n",
       "    </tr>\n",
       "    <tr>\n",
       "      <th>310826</th>\n",
       "      <td>20200380</td>\n",
       "      <td>()</td>\n",
       "      <td>()</td>\n",
       "      <td>()</td>\n",
       "    </tr>\n",
       "    <tr>\n",
       "      <th>312469</th>\n",
       "      <td>20305116</td>\n",
       "      <td>()</td>\n",
       "      <td>()</td>\n",
       "      <td>()</td>\n",
       "    </tr>\n",
       "  </tbody>\n",
       "</table>\n",
       "</div>"
      ],
      "text/plain": [
       "        track_id albums artists genres\n",
       "310821  20200372     ()      ()     ()\n",
       "310826  20200380     ()      ()     ()\n",
       "312469  20305116     ()      ()     ()"
      ]
     },
     "execution_count": 21,
     "metadata": {},
     "output_type": "execute_result"
    }
   ],
   "source": [
    "# визуальный осмотр битых идентификаторов альбомов\n",
    "track_ids_with_broken_albums = (\n",
    "    tracks\n",
    "    .explode('albums')\n",
    "    .query('albums.isna()')\n",
    "    ['track_id']\n",
    "    .drop_duplicates()\n",
    ")\n",
    "print(\n",
    "    f'Tracks with broken \"albums\": {len(track_ids_with_broken_albums)} '\n",
    "    f'or {len(track_ids_with_broken_albums) / track_count_initial :.2%} '\n",
    "    'of total.\\n\\nSample:'\n",
    ")\n",
    "tracks.query('track_id in @track_ids_with_broken_albums').head(3)"
   ]
  },
  {
   "cell_type": "markdown",
   "id": "8ecd4d10",
   "metadata": {},
   "source": [
    "__Проблема__: в данных о треках `tracks` есть 18 треков с отсутствующими (пустыми) значениями id альбомов.      \n",
    "_Решение_: удаляем такие треки из справочника (каталога)"
   ]
  },
  {
   "cell_type": "code",
   "execution_count": 22,
   "id": "7bcff35b",
   "metadata": {},
   "outputs": [],
   "source": [
    "# удаляем треки с битыми (пустыми) альбомами\n",
    "tracks = (\n",
    "    tracks\n",
    "    .query('track_id not in @track_ids_with_broken_albums')\n",
    "    .reset_index(drop=True)\n",
    ")\n",
    "del track_ids_with_broken_albums"
   ]
  },
  {
   "cell_type": "code",
   "execution_count": 23,
   "id": "29a09499",
   "metadata": {},
   "outputs": [
    {
     "data": {
      "text/plain": [
       "{nan}"
      ]
     },
     "execution_count": 23,
     "metadata": {},
     "output_type": "execute_result"
    }
   ],
   "source": [
    "# все ли id артистов есть в справочнике -> нет, не все: \n",
    "# встречаются пропуски (nan)\n",
    "(\n",
    "    set(tracks['artists'].explode().drop_duplicates()) \n",
    "    - set(cat_names.query('type == \"artist\"')['id'])\n",
    ")"
   ]
  },
  {
   "cell_type": "code",
   "execution_count": 24,
   "id": "6e02ccda",
   "metadata": {},
   "outputs": [
    {
     "name": "stdout",
     "output_type": "stream",
     "text": [
      "Tracks with broken \"artists\": 15351 or 1.54% of total.\n",
      "\n",
      "Sample:\n"
     ]
    },
    {
     "data": {
      "text/html": [
       "<div>\n",
       "<style scoped>\n",
       "    .dataframe tbody tr th:only-of-type {\n",
       "        vertical-align: middle;\n",
       "    }\n",
       "\n",
       "    .dataframe tbody tr th {\n",
       "        vertical-align: top;\n",
       "    }\n",
       "\n",
       "    .dataframe thead th {\n",
       "        text-align: right;\n",
       "    }\n",
       "</style>\n",
       "<table border=\"1\" class=\"dataframe\">\n",
       "  <thead>\n",
       "    <tr style=\"text-align: right;\">\n",
       "      <th></th>\n",
       "      <th>track_id</th>\n",
       "      <th>albums</th>\n",
       "      <th>artists</th>\n",
       "      <th>genres</th>\n",
       "    </tr>\n",
       "  </thead>\n",
       "  <tbody>\n",
       "    <tr>\n",
       "      <th>146031</th>\n",
       "      <td>3599314</td>\n",
       "      <td>(389925,)</td>\n",
       "      <td>()</td>\n",
       "      <td>(68, 86)</td>\n",
       "    </tr>\n",
       "    <tr>\n",
       "      <th>146163</th>\n",
       "      <td>3599591</td>\n",
       "      <td>(389944,)</td>\n",
       "      <td>()</td>\n",
       "      <td>(68, 86)</td>\n",
       "    </tr>\n",
       "    <tr>\n",
       "      <th>177544</th>\n",
       "      <td>4790215</td>\n",
       "      <td>(533785,)</td>\n",
       "      <td>()</td>\n",
       "      <td>(68, 86)</td>\n",
       "    </tr>\n",
       "  </tbody>\n",
       "</table>\n",
       "</div>"
      ],
      "text/plain": [
       "        track_id     albums artists    genres\n",
       "146031   3599314  (389925,)      ()  (68, 86)\n",
       "146163   3599591  (389944,)      ()  (68, 86)\n",
       "177544   4790215  (533785,)      ()  (68, 86)"
      ]
     },
     "execution_count": 24,
     "metadata": {},
     "output_type": "execute_result"
    }
   ],
   "source": [
    "# визуальный осмотр битых идентификаторов артистов\n",
    "track_ids_with_broken_artists = (\n",
    "    tracks\n",
    "    .explode('artists')\n",
    "    .query('artists.isna()')\n",
    "    ['track_id']\n",
    "    .drop_duplicates()\n",
    ")\n",
    "print(\n",
    "    f'Tracks with broken \"artists\": {len(track_ids_with_broken_artists)} '\n",
    "    f'or {len(track_ids_with_broken_artists) / track_count_initial :.2%} '\n",
    "    'of total.\\n\\nSample:'\n",
    ")\n",
    "tracks.query('track_id in @track_ids_with_broken_artists').head(3)"
   ]
  },
  {
   "cell_type": "markdown",
   "id": "31c93bbf",
   "metadata": {},
   "source": [
    "__Проблема__: в данных о треках `tracks` есть ~1.5% треков с отсутствующими (пустыми) значениями id артистов.      \n",
    "_Решение_: удаляем такие треки из справочника (каталога)"
   ]
  },
  {
   "cell_type": "code",
   "execution_count": 25,
   "id": "18196204",
   "metadata": {},
   "outputs": [],
   "source": [
    "# удаляем треки с битыми (пустыми) идентификаторами артистов\n",
    "tracks = (\n",
    "    tracks\n",
    "    .query('track_id not in @track_ids_with_broken_artists')\n",
    "    .reset_index(drop=True)\n",
    ")\n",
    "\n",
    "del track_ids_with_broken_artists"
   ]
  },
  {
   "cell_type": "code",
   "execution_count": 26,
   "id": "2a97e399",
   "metadata": {},
   "outputs": [
    {
     "name": "stdout",
     "output_type": "stream",
     "text": [
      "130 131 132 133 134 135 146 148 150 151 152 153 154 155 156 157 158 159 160 161 162 163 164 165 166 167 168 169 nan 124 126\n"
     ]
    }
   ],
   "source": [
    "# все ли id жанров есть в справочнике -> нет, не все: \n",
    "# встречаются как пропуски (nan) так и безимянные жанры\n",
    "genre_ids_missing = (\n",
    "    set(tracks['genres'].explode().drop_duplicates()) \n",
    "    - set(cat_names.query('type == \"genre\"')['id'])\n",
    ")\n",
    "print(*genre_ids_missing)"
   ]
  },
  {
   "cell_type": "code",
   "execution_count": 27,
   "id": "e122e79b",
   "metadata": {},
   "outputs": [
    {
     "name": "stdout",
     "output_type": "stream",
     "text": [
      "Tracks with broken \"genres\": 51967 or 5.20% of total.\n",
      "\n",
      "Sample:\n"
     ]
    },
    {
     "data": {
      "text/html": [
       "<div>\n",
       "<style scoped>\n",
       "    .dataframe tbody tr th:only-of-type {\n",
       "        vertical-align: middle;\n",
       "    }\n",
       "\n",
       "    .dataframe tbody tr th {\n",
       "        vertical-align: top;\n",
       "    }\n",
       "\n",
       "    .dataframe thead th {\n",
       "        text-align: right;\n",
       "    }\n",
       "</style>\n",
       "<table border=\"1\" class=\"dataframe\">\n",
       "  <thead>\n",
       "    <tr style=\"text-align: right;\">\n",
       "      <th></th>\n",
       "      <th>track_id</th>\n",
       "      <th>albums</th>\n",
       "      <th>artists</th>\n",
       "      <th>genres</th>\n",
       "    </tr>\n",
       "  </thead>\n",
       "  <tbody>\n",
       "    <tr>\n",
       "      <th>36</th>\n",
       "      <td>436</td>\n",
       "      <td>(36,)</td>\n",
       "      <td>(330,)</td>\n",
       "      <td>(28, 164)</td>\n",
       "    </tr>\n",
       "    <tr>\n",
       "      <th>59</th>\n",
       "      <td>594</td>\n",
       "      <td>(54, 88, 5479, 5785124, 9198099, 9231427, 1088...</td>\n",
       "      <td>(533,)</td>\n",
       "      <td>(28, 162)</td>\n",
       "    </tr>\n",
       "    <tr>\n",
       "      <th>125</th>\n",
       "      <td>1025</td>\n",
       "      <td>(94, 2325, 8757, 8986, 318695, 17004129)</td>\n",
       "      <td>(937,)</td>\n",
       "      <td>(28, 162)</td>\n",
       "    </tr>\n",
       "  </tbody>\n",
       "</table>\n",
       "</div>"
      ],
      "text/plain": [
       "     track_id                                             albums artists  \\\n",
       "36        436                                              (36,)  (330,)   \n",
       "59        594  (54, 88, 5479, 5785124, 9198099, 9231427, 1088...  (533,)   \n",
       "125      1025           (94, 2325, 8757, 8986, 318695, 17004129)  (937,)   \n",
       "\n",
       "        genres  \n",
       "36   (28, 164)  \n",
       "59   (28, 162)  \n",
       "125  (28, 162)  "
      ]
     },
     "execution_count": 27,
     "metadata": {},
     "output_type": "execute_result"
    }
   ],
   "source": [
    "# визуальный осмотр битых идентификаторов жанров\n",
    "track_ids_with_broken_genres = (\n",
    "    tracks\n",
    "    .explode('genres')\n",
    "    .query('genres in @genre_ids_missing') \n",
    "    ['track_id']\n",
    "    .drop_duplicates()\n",
    ")\n",
    "print(\n",
    "    f'Tracks with broken \"genres\": {len(track_ids_with_broken_genres)} '\n",
    "    f'or {len(track_ids_with_broken_genres) / track_count_initial :.2%} '\n",
    "    'of total.\\n\\nSample:'\n",
    ")\n",
    "tracks.query('track_id in @track_ids_with_broken_genres').head(3)"
   ]
  },
  {
   "cell_type": "markdown",
   "id": "f8ea2825",
   "metadata": {},
   "source": [
    "__Проблема__: в данных о треках `tracks` есть ~5% треков с неизвестными или отсутствующими (пустыми) значениями id жанров.      \n",
    "_Решение_: удаляем такие треки из справочника (каталога)"
   ]
  },
  {
   "cell_type": "code",
   "execution_count": 28,
   "id": "fa851425",
   "metadata": {},
   "outputs": [],
   "source": [
    "# удаляем треки с неизвестными иои пустыми идентификаторами жанров\n",
    "tracks = (\n",
    "    tracks\n",
    "    .query('track_id not in @track_ids_with_broken_genres')\n",
    "    .reset_index(drop=True)\n",
    ")\n",
    "del genre_ids_missing, track_ids_with_broken_genres"
   ]
  },
  {
   "cell_type": "code",
   "execution_count": 29,
   "id": "367b9d1d",
   "metadata": {},
   "outputs": [
    {
     "name": "stdout",
     "output_type": "stream",
     "text": [
      "Cleaned tracks: 932664 or 93.27% of inital count.\n"
     ]
    }
   ],
   "source": [
    "# сколько треков осталось после чистки данных\n",
    "print(\n",
    "    f'Cleaned tracks: {len(tracks)} '\n",
    "    f'or {len(tracks) / track_count_initial:.2%} of inital count.'\n",
    ")"
   ]
  },
  {
   "cell_type": "code",
   "execution_count": 30,
   "id": "3524c111",
   "metadata": {},
   "outputs": [],
   "source": [
    "# Приборка\n",
    "del track_count_initial"
   ]
  },
  {
   "cell_type": "markdown",
   "id": "f501a044",
   "metadata": {},
   "source": [
    "##### 1.2.3 interactions - взаимодействия пользователей с треками"
   ]
  },
  {
   "cell_type": "code",
   "execution_count": 31,
   "id": "956b5e9e",
   "metadata": {},
   "outputs": [
    {
     "name": "stdout",
     "output_type": "stream",
     "text": [
      "<class 'pandas.core.frame.DataFrame'>\n",
      "Index: 222629898 entries, 0 to 291\n",
      "Data columns (total 4 columns):\n",
      " #   Column      Dtype         \n",
      "---  ------      -----         \n",
      " 0   user_id     int32         \n",
      " 1   track_id    int32         \n",
      " 2   track_seq   int16         \n",
      " 3   started_at  datetime64[ns]\n",
      "dtypes: datetime64[ns](1), int16(1), int32(2)\n",
      "memory usage: 5.4 GB\n"
     ]
    }
   ],
   "source": [
    "interactions.info(memory_usage='deep')"
   ]
  },
  {
   "cell_type": "code",
   "execution_count": 32,
   "id": "da8f9d3b",
   "metadata": {},
   "outputs": [
    {
     "data": {
      "text/html": [
       "<div>\n",
       "<style scoped>\n",
       "    .dataframe tbody tr th:only-of-type {\n",
       "        vertical-align: middle;\n",
       "    }\n",
       "\n",
       "    .dataframe tbody tr th {\n",
       "        vertical-align: top;\n",
       "    }\n",
       "\n",
       "    .dataframe thead th {\n",
       "        text-align: right;\n",
       "    }\n",
       "</style>\n",
       "<table border=\"1\" class=\"dataframe\">\n",
       "  <thead>\n",
       "    <tr style=\"text-align: right;\">\n",
       "      <th></th>\n",
       "      <th>user_id</th>\n",
       "      <th>track_id</th>\n",
       "      <th>track_seq</th>\n",
       "      <th>started_at</th>\n",
       "    </tr>\n",
       "  </thead>\n",
       "  <tbody>\n",
       "    <tr>\n",
       "      <th>0</th>\n",
       "      <td>0</td>\n",
       "      <td>99262</td>\n",
       "      <td>1</td>\n",
       "      <td>2022-07-17</td>\n",
       "    </tr>\n",
       "    <tr>\n",
       "      <th>1</th>\n",
       "      <td>0</td>\n",
       "      <td>589498</td>\n",
       "      <td>2</td>\n",
       "      <td>2022-07-19</td>\n",
       "    </tr>\n",
       "    <tr>\n",
       "      <th>2</th>\n",
       "      <td>0</td>\n",
       "      <td>590262</td>\n",
       "      <td>3</td>\n",
       "      <td>2022-07-21</td>\n",
       "    </tr>\n",
       "  </tbody>\n",
       "</table>\n",
       "</div>"
      ],
      "text/plain": [
       "   user_id  track_id  track_seq started_at\n",
       "0        0     99262          1 2022-07-17\n",
       "1        0    589498          2 2022-07-19\n",
       "2        0    590262          3 2022-07-21"
      ]
     },
     "execution_count": 32,
     "metadata": {},
     "output_type": "execute_result"
    }
   ],
   "source": [
    "# визуальный осмотр данных\n",
    "interactions.head(3)"
   ]
  },
  {
   "cell_type": "code",
   "execution_count": 33,
   "id": "0623083d",
   "metadata": {},
   "outputs": [
    {
     "data": {
      "text/plain": [
       "Timedelta('1 days 00:00:00')"
      ]
     },
     "execution_count": 33,
     "metadata": {},
     "output_type": "execute_result"
    }
   ],
   "source": [
    "# Посмотрим на фактическую дискретность временных меток\n",
    "interactions['started_at'].drop_duplicates().sort_values().diff().min()"
   ]
  },
  {
   "cell_type": "code",
   "execution_count": 34,
   "id": "4911c7ec",
   "metadata": {},
   "outputs": [
    {
     "name": "stdout",
     "output_type": "stream",
     "text": [
      "Memory usage in MB:\n",
      "Index          0.00\n",
      "user_id      849.27\n",
      "track_id     849.27\n",
      "track_seq    424.63\n",
      "started_at   424.64\n",
      "Total memory usage 2547.8 MB\n"
     ]
    }
   ],
   "source": [
    "# Оптимизация типов \n",
    "interactions = interactions.reset_index(drop=True)\n",
    "interactions['started_at'] = interactions['started_at'].astype('category')\n",
    "\n",
    "# Размер в памяти после оптимизации\n",
    "print_deep_mem_usage(interactions)"
   ]
  },
  {
   "cell_type": "code",
   "execution_count": 35,
   "id": "5aad596c",
   "metadata": {},
   "outputs": [],
   "source": [
    "# исходное число записей о взаимодействиях\n",
    "interactions_count_initial = len(interactions)"
   ]
  },
  {
   "cell_type": "code",
   "execution_count": 36,
   "id": "f2ff27d1",
   "metadata": {},
   "outputs": [
    {
     "name": "stdout",
     "output_type": "stream",
     "text": [
      "Interactions with unknown tracks: 3.55% of total.\n"
     ]
    }
   ],
   "source": [
    "# Оценим кол-во взаимодействий с треками отсутствующими в справочнике tracks\n",
    "\n",
    "# ids известных треков\n",
    "known_track_ids = set(tracks['track_id'])\n",
    "\n",
    "# взаимодействия с неизвестными треками\n",
    "interactions_with_unknown_tracks = (\n",
    "    interactions.query(\"track_id not in @known_track_ids\")\n",
    ")\n",
    "print(\n",
    "    'Interactions with unknown tracks: '\n",
    "    f'{len(interactions_with_unknown_tracks) / interactions_count_initial:.2%} '\n",
    "    'of total.'\n",
    ")\n",
    "del interactions_with_unknown_tracks"
   ]
  },
  {
   "cell_type": "markdown",
   "id": "38cbcb46",
   "metadata": {},
   "source": [
    "Около 3% взаимодействий приходятся на треки, отсутствующие в каталоге (справочнике) `tracks`.       \n",
    "_Решение_ Удаляем такие прослушивания из `interactions`"
   ]
  },
  {
   "cell_type": "code",
   "execution_count": 37,
   "id": "13fc226a",
   "metadata": {},
   "outputs": [],
   "source": [
    "# Удаляем данные о прослушивании 'неизвестных' (или 'битых') треков\n",
    "interactions = (\n",
    "    interactions\n",
    "    .query('track_id in @known_track_ids')\n",
    "    .reset_index(drop=True)\n",
    ")\n",
    "del known_track_ids"
   ]
  },
  {
   "cell_type": "raw",
   "id": "50b0b187",
   "metadata": {
    "vscode": {
     "languageId": "raw"
    }
   },
   "source": [
    "# Присутствуют ли дубликаты для связки 'user_id','track_id' -> отсутствуют\n",
    "interactions[['user_id','track_id']].duplicated().sum()"
   ]
  },
  {
   "cell_type": "raw",
   "id": "81582760",
   "metadata": {
    "vscode": {
     "languageId": "raw"
    }
   },
   "source": [
    "# Присутствуют ли дубликаты для связки 'user_id','track_seq' -> отсутствуют\n",
    "interactions[['user_id','track_seq']].duplicated().sum()"
   ]
  },
  {
   "cell_type": "code",
   "execution_count": 38,
   "id": "efc5d893",
   "metadata": {},
   "outputs": [
    {
     "name": "stdout",
     "output_type": "stream",
     "text": [
      "Cleaned interactions: 214720738 or 96.45% of inital count.\n"
     ]
    }
   ],
   "source": [
    "# сколько взаимодействий осталось после чистки данных\n",
    "print(\n",
    "    f'Cleaned interactions: {len(interactions)} '\n",
    "    f'or {len(interactions) / interactions_count_initial:.2%} of inital count.'\n",
    ")"
   ]
  },
  {
   "cell_type": "code",
   "execution_count": 39,
   "id": "025e17df",
   "metadata": {},
   "outputs": [],
   "source": [
    "# Приборка\n",
    "del interactions_count_initial"
   ]
  },
  {
   "cell_type": "markdown",
   "id": "318b573a-9e2d-4808-95db-60cfb8bbdb73",
   "metadata": {
    "editable": true,
    "slideshow": {
     "slide_type": ""
    },
    "tags": []
   },
   "source": [
    "#### 1.3 Выводы"
   ]
  },
  {
   "cell_type": "markdown",
   "id": "f58cd010-c2fa-475f-b7e9-767965cd4f55",
   "metadata": {},
   "source": [
    "Проблемы с данными в исходных датасетах:\n",
    "- в каталоге `cat_names` около половины(!) треков и трети альбомов имеют повторяющиеся (дублированные) имена,    \n",
    "    - _Решение_: оставляем как есть, корректировку (слияние) дубликатов в справочниках пока не проводим.\n",
    "- в данных о треках `tracks` есть 18 треков с отсутствующими (пустыми) значениями id альбомов,\n",
    "    - _Решение_: удаляем такие треки из справочника (каталога)\n",
    "- в данных о треках `tracks` есть ~1.5% треков с отсутствующими (пустыми) значениями id артистов.      \n",
    "    - _Решение_: удаляем такие треки из справочника (каталога)\n",
    "- в данных о треках `tracks` есть ~5% треков с неизвестными или отсутствующими (пустыми) значениями id жанров.      \n",
    "    - _Решение_: удаляем такие треки из справочника (каталога)\n",
    "- Около 3% взаимодействий приходятся на треки, отсутствующие в 'почищенном' каталоге (справочнике) `tracks`.       \n",
    "    - _Решение:_ Удаляем такие прослушивания из `interactions`\n",
    "- очевидных проблем с идентификаторами (ids) не обнаружено"
   ]
  },
  {
   "cell_type": "markdown",
   "id": "7bc3296b-eba6-4333-a78d-b9304aa87e3d",
   "metadata": {},
   "source": [
    "### 2. Второй этап"
   ]
  },
  {
   "cell_type": "markdown",
   "id": "3c0ac272",
   "metadata": {},
   "source": [
    "#### 2.1 Преобразование данных"
   ]
  },
  {
   "cell_type": "markdown",
   "id": "f92c01c1",
   "metadata": {},
   "source": [
    "Преобразуем данные в формат, более пригодный для дальнейшего использования в расчётах рекомендаций."
   ]
  },
  {
   "cell_type": "code",
   "execution_count": 40,
   "id": "8b7089f5",
   "metadata": {},
   "outputs": [],
   "source": [
    "# Создадим объеккт items\n",
    "items = (\n",
    "    tracks.copy().rename(columns={'track_id': 'item_id'}).reset_index(drop=True)\n",
    ")"
   ]
  },
  {
   "cell_type": "code",
   "execution_count": 41,
   "id": "1e12e6a4",
   "metadata": {},
   "outputs": [
    {
     "data": {
      "text/html": [
       "<div>\n",
       "<style scoped>\n",
       "    .dataframe tbody tr th:only-of-type {\n",
       "        vertical-align: middle;\n",
       "    }\n",
       "\n",
       "    .dataframe tbody tr th {\n",
       "        vertical-align: top;\n",
       "    }\n",
       "\n",
       "    .dataframe thead th {\n",
       "        text-align: right;\n",
       "    }\n",
       "</style>\n",
       "<table border=\"1\" class=\"dataframe\">\n",
       "  <thead>\n",
       "    <tr style=\"text-align: right;\">\n",
       "      <th></th>\n",
       "      <th>item_id</th>\n",
       "      <th>albums</th>\n",
       "      <th>artists</th>\n",
       "      <th>genres</th>\n",
       "      <th>item_name</th>\n",
       "    </tr>\n",
       "  </thead>\n",
       "  <tbody>\n",
       "    <tr>\n",
       "      <th>0</th>\n",
       "      <td>26</td>\n",
       "      <td>(3, 2490753)</td>\n",
       "      <td>(16,)</td>\n",
       "      <td>(11, 21)</td>\n",
       "      <td>Complimentary Me</td>\n",
       "    </tr>\n",
       "    <tr>\n",
       "      <th>1</th>\n",
       "      <td>38</td>\n",
       "      <td>(3, 2490753)</td>\n",
       "      <td>(16,)</td>\n",
       "      <td>(11, 21)</td>\n",
       "      <td>Momma's Boy</td>\n",
       "    </tr>\n",
       "    <tr>\n",
       "      <th>2</th>\n",
       "      <td>135</td>\n",
       "      <td>(12, 214, 2490809)</td>\n",
       "      <td>(84,)</td>\n",
       "      <td>(11,)</td>\n",
       "      <td>Atticus</td>\n",
       "    </tr>\n",
       "  </tbody>\n",
       "</table>\n",
       "</div>"
      ],
      "text/plain": [
       "   item_id              albums artists    genres         item_name\n",
       "0       26        (3, 2490753)   (16,)  (11, 21)  Complimentary Me\n",
       "1       38        (3, 2490753)   (16,)  (11, 21)       Momma's Boy\n",
       "2      135  (12, 214, 2490809)   (84,)     (11,)           Atticus"
      ]
     },
     "execution_count": 41,
     "metadata": {},
     "output_type": "execute_result"
    }
   ],
   "source": [
    "# Добавим к items строковое имя трека из каталога\n",
    "items = items.join(\n",
    "    cat_names.query('type == \"track\"').set_index('id')['name'],\n",
    "    on='item_id'\n",
    ").rename(columns={'name': 'item_name'})\n",
    "\n",
    "# Визуальная проверка\n",
    "items.head(3)"
   ]
  },
  {
   "cell_type": "code",
   "execution_count": 42,
   "id": "a48dc686",
   "metadata": {},
   "outputs": [
    {
     "data": {
      "text/html": [
       "<div>\n",
       "<style scoped>\n",
       "    .dataframe tbody tr th:only-of-type {\n",
       "        vertical-align: middle;\n",
       "    }\n",
       "\n",
       "    .dataframe tbody tr th {\n",
       "        vertical-align: top;\n",
       "    }\n",
       "\n",
       "    .dataframe thead th {\n",
       "        text-align: right;\n",
       "    }\n",
       "</style>\n",
       "<table border=\"1\" class=\"dataframe\">\n",
       "  <thead>\n",
       "    <tr style=\"text-align: right;\">\n",
       "      <th></th>\n",
       "      <th>item_id</th>\n",
       "      <th>albums</th>\n",
       "      <th>artists</th>\n",
       "      <th>genres</th>\n",
       "      <th>item_name</th>\n",
       "      <th>albums_names</th>\n",
       "      <th>artists_names</th>\n",
       "      <th>genres_names</th>\n",
       "    </tr>\n",
       "  </thead>\n",
       "  <tbody>\n",
       "    <tr>\n",
       "      <th>0</th>\n",
       "      <td>26</td>\n",
       "      <td>(3, 2490753)</td>\n",
       "      <td>(16,)</td>\n",
       "      <td>(11, 21)</td>\n",
       "      <td>Complimentary Me</td>\n",
       "      <td>(Taller Children, Taller Children)</td>\n",
       "      <td>(Elizabeth &amp; the Catapult,)</td>\n",
       "      <td>(pop, folk)</td>\n",
       "    </tr>\n",
       "    <tr>\n",
       "      <th>1</th>\n",
       "      <td>38</td>\n",
       "      <td>(3, 2490753)</td>\n",
       "      <td>(16,)</td>\n",
       "      <td>(11, 21)</td>\n",
       "      <td>Momma's Boy</td>\n",
       "      <td>(Taller Children, Taller Children)</td>\n",
       "      <td>(Elizabeth &amp; the Catapult,)</td>\n",
       "      <td>(pop, folk)</td>\n",
       "    </tr>\n",
       "    <tr>\n",
       "      <th>2</th>\n",
       "      <td>135</td>\n",
       "      <td>(12, 214, 2490809)</td>\n",
       "      <td>(84,)</td>\n",
       "      <td>(11,)</td>\n",
       "      <td>Atticus</td>\n",
       "      <td>(Wild Young Hearts, Wild Young Hearts, Wild Yo...</td>\n",
       "      <td>(Noisettes,)</td>\n",
       "      <td>(pop,)</td>\n",
       "    </tr>\n",
       "  </tbody>\n",
       "</table>\n",
       "</div>"
      ],
      "text/plain": [
       "   item_id              albums artists    genres         item_name  \\\n",
       "0       26        (3, 2490753)   (16,)  (11, 21)  Complimentary Me   \n",
       "1       38        (3, 2490753)   (16,)  (11, 21)       Momma's Boy   \n",
       "2      135  (12, 214, 2490809)   (84,)     (11,)           Atticus   \n",
       "\n",
       "                                        albums_names  \\\n",
       "0                 (Taller Children, Taller Children)   \n",
       "1                 (Taller Children, Taller Children)   \n",
       "2  (Wild Young Hearts, Wild Young Hearts, Wild Yo...   \n",
       "\n",
       "                 artists_names genres_names  \n",
       "0  (Elizabeth & the Catapult,)  (pop, folk)  \n",
       "1  (Elizabeth & the Catapult,)  (pop, folk)  \n",
       "2                 (Noisettes,)       (pop,)  "
      ]
     },
     "execution_count": 42,
     "metadata": {},
     "output_type": "execute_result"
    }
   ],
   "source": [
    "# Добавляем к items имена альбомов, артистов и жанров из каталога\n",
    "\n",
    "# Создаем словари типа {id: строковое_имя}\n",
    "albums_names = (cat_names.query('type == \"album\"').set_index('id')['name']\n",
    "               .to_dict())\n",
    "artists_names = (cat_names.query('type == \"artist\"').set_index('id')['name']\n",
    "                 .to_dict())\n",
    "genres_names = (cat_names.query('type == \"genre\"').set_index('id')['name']\n",
    "               .to_dict())\n",
    "\n",
    "# Функции преобрабования кортежа с ids (int) в кортеж с именами (строками)\n",
    "get_albums_names = lambda x: tuple(map(albums_names.__getitem__, x))\n",
    "get_artists_names = lambda x: tuple(map(artists_names.__getitem__, x))\n",
    "get_genres_names = lambda x: tuple(map(genres_names.__getitem__, x))\n",
    "\n",
    "items['albums_names'] = items['albums'].map(get_albums_names)\n",
    "items['artists_names'] = items['artists'].map(get_artists_names)\n",
    "items['genres_names'] = items['genres'].map(get_genres_names)\n",
    "\n",
    "del (albums_names, artists_names, genres_names, get_albums_names,\n",
    "     get_artists_names, get_genres_names)\n",
    "\n",
    "# Визуальна проверка\n",
    "items.head(3)"
   ]
  },
  {
   "cell_type": "code",
   "execution_count": 43,
   "id": "b92b6b7f",
   "metadata": {},
   "outputs": [
    {
     "name": "stdout",
     "output_type": "stream",
     "text": [
      "Total memory usage 466.5 MB\n"
     ]
    }
   ],
   "source": [
    "# Проверим, что items не раздуло в пямяти после присоеденинения строковых имен\n",
    "print_deep_mem_usage(items, columns_info=False)"
   ]
  },
  {
   "cell_type": "code",
   "execution_count": 44,
   "id": "10268bee",
   "metadata": {},
   "outputs": [],
   "source": [
    "# Создадим объект events\n",
    "events = interactions.copy().rename(columns={'track_id': 'item_id'})"
   ]
  },
  {
   "cell_type": "code",
   "execution_count": 45,
   "id": "3f43807e",
   "metadata": {},
   "outputs": [],
   "source": [
    "# Приберемся - cat_names, interactions, tracks больше не нужны\n",
    "del cat_names, interactions, tracks"
   ]
  },
  {
   "cell_type": "markdown",
   "id": "68e73960-fd38-4e15-8db0-9a25c35dfd25",
   "metadata": {},
   "source": [
    "#### 2.2 EDA"
   ]
  },
  {
   "cell_type": "code",
   "execution_count": 46,
   "id": "9f5b998c",
   "metadata": {},
   "outputs": [
    {
     "data": {
      "text/plain": [
       "1372042"
      ]
     },
     "execution_count": 46,
     "metadata": {},
     "output_type": "execute_result"
    }
   ],
   "source": [
    "events['user_id'].nunique()"
   ]
  },
  {
   "cell_type": "markdown",
   "id": "85ea3991",
   "metadata": {},
   "source": [
    "Общее кол-во уникальных пользователей в выборке около 1.3 млн."
   ]
  },
  {
   "cell_type": "code",
   "execution_count": 47,
   "id": "9bf5eaba-35f7-4da7-be59-9ab4a34b2423",
   "metadata": {},
   "outputs": [
    {
     "data": {
      "text/html": [
       "<div>\n",
       "<style scoped>\n",
       "    .dataframe tbody tr th:only-of-type {\n",
       "        vertical-align: middle;\n",
       "    }\n",
       "\n",
       "    .dataframe tbody tr th {\n",
       "        vertical-align: top;\n",
       "    }\n",
       "\n",
       "    .dataframe thead th {\n",
       "        text-align: right;\n",
       "    }\n",
       "</style>\n",
       "<table border=\"1\" class=\"dataframe\">\n",
       "  <thead>\n",
       "    <tr style=\"text-align: right;\">\n",
       "      <th></th>\n",
       "      <th>tracks_listened</th>\n",
       "    </tr>\n",
       "  </thead>\n",
       "  <tbody>\n",
       "    <tr>\n",
       "      <th>count</th>\n",
       "      <td>1372042</td>\n",
       "    </tr>\n",
       "    <tr>\n",
       "      <th>mean</th>\n",
       "      <td>156</td>\n",
       "    </tr>\n",
       "    <tr>\n",
       "      <th>std</th>\n",
       "      <td>335</td>\n",
       "    </tr>\n",
       "    <tr>\n",
       "      <th>min</th>\n",
       "      <td>1</td>\n",
       "    </tr>\n",
       "    <tr>\n",
       "      <th>25%</th>\n",
       "      <td>22</td>\n",
       "    </tr>\n",
       "    <tr>\n",
       "      <th>50%</th>\n",
       "      <td>54</td>\n",
       "    </tr>\n",
       "    <tr>\n",
       "      <th>75%</th>\n",
       "      <td>149</td>\n",
       "    </tr>\n",
       "    <tr>\n",
       "      <th>max</th>\n",
       "      <td>16609</td>\n",
       "    </tr>\n",
       "  </tbody>\n",
       "</table>\n",
       "</div>"
      ],
      "text/plain": [
       "       tracks_listened\n",
       "count          1372042\n",
       "mean               156\n",
       "std                335\n",
       "min                  1\n",
       "25%                 22\n",
       "50%                 54\n",
       "75%                149\n",
       "max              16609"
      ]
     },
     "execution_count": 47,
     "metadata": {},
     "output_type": "execute_result"
    }
   ],
   "source": [
    "# Кол-во прослушанных треков по пользователям\n",
    "track_count_by_user = (\n",
    "    events.groupby('user_id').agg(tracks_listened=('item_id', 'count'))\n",
    ")\n",
    "\n",
    "# Статистики по кол-ву прослушаных треков\n",
    "track_count_by_user.describe().astype('int')"
   ]
  },
  {
   "cell_type": "code",
   "execution_count": 48,
   "id": "74361126",
   "metadata": {},
   "outputs": [
    {
     "data": {
      "image/png": "[encoded data removed]",
      "text/plain": [
       "<Figure size 1500x500 with 1 Axes>"
      ]
     },
     "metadata": {},
     "output_type": "display_data"
    }
   ],
   "source": [
    "ax = sns.histplot(track_count_by_user, stat='percent', binwidth=5)\n",
    "ax.set_xlim(0, 300)\n",
    "ax.axvline(track_count_by_user['tracks_listened'].median(), color='blue',\n",
    "           linestyle='-', label='Median')\n",
    "ax.axvline(track_count_by_user['tracks_listened'].mean(), color='red',\n",
    "           linestyle='-', label='Mean')\n",
    "ax.legend()\n",
    "ax.set_title('Распределение числа треков прослушанных '\n",
    "             'одним пользователем')\n",
    "ax.plot()\n",
    "del ax, track_count_by_user"
   ]
  },
  {
   "cell_type": "markdown",
   "id": "f5139670",
   "metadata": {},
   "source": [
    "Медианное кол-ва прослушанных пользователем треков 54.      \n",
    "Из-за наличия достаточного кол-ва меломанов с большим числом прослушанных треков (>1000) среднее существенно выше и составляет 156."
   ]
  },
  {
   "cell_type": "markdown",
   "id": "b9d84e9a",
   "metadata": {},
   "source": [
    "Расчитаем индекс популярности треков:\n",
    "- для каждого трека считаем кол-во прослушавших его пользователей\n",
    "- нормируем от 0 до 1 (делим на кол-во пользователей, прослушавших самый популярный трек)"
   ]
  },
  {
   "cell_type": "code",
   "execution_count": 49,
   "id": "d765519a-18dd-4d30-9e29-cc2d84cacd79",
   "metadata": {},
   "outputs": [],
   "source": [
    "# Расчитаем индекс популярности треков:\n",
    "item_popularity = (\n",
    "    events\n",
    "    .groupby('item_id')\n",
    "    .agg(popularity=('user_id', 'count'))\n",
    "    .reset_index()\n",
    ")\n",
    "item_popularity['popularity'] /= item_popularity['popularity'].max()\n",
    "item_popularity['popularity'] = item_popularity['popularity'].astype('float32')\n",
    "\n",
    "# Добавим индекс популярности в таблицу items\n",
    "items = items.merge(item_popularity, on='item_id', how='left')\n",
    "items['popularity'] = items['popularity'].fillna(0)\n",
    "\n",
    "del item_popularity"
   ]
  },
  {
   "cell_type": "code",
   "execution_count": 50,
   "id": "0001d47e",
   "metadata": {},
   "outputs": [
    {
     "data": {
      "text/html": [
       "<div>\n",
       "<style scoped>\n",
       "    .dataframe tbody tr th:only-of-type {\n",
       "        vertical-align: middle;\n",
       "    }\n",
       "\n",
       "    .dataframe tbody tr th {\n",
       "        vertical-align: top;\n",
       "    }\n",
       "\n",
       "    .dataframe thead th {\n",
       "        text-align: right;\n",
       "    }\n",
       "</style>\n",
       "<table border=\"1\" class=\"dataframe\">\n",
       "  <thead>\n",
       "    <tr style=\"text-align: right;\">\n",
       "      <th></th>\n",
       "      <th>item_name</th>\n",
       "      <th>artists_names</th>\n",
       "      <th>genres_names</th>\n",
       "      <th>albums_names</th>\n",
       "      <th>popularity</th>\n",
       "    </tr>\n",
       "  </thead>\n",
       "  <tbody>\n",
       "    <tr>\n",
       "      <th>8215</th>\n",
       "      <td>Smells Like Teen Spirit</td>\n",
       "      <td>(Nirvana,)</td>\n",
       "      <td>(alternative, rock, allrock)</td>\n",
       "      <td>(Nevermind, Nirvana, Nevermind, Nevermind, Nev...</td>\n",
       "      <td>1.00</td>\n",
       "    </tr>\n",
       "    <tr>\n",
       "      <th>451664</th>\n",
       "      <td>Believer</td>\n",
       "      <td>(Imagine Dragons,)</td>\n",
       "      <td>(rock, allrock)</td>\n",
       "      <td>(Shape Of Pop, NOW That's What I Call Music, E...</td>\n",
       "      <td>0.96</td>\n",
       "    </tr>\n",
       "    <tr>\n",
       "      <th>24433</th>\n",
       "      <td>Numb</td>\n",
       "      <td>(Linkin Park,)</td>\n",
       "      <td>(numetal, metal)</td>\n",
       "      <td>(Meteora, Meteora, Meteora, Meteora, 00s Rock ...</td>\n",
       "      <td>0.92</td>\n",
       "    </tr>\n",
       "    <tr>\n",
       "      <th>478765</th>\n",
       "      <td>I Got Love</td>\n",
       "      <td>(Miyagi &amp; Эндшпиль, Рем Дигга)</td>\n",
       "      <td>(rusrap, rap)</td>\n",
       "      <td>(I Got Love, I Got Love)</td>\n",
       "      <td>0.90</td>\n",
       "    </tr>\n",
       "    <tr>\n",
       "      <th>774169</th>\n",
       "      <td>Юность</td>\n",
       "      <td>(Dabro,)</td>\n",
       "      <td>(pop, ruspop)</td>\n",
       "      <td>(Юность,)</td>\n",
       "      <td>0.78</td>\n",
       "    </tr>\n",
       "    <tr>\n",
       "      <th>341295</th>\n",
       "      <td>Way Down We Go</td>\n",
       "      <td>(KALEO,)</td>\n",
       "      <td>(indie,)</td>\n",
       "      <td>(Way down We Go, Summer Music 2016, A/B, DFM D...</td>\n",
       "      <td>0.78</td>\n",
       "    </tr>\n",
       "    <tr>\n",
       "      <th>443347</th>\n",
       "      <td>Shape of You</td>\n",
       "      <td>(Ed Sheeran,)</td>\n",
       "      <td>(pop,)</td>\n",
       "      <td>(Shape of You, ÷, ÷, Summer Vibes, Pop)</td>\n",
       "      <td>0.77</td>\n",
       "    </tr>\n",
       "    <tr>\n",
       "      <th>651810</th>\n",
       "      <td>In The End</td>\n",
       "      <td>(Tommee Profitt, Fleurie, Mellen Gi)</td>\n",
       "      <td>(rnb,)</td>\n",
       "      <td>(In the End, Christian TikTok, Trending Now 20...</td>\n",
       "      <td>0.77</td>\n",
       "    </tr>\n",
       "    <tr>\n",
       "      <th>83809</th>\n",
       "      <td>Shape Of My Heart</td>\n",
       "      <td>(Sting,)</td>\n",
       "      <td>(pop, rock, allrock)</td>\n",
       "      <td>(Ten Summoner's Tales, 25 Years, The Best Of 2...</td>\n",
       "      <td>0.77</td>\n",
       "    </tr>\n",
       "    <tr>\n",
       "      <th>607542</th>\n",
       "      <td>Life</td>\n",
       "      <td>(Zivert,)</td>\n",
       "      <td>(pop, ruspop)</td>\n",
       "      <td>(Life, Life, Made in Russia, Fresh Dance, Life...</td>\n",
       "      <td>0.76</td>\n",
       "    </tr>\n",
       "  </tbody>\n",
       "</table>\n",
       "</div>"
      ],
      "text/plain": [
       "                      item_name                         artists_names  \\\n",
       "8215    Smells Like Teen Spirit                            (Nirvana,)   \n",
       "451664                 Believer                    (Imagine Dragons,)   \n",
       "24433                      Numb                        (Linkin Park,)   \n",
       "478765               I Got Love        (Miyagi & Эндшпиль, Рем Дигга)   \n",
       "774169                   Юность                              (Dabro,)   \n",
       "341295           Way Down We Go                              (KALEO,)   \n",
       "443347             Shape of You                         (Ed Sheeran,)   \n",
       "651810               In The End  (Tommee Profitt, Fleurie, Mellen Gi)   \n",
       "83809         Shape Of My Heart                              (Sting,)   \n",
       "607542                     Life                             (Zivert,)   \n",
       "\n",
       "                        genres_names  \\\n",
       "8215    (alternative, rock, allrock)   \n",
       "451664               (rock, allrock)   \n",
       "24433               (numetal, metal)   \n",
       "478765                 (rusrap, rap)   \n",
       "774169                 (pop, ruspop)   \n",
       "341295                      (indie,)   \n",
       "443347                        (pop,)   \n",
       "651810                        (rnb,)   \n",
       "83809           (pop, rock, allrock)   \n",
       "607542                 (pop, ruspop)   \n",
       "\n",
       "                                             albums_names  popularity  \n",
       "8215    (Nevermind, Nirvana, Nevermind, Nevermind, Nev...        1.00  \n",
       "451664  (Shape Of Pop, NOW That's What I Call Music, E...        0.96  \n",
       "24433   (Meteora, Meteora, Meteora, Meteora, 00s Rock ...        0.92  \n",
       "478765                           (I Got Love, I Got Love)        0.90  \n",
       "774169                                          (Юность,)        0.78  \n",
       "341295  (Way down We Go, Summer Music 2016, A/B, DFM D...        0.78  \n",
       "443347            (Shape of You, ÷, ÷, Summer Vibes, Pop)        0.77  \n",
       "651810  (In the End, Christian TikTok, Trending Now 20...        0.77  \n",
       "83809   (Ten Summoner's Tales, 25 Years, The Best Of 2...        0.77  \n",
       "607542  (Life, Life, Made in Russia, Fresh Dance, Life...        0.76  "
      ]
     },
     "execution_count": 50,
     "metadata": {},
     "output_type": "execute_result"
    }
   ],
   "source": [
    "# Наиболее популярные треки\n",
    "(\n",
    "    items[['item_name', 'artists_names', 'genres_names', 'albums_names',\n",
    "           'popularity']]\n",
    "    .sort_values(by='popularity', ascending=False)\n",
    "    .head(10)\n",
    ")"
   ]
  },
  {
   "cell_type": "markdown",
   "id": "6d910eae",
   "metadata": {},
   "source": [
    "Аналогичным образом расчитаем индекс популярности жанров:\n",
    "- для каждого жанра считаем общее кол-во прослушиваний треков данного жанра,\n",
    "- нормируем от 0 до 1 (делим на кол-во прослушиваний для самого популярного жанра)"
   ]
  },
  {
   "cell_type": "code",
   "execution_count": 51,
   "id": "aecaf630-fde0-4860-b84a-42c933a9606e",
   "metadata": {},
   "outputs": [
    {
     "data": {
      "text/html": [
       "<div>\n",
       "<style scoped>\n",
       "    .dataframe tbody tr th:only-of-type {\n",
       "        vertical-align: middle;\n",
       "    }\n",
       "\n",
       "    .dataframe tbody tr th {\n",
       "        vertical-align: top;\n",
       "    }\n",
       "\n",
       "    .dataframe thead th {\n",
       "        text-align: right;\n",
       "    }\n",
       "</style>\n",
       "<table border=\"1\" class=\"dataframe\">\n",
       "  <thead>\n",
       "    <tr style=\"text-align: right;\">\n",
       "      <th></th>\n",
       "      <th>genre_id</th>\n",
       "      <th>genre_name</th>\n",
       "    </tr>\n",
       "  </thead>\n",
       "  <tbody>\n",
       "    <tr>\n",
       "      <th>0</th>\n",
       "      <td>1</td>\n",
       "      <td>eastern</td>\n",
       "    </tr>\n",
       "    <tr>\n",
       "      <th>1</th>\n",
       "      <td>2</td>\n",
       "      <td>rusrock</td>\n",
       "    </tr>\n",
       "    <tr>\n",
       "      <th>2</th>\n",
       "      <td>3</td>\n",
       "      <td>rusrap</td>\n",
       "    </tr>\n",
       "  </tbody>\n",
       "</table>\n",
       "</div>"
      ],
      "text/plain": [
       "  genre_id genre_name\n",
       "0        1    eastern\n",
       "1        2    rusrock\n",
       "2        3     rusrap"
      ]
     },
     "execution_count": 51,
     "metadata": {},
     "output_type": "execute_result"
    }
   ],
   "source": [
    "# Для удобства (вос)создадим справочную таблицу по жанрам\n",
    "genres = (\n",
    "    items[['genres', 'genres_names']]\n",
    "    .explode(['genres', 'genres_names'])\n",
    "    .drop_duplicates()\n",
    "    .rename(columns={'genres': 'genre_id', 'genres_names': 'genre_name'})\n",
    "    .sort_values(by='genre_id')\n",
    "    .reset_index(drop=True)\n",
    ")\n",
    "\n",
    "# Визуальная проверка\n",
    "genres.head(3)"
   ]
  },
  {
   "cell_type": "code",
   "execution_count": 52,
   "id": "291ca26a",
   "metadata": {},
   "outputs": [
    {
     "data": {
      "text/html": [
       "<div>\n",
       "<style scoped>\n",
       "    .dataframe tbody tr th:only-of-type {\n",
       "        vertical-align: middle;\n",
       "    }\n",
       "\n",
       "    .dataframe tbody tr th {\n",
       "        vertical-align: top;\n",
       "    }\n",
       "\n",
       "    .dataframe thead th {\n",
       "        text-align: right;\n",
       "    }\n",
       "</style>\n",
       "<table border=\"1\" class=\"dataframe\">\n",
       "  <thead>\n",
       "    <tr style=\"text-align: right;\">\n",
       "      <th></th>\n",
       "      <th>item_id</th>\n",
       "      <th>events_count</th>\n",
       "      <th>genre_id</th>\n",
       "    </tr>\n",
       "  </thead>\n",
       "  <tbody>\n",
       "    <tr>\n",
       "      <th>0</th>\n",
       "      <td>26</td>\n",
       "      <td>5</td>\n",
       "      <td>11</td>\n",
       "    </tr>\n",
       "    <tr>\n",
       "      <th>0</th>\n",
       "      <td>26</td>\n",
       "      <td>5</td>\n",
       "      <td>21</td>\n",
       "    </tr>\n",
       "    <tr>\n",
       "      <th>1</th>\n",
       "      <td>38</td>\n",
       "      <td>8</td>\n",
       "      <td>11</td>\n",
       "    </tr>\n",
       "  </tbody>\n",
       "</table>\n",
       "</div>"
      ],
      "text/plain": [
       "   item_id  events_count genre_id\n",
       "0       26             5       11\n",
       "0       26             5       21\n",
       "1       38             8       11"
      ]
     },
     "execution_count": 52,
     "metadata": {},
     "output_type": "execute_result"
    }
   ],
   "source": [
    "# Сначала (снова) посчитаем кол-во прослушиваний для каждого трека\n",
    "events_count = (\n",
    "    events\n",
    "    .groupby('item_id')\n",
    "    .agg(events_count=('user_id', 'count'))\n",
    "    .reset_index()\n",
    ")\n",
    "\n",
    "# После агрегации по трекам добавим информацию по жанрам\n",
    "# и распакуем кортежи с идентифиакаторами жанров\n",
    "events_count = (\n",
    "    events_count\n",
    "    .merge(items[['item_id', 'genres']], on='item_id', how='left')\n",
    "    .explode('genres')\n",
    "    .rename(columns={'genres': 'genre_id'})\n",
    ")\n",
    "\n",
    "# визуальная проверка\n",
    "events_count.head(3)"
   ]
  },
  {
   "cell_type": "code",
   "execution_count": 53,
   "id": "3f1ad34a",
   "metadata": {},
   "outputs": [
    {
     "data": {
      "text/html": [
       "<div>\n",
       "<style scoped>\n",
       "    .dataframe tbody tr th:only-of-type {\n",
       "        vertical-align: middle;\n",
       "    }\n",
       "\n",
       "    .dataframe tbody tr th {\n",
       "        vertical-align: top;\n",
       "    }\n",
       "\n",
       "    .dataframe thead th {\n",
       "        text-align: right;\n",
       "    }\n",
       "</style>\n",
       "<table border=\"1\" class=\"dataframe\">\n",
       "  <thead>\n",
       "    <tr style=\"text-align: right;\">\n",
       "      <th></th>\n",
       "      <th>genre_id</th>\n",
       "      <th>genre_name</th>\n",
       "      <th>popularity</th>\n",
       "    </tr>\n",
       "  </thead>\n",
       "  <tbody>\n",
       "    <tr>\n",
       "      <th>10</th>\n",
       "      <td>11</td>\n",
       "      <td>pop</td>\n",
       "      <td>1.00</td>\n",
       "    </tr>\n",
       "    <tr>\n",
       "      <th>70</th>\n",
       "      <td>75</td>\n",
       "      <td>rap</td>\n",
       "      <td>0.68</td>\n",
       "    </tr>\n",
       "    <tr>\n",
       "      <th>89</th>\n",
       "      <td>102</td>\n",
       "      <td>allrock</td>\n",
       "      <td>0.56</td>\n",
       "    </tr>\n",
       "    <tr>\n",
       "      <th>19</th>\n",
       "      <td>20</td>\n",
       "      <td>ruspop</td>\n",
       "      <td>0.48</td>\n",
       "    </tr>\n",
       "    <tr>\n",
       "      <th>2</th>\n",
       "      <td>3</td>\n",
       "      <td>rusrap</td>\n",
       "      <td>0.46</td>\n",
       "    </tr>\n",
       "    <tr>\n",
       "      <th>63</th>\n",
       "      <td>68</td>\n",
       "      <td>electronics</td>\n",
       "      <td>0.33</td>\n",
       "    </tr>\n",
       "    <tr>\n",
       "      <th>15</th>\n",
       "      <td>16</td>\n",
       "      <td>dance</td>\n",
       "      <td>0.29</td>\n",
       "    </tr>\n",
       "    <tr>\n",
       "      <th>1</th>\n",
       "      <td>2</td>\n",
       "      <td>rusrock</td>\n",
       "      <td>0.24</td>\n",
       "    </tr>\n",
       "    <tr>\n",
       "      <th>13</th>\n",
       "      <td>14</td>\n",
       "      <td>rock</td>\n",
       "      <td>0.23</td>\n",
       "    </tr>\n",
       "    <tr>\n",
       "      <th>40</th>\n",
       "      <td>44</td>\n",
       "      <td>foreignrap</td>\n",
       "      <td>0.22</td>\n",
       "    </tr>\n",
       "  </tbody>\n",
       "</table>\n",
       "</div>"
      ],
      "text/plain": [
       "   genre_id   genre_name  popularity\n",
       "10       11          pop        1.00\n",
       "70       75          rap        0.68\n",
       "89      102      allrock        0.56\n",
       "19       20       ruspop        0.48\n",
       "2         3       rusrap        0.46\n",
       "63       68  electronics        0.33\n",
       "15       16        dance        0.29\n",
       "1         2      rusrock        0.24\n",
       "13       14         rock        0.23\n",
       "40       44   foreignrap        0.22"
      ]
     },
     "execution_count": 53,
     "metadata": {},
     "output_type": "execute_result"
    }
   ],
   "source": [
    "# И наконец аггрегируем по жанрам для расчета суммарного кол-ва прослушанных\n",
    "# треков по каждому жанру \n",
    "genre_popularity = (\n",
    "    events_count\n",
    "    .groupby('genre_id')\n",
    "    .agg(popularity=('events_count', 'sum'))\n",
    ")\n",
    "# Нормируем\n",
    "genre_popularity['popularity'] /= genre_popularity['popularity'].max()\n",
    "genre_popularity['popularity'] = (genre_popularity['popularity']\n",
    "                                  .astype('float32'))\n",
    "\n",
    "# Добавляем индекс популярности к справочной таблице по жанрам\n",
    "genres = genres.merge(genre_popularity, on='genre_id', how='left')\n",
    "genres['popularity'] = genres['popularity'].fillna(0)\n",
    "\n",
    "# Прибираемся\n",
    "del events_count, genre_popularity\n",
    "\n",
    "# Наиболее популярные жанры\n",
    "genres.sort_values(by='popularity', ascending=False).head(10)"
   ]
  },
  {
   "cell_type": "markdown",
   "id": "5b1807eb",
   "metadata": {},
   "source": [
    "Неожиданный факт: наиболее популярным является жанр с именем `pop`[ular].      \n"
   ]
  },
  {
   "cell_type": "markdown",
   "id": "15254e66-e80e-473b-ba24-abebea5ccac7",
   "metadata": {},
   "source": [
    "Для выделения треков, которые никто не прослушал можно воспользоваться уже рассчитанным индексом популярности трека, для непрослушанных треков индекс популярности равен нулю."
   ]
  },
  {
   "cell_type": "code",
   "execution_count": 54,
   "id": "5706e50a",
   "metadata": {},
   "outputs": [
    {
     "data": {
      "text/plain": [
       "0"
      ]
     },
     "execution_count": 54,
     "metadata": {},
     "output_type": "execute_result"
    }
   ],
   "source": [
    "# Количество никем не прослушанных треков\n",
    "(items['popularity'] == 0).sum()"
   ]
  },
  {
   "cell_type": "code",
   "execution_count": 55,
   "id": "50bc50c6-2d83-4c7e-97fa-3e7627978438",
   "metadata": {},
   "outputs": [
    {
     "data": {
      "text/plain": [
       "set()"
      ]
     },
     "execution_count": 55,
     "metadata": {},
     "output_type": "execute_result"
    }
   ],
   "source": [
    "# Альтернативный способ подсчета непрослушанных треков\n",
    "set(items['item_id']) - set(events['item_id'].drop_duplicates())"
   ]
  },
  {
   "cell_type": "markdown",
   "id": "a76309e7",
   "metadata": {},
   "source": [
    "Кто-то уже позаботился об очистке исходных данных - непрослушанные треки в справочнике (катаологе) треков отсутствуют."
   ]
  },
  {
   "cell_type": "markdown",
   "id": "4d1be653-eed8-4fa0-a9c5-3811b080d71d",
   "metadata": {},
   "source": [
    "#### 2.3 Сохранение данных"
   ]
  },
  {
   "cell_type": "code",
   "execution_count": 56,
   "id": "5bb0c987",
   "metadata": {},
   "outputs": [],
   "source": [
    "# Сохраним данные локально\n",
    "\n",
    "# NB: признак popularuty для items, genres сохранять не будем,\n",
    "# т.к. мы его считали по всей выборке событий, включая будущую тестовую выборку\n",
    "items.drop(columns='popularity').to_parquet('data/items.parquet')\n",
    "events.to_parquet('data/events.parquet')\n",
    "genres.drop(columns='popularity').to_parquet('data/genres.parquet')"
   ]
  },
  {
   "cell_type": "markdown",
   "id": "36f1314a-3af3-4faf-a0b1-3045173d1500",
   "metadata": {},
   "source": [
    "Сохраним данные в двух файлах в персональном S3-бакете по пути `recsys/data/`:\n",
    "- `items.parquet` — все данные о музыкальных треках,\n",
    "- `events.parquet` — все данные о взаимодействиях."
   ]
  },
  {
   "cell_type": "code",
   "execution_count": 57,
   "id": "9f77af17-7705-4fae-9aad-db579b39faad",
   "metadata": {},
   "outputs": [
    {
     "name": "stdout",
     "output_type": "stream",
     "text": [
      "Contents of bucket 's3-student-mle-20240325-173e6ff593'\n",
      "Using pattern \"recsys\" to filter displayed objects\n",
      "----------------------------------------\n",
      "File Name                                                Size (MB)\n",
      "----------------------------------------\n",
      "recsys/data/events.parquet                                  980.54 MB\n",
      "recsys/data/items.parquet                                    65.23 MB\n",
      "recsys/recommendations/personal_als.parquet                 230.17 MB\n",
      "recsys/recommendations/recommendations.parquet              229.94 MB\n",
      "recsys/recommendations/similar.parquet                       80.90 MB\n",
      "recsys/recommendations/top_popular.parquet                    0.00 MB\n",
      "----------------------------------------\n",
      "Total 203 objects, size: 1.59 GB\n"
     ]
    }
   ],
   "source": [
    "# Заливаем файлы\n",
    "upload_file_to_s3('data/items.parquet', 'recsys/data/items.parquet')\n",
    "upload_file_to_s3('data/events.parquet', 'recsys/data/events.parquet')\n",
    "\n",
    "# Визуальная проверка содержимого бакета \n",
    "print_bucket_contents(key_pattern='recsys')"
   ]
  },
  {
   "cell_type": "markdown",
   "id": "72ecbbed-c560-44d9-9c14-86c7dc76f399",
   "metadata": {},
   "source": [
    "#### 2.4 Очистка памяти - перезагружаем ядро"
   ]
  },
  {
   "cell_type": "markdown",
   "id": "b5358ede-ba6e-4c4f-bd73-5b9344f0ba79",
   "metadata": {},
   "source": [
    "Можно было бы ограничится удалением переменных, но перезагрузка ядра перед 'тяжелыми' расчетами более надежный вариант."
   ]
  },
  {
   "cell_type": "code",
   "execution_count": 58,
   "id": "767fe920-e12e-4ad8-b04e-56e8091fac9f",
   "metadata": {},
   "outputs": [
    {
     "data": {
      "text/plain": [
       "{'status': 'ok', 'restart': True}"
      ]
     },
     "execution_count": 58,
     "metadata": {},
     "output_type": "execute_result"
    }
   ],
   "source": [
    "import IPython\n",
    "IPython.Application.instance().kernel.do_shutdown(True)"
   ]
  },
  {
   "cell_type": "markdown",
   "id": "708503df-ee89-4cf3-8489-093dc478e2a8",
   "metadata": {},
   "source": [
    "### 3. Третий этап"
   ]
  },
  {
   "cell_type": "markdown",
   "id": "0c043282",
   "metadata": {},
   "source": [
    "#### 3.1 Повторная инициализация после перезагрузки ядра"
   ]
  },
  {
   "cell_type": "code",
   "execution_count": 59,
   "id": "3b372db9",
   "metadata": {},
   "outputs": [
    {
     "name": "stderr",
     "output_type": "stream",
     "text": [
      "/home/mle-user/mle_projects/mle-recsys-project/venv/lib/python3.10/site-packages/tqdm/auto.py:21: TqdmWarning: IProgress not found. Please update jupyter and ipywidgets. See https://ipywidgets.readthedocs.io/en/stable/user_install.html\n",
      "  from .autonotebook import tqdm as notebook_tqdm\n"
     ]
    }
   ],
   "source": [
    "# Повторно загружаем библиотеки необходимые для выполнения кода ноутбука.\n",
    "import pickle\n",
    "from collections import defaultdict\n",
    "from itertools import repeat\n",
    "\n",
    "import numpy as np\n",
    "import pandas as pd\n",
    "import scipy.sparse\n",
    "import tqdm as notebook_tqdm\n",
    "from implicit.als import AlternatingLeastSquares\n",
    "from sklearn.preprocessing import LabelEncoder, normalize\n",
    "from catboost import CatBoostClassifier, Pool\n",
    "\n",
    "from utils.s3 import print_bucket_contents, upload_file_to_s3\n",
    "from utils.shortcuts import (print_csr_mem_usage, print_deep_mem_usage,\n",
    "                             print_total_mem_usage)"
   ]
  },
  {
   "cell_type": "code",
   "execution_count": 60,
   "id": "6fbd87fb",
   "metadata": {},
   "outputs": [],
   "source": [
    "from threadpoolctl import threadpool_limits\n",
    "\n",
    "# Следуем рекомендациям модуля implicit для оптимизации ALS\n",
    "threadpool_limits(1, \"blas\");"
   ]
  },
  {
   "cell_type": "code",
   "execution_count": 61,
   "id": "adb3461c",
   "metadata": {},
   "outputs": [],
   "source": [
    "# Настройка форматов pandas\n",
    "pd.set_option('display.max_columns', None)\n",
    "pd.set_option('display.float_format',  '{:,.2f}'.format)"
   ]
  },
  {
   "cell_type": "code",
   "execution_count": 62,
   "id": "a1852aae",
   "metadata": {},
   "outputs": [],
   "source": [
    "N_RECS_USER = 50    # число рекомендаций модели для одного пользователя\n",
    "N_RECS_SIMILAR = 10 # число рекомендаций похожих объектов"
   ]
  },
  {
   "cell_type": "markdown",
   "id": "fd77de22-e10f-4b42-85c1-8fb6f805fe68",
   "metadata": {},
   "source": [
    "#### 3.2 Загрузка данных"
   ]
  },
  {
   "cell_type": "raw",
   "id": "f19fc8a5-bd2c-40d7-864a-ee75aca6d512",
   "metadata": {
    "vscode": {
     "languageId": "raw"
    }
   },
   "source": [
    "# Загружаем данные из S3\n",
    "download_file_from_s3('data/items.parquet', 'recsys/data/items.parquet')\n",
    "download_file_from_s3('data/events.parquet', 'recsys/data/events.parquet')"
   ]
  },
  {
   "cell_type": "code",
   "execution_count": null,
   "id": "5db1e801-5845-4ce3-86f2-c2fa30f68cc5",
   "metadata": {},
   "outputs": [],
   "source": [
    "# Загружаем данные в пямять\n",
    "items = pd.read_parquet('data/items.parquet')\n",
    "events = pd.read_parquet('data/events.parquet')"
   ]
  },
  {
   "cell_type": "code",
   "execution_count": null,
   "id": "42c2e6b6",
   "metadata": {},
   "outputs": [
    {
     "name": "stdout",
     "output_type": "stream",
     "text": [
      "Items\t: Total memory usage 757.4 MB\n",
      "Events\t: Total memory usage 3685.9 MB\n"
     ]
    }
   ],
   "source": [
    "# Объем данных в пямяти после загрузки\n",
    "print('Items\\t: ', end=''); print_deep_mem_usage(items, columns_info=False)\n",
    "print('Events\\t: ', end=''); print_deep_mem_usage(events, columns_info=False)"
   ]
  },
  {
   "cell_type": "code",
   "execution_count": null,
   "id": "d21e43f9",
   "metadata": {},
   "outputs": [
    {
     "data": {
      "text/html": [
       "<div>\n",
       "<style scoped>\n",
       "    .dataframe tbody tr th:only-of-type {\n",
       "        vertical-align: middle;\n",
       "    }\n",
       "\n",
       "    .dataframe tbody tr th {\n",
       "        vertical-align: top;\n",
       "    }\n",
       "\n",
       "    .dataframe thead th {\n",
       "        text-align: right;\n",
       "    }\n",
       "</style>\n",
       "<table border=\"1\" class=\"dataframe\">\n",
       "  <thead>\n",
       "    <tr style=\"text-align: right;\">\n",
       "      <th></th>\n",
       "      <th>item_id</th>\n",
       "      <th>albums</th>\n",
       "      <th>artists</th>\n",
       "      <th>genres</th>\n",
       "      <th>item_name</th>\n",
       "      <th>albums_names</th>\n",
       "      <th>artists_names</th>\n",
       "      <th>genres_names</th>\n",
       "    </tr>\n",
       "  </thead>\n",
       "  <tbody>\n",
       "    <tr>\n",
       "      <th>0</th>\n",
       "      <td>26</td>\n",
       "      <td>(3, 2490753)</td>\n",
       "      <td>(16,)</td>\n",
       "      <td>(11, 21)</td>\n",
       "      <td>Complimentary Me</td>\n",
       "      <td>(Taller Children, Taller Children)</td>\n",
       "      <td>(Elizabeth &amp; the Catapult,)</td>\n",
       "      <td>(pop, folk)</td>\n",
       "    </tr>\n",
       "    <tr>\n",
       "      <th>1</th>\n",
       "      <td>38</td>\n",
       "      <td>(3, 2490753)</td>\n",
       "      <td>(16,)</td>\n",
       "      <td>(11, 21)</td>\n",
       "      <td>Momma's Boy</td>\n",
       "      <td>(Taller Children, Taller Children)</td>\n",
       "      <td>(Elizabeth &amp; the Catapult,)</td>\n",
       "      <td>(pop, folk)</td>\n",
       "    </tr>\n",
       "    <tr>\n",
       "      <th>2</th>\n",
       "      <td>135</td>\n",
       "      <td>(12, 214, 2490809)</td>\n",
       "      <td>(84,)</td>\n",
       "      <td>(11,)</td>\n",
       "      <td>Atticus</td>\n",
       "      <td>(Wild Young Hearts, Wild Young Hearts, Wild Yo...</td>\n",
       "      <td>(Noisettes,)</td>\n",
       "      <td>(pop,)</td>\n",
       "    </tr>\n",
       "  </tbody>\n",
       "</table>\n",
       "</div>"
      ],
      "text/plain": [
       "   item_id              albums artists    genres         item_name  \\\n",
       "0       26        (3, 2490753)   (16,)  (11, 21)  Complimentary Me   \n",
       "1       38        (3, 2490753)   (16,)  (11, 21)       Momma's Boy   \n",
       "2      135  (12, 214, 2490809)   (84,)     (11,)           Atticus   \n",
       "\n",
       "                                        albums_names  \\\n",
       "0                 (Taller Children, Taller Children)   \n",
       "1                 (Taller Children, Taller Children)   \n",
       "2  (Wild Young Hearts, Wild Young Hearts, Wild Yo...   \n",
       "\n",
       "                 artists_names genres_names  \n",
       "0  (Elizabeth & the Catapult,)  (pop, folk)  \n",
       "1  (Elizabeth & the Catapult,)  (pop, folk)  \n",
       "2                 (Noisettes,)       (pop,)  "
      ]
     },
     "execution_count": 7,
     "metadata": {},
     "output_type": "execute_result"
    }
   ],
   "source": [
    "# Для 'списочных' элементов В items пережмём ndarrays в кортежи \n",
    "# для экономии пямяти\n",
    "list_like_columns = ['albums', 'artists', 'genres', 'albums_names', \n",
    "                     'artists_names', 'genres_names']\n",
    "\n",
    "items[list_like_columns] = items[list_like_columns].map(lambda x: tuple(x))\n",
    "\n",
    "del list_like_columns\n",
    "\n",
    "# Визуальная проверка результата\n",
    "items.head(3)"
   ]
  },
  {
   "cell_type": "code",
   "execution_count": null,
   "id": "cb4e8b34",
   "metadata": {},
   "outputs": [],
   "source": [
    "# В events изменим тип для started_at на категориальный \n",
    "# NB: временная дискретность - дневная\n",
    "events['started_at'] = events['started_at'].astype('category').cat.as_ordered()"
   ]
  },
  {
   "cell_type": "code",
   "execution_count": null,
   "id": "eba69d4a",
   "metadata": {},
   "outputs": [
    {
     "name": "stdout",
     "output_type": "stream",
     "text": [
      "Items\t: Total memory usage 459.1 MB\n",
      "Events\t: Total memory usage 2457.3 MB\n"
     ]
    }
   ],
   "source": [
    "# Объем в пямяти после оптимизации типов\n",
    "print('Items\\t: ', end=''); print_deep_mem_usage(items, columns_info=False)\n",
    "print('Events\\t: ', end=''); print_deep_mem_usage(events, columns_info=False)"
   ]
  },
  {
   "cell_type": "markdown",
   "id": "a694c023-6477-490b-939d-1cfa6f5f1b72",
   "metadata": {},
   "source": [
    "#### 3.3 Разбиение данных"
   ]
  },
  {
   "cell_type": "markdown",
   "id": "fbd5f6e0-54e7-4428-8678-eabce505d82c",
   "metadata": {},
   "source": [
    "Разбиваем данные на тренировочную, тестовую выборки.        \n",
    "Дата разделения __16 декабря 2022__ (первый день для тестовых данных)"
   ]
  },
  {
   "cell_type": "code",
   "execution_count": null,
   "id": "00c2dfa5-d8a2-47d1-922e-6eefee2c62d1",
   "metadata": {},
   "outputs": [],
   "source": [
    "events_train_idx = (events['started_at'] < pd.to_datetime('2022-12-16'))\n",
    "\n",
    "events_train = events[events_train_idx].reset_index(drop=True)\n",
    "events_test = events[~events_train_idx].reset_index(drop=True)\n",
    "\n",
    "del events, events_train_idx "
   ]
  },
  {
   "cell_type": "code",
   "execution_count": null,
   "id": "1e60b4bd",
   "metadata": {},
   "outputs": [
    {
     "name": "stdout",
     "output_type": "stream",
     "text": [
      "Пользователй в обучающей выборке :    1341269\n",
      "Пользователй в тестовой выборке  :     778789\n",
      "  в т.ч.холодные пользователи    :      30773\n"
     ]
    }
   ],
   "source": [
    "# Посмотрим на разницу в множествах пользователей \n",
    "# в обущающей и тестовой выборке \n",
    "users_train = set(events_train['user_id'].drop_duplicates())\n",
    "users_test = set(events_test['user_id'].drop_duplicates())\n",
    "\n",
    "# Холодные пользователи - отсутствующие в обучающей выборке\n",
    "cold_users = users_test - users_train\n",
    "\n",
    "print(f'Пользователй в обучающей выборке : {len(users_train):>10}')\n",
    "print(f'Пользователй в тестовой выборке  : {len(users_test):>10}')\n",
    "print(f'  в т.ч.холодные пользователи    : {len(cold_users):>10}')"
   ]
  },
  {
   "cell_type": "code",
   "execution_count": null,
   "id": "39a4a2fd",
   "metadata": {},
   "outputs": [
    {
     "name": "stdout",
     "output_type": "stream",
     "text": [
      "Process memory usage: 5.56 GB\n"
     ]
    }
   ],
   "source": [
    "del users_test, users_train, cold_users\n",
    "print_total_mem_usage()"
   ]
  },
  {
   "cell_type": "markdown",
   "id": "9131c7e6-8852-4556-b510-51f7253cc299",
   "metadata": {},
   "source": [
    "#### 3.4 Топ популярных"
   ]
  },
  {
   "cell_type": "markdown",
   "id": "dd70d43a-88cc-4719-b291-feaed7136f30",
   "metadata": {},
   "source": [
    "Расчитаем индекс (score) популярности как общее кол-во прослушиваний трека различными пользователями.       \n",
    "- Отнормируем от 0 до 1, разделив на максимальное число прослушиваний одного трека.             \n",
    "- Используем только обучающую выборку, берем N_RECS_USER наиболее популярных.        \n",
    "\n",
    "___NB:___ Особенность наших данных - данные о преслушивании трека конкретным пользователем включены в events только один раз, другими словами, комбинация (user_id, item_id) в пределах таблицы events уникальна."
   ]
  },
  {
   "cell_type": "code",
   "execution_count": null,
   "id": "13e85691",
   "metadata": {},
   "outputs": [
    {
     "data": {
      "text/html": [
       "<div>\n",
       "<style scoped>\n",
       "    .dataframe tbody tr th:only-of-type {\n",
       "        vertical-align: middle;\n",
       "    }\n",
       "\n",
       "    .dataframe tbody tr th {\n",
       "        vertical-align: top;\n",
       "    }\n",
       "\n",
       "    .dataframe thead th {\n",
       "        text-align: right;\n",
       "    }\n",
       "</style>\n",
       "<table border=\"1\" class=\"dataframe\">\n",
       "  <thead>\n",
       "    <tr style=\"text-align: right;\">\n",
       "      <th></th>\n",
       "      <th>item_id</th>\n",
       "      <th>score</th>\n",
       "    </tr>\n",
       "  </thead>\n",
       "  <tbody>\n",
       "    <tr>\n",
       "      <th>0</th>\n",
       "      <td>53404</td>\n",
       "      <td>1.00</td>\n",
       "    </tr>\n",
       "    <tr>\n",
       "      <th>1</th>\n",
       "      <td>33311009</td>\n",
       "      <td>0.92</td>\n",
       "    </tr>\n",
       "    <tr>\n",
       "      <th>2</th>\n",
       "      <td>178529</td>\n",
       "      <td>0.92</td>\n",
       "    </tr>\n",
       "  </tbody>\n",
       "</table>\n",
       "</div>"
      ],
      "text/plain": [
       "    item_id  score\n",
       "0     53404   1.00\n",
       "1  33311009   0.92\n",
       "2    178529   0.92"
      ]
     },
     "execution_count": 13,
     "metadata": {},
     "output_type": "execute_result"
    }
   ],
   "source": [
    "top_popular = (\n",
    "    events_train\n",
    "    .groupby('item_id')\n",
    "    .agg(score=('user_id', 'count'))\n",
    "    .reset_index()\n",
    "    .sort_values(by='score', ascending=False, ignore_index=True)\n",
    "    [:N_RECS_USER]\n",
    "    .reset_index(drop=True)\n",
    ")\n",
    "top_popular['score'] /= top_popular['score'].max()\n",
    "top_popular['score'] = top_popular['score'].astype('float32')\n",
    "\n",
    "# визуальная проверка \n",
    "top_popular.head(3)"
   ]
  },
  {
   "cell_type": "code",
   "execution_count": null,
   "id": "7690c86f-7aa9-46ed-bba5-2c837626411e",
   "metadata": {},
   "outputs": [],
   "source": [
    "# Сохраняем локально\n",
    "top_popular.to_parquet('data/top_popular.parquet')"
   ]
  },
  {
   "cell_type": "raw",
   "id": "66d36a40",
   "metadata": {
    "vscode": {
     "languageId": "raw"
    }
   },
   "source": [
    "# Заливаем в s3\n",
    "upload_file_to_s3('data/top_popular.parquet',\n",
    "                  'recsys/recommendations/top_popular.parquet')\n",
    "print_bucket_contents(key_pattern='recsys/recommendations/')"
   ]
  },
  {
   "cell_type": "code",
   "execution_count": null,
   "id": "6a6a6a56",
   "metadata": {},
   "outputs": [
    {
     "data": {
      "text/html": [
       "<div>\n",
       "<style scoped>\n",
       "    .dataframe tbody tr th:only-of-type {\n",
       "        vertical-align: middle;\n",
       "    }\n",
       "\n",
       "    .dataframe tbody tr th {\n",
       "        vertical-align: top;\n",
       "    }\n",
       "\n",
       "    .dataframe thead th {\n",
       "        text-align: right;\n",
       "    }\n",
       "</style>\n",
       "<table border=\"1\" class=\"dataframe\">\n",
       "  <thead>\n",
       "    <tr style=\"text-align: right;\">\n",
       "      <th></th>\n",
       "      <th>user_id</th>\n",
       "      <th>item_id</th>\n",
       "      <th>score</th>\n",
       "    </tr>\n",
       "  </thead>\n",
       "  <tbody>\n",
       "    <tr>\n",
       "      <th>0</th>\n",
       "      <td>3</td>\n",
       "      <td>53404</td>\n",
       "      <td>1.00</td>\n",
       "    </tr>\n",
       "    <tr>\n",
       "      <th>1</th>\n",
       "      <td>3</td>\n",
       "      <td>33311009</td>\n",
       "      <td>0.92</td>\n",
       "    </tr>\n",
       "    <tr>\n",
       "      <th>2</th>\n",
       "      <td>3</td>\n",
       "      <td>178529</td>\n",
       "      <td>0.92</td>\n",
       "    </tr>\n",
       "  </tbody>\n",
       "</table>\n",
       "</div>"
      ],
      "text/plain": [
       "   user_id   item_id  score\n",
       "0        3     53404   1.00\n",
       "1        3  33311009   0.92\n",
       "2        3    178529   0.92"
      ]
     },
     "execution_count": 15,
     "metadata": {},
     "output_type": "execute_result"
    }
   ],
   "source": [
    "# Для пользвателей из тестовой выборки подготовим таблицу с\n",
    "# рекомендациями вида (user_id, item_id, score)  \n",
    "top_popular_recs = (\n",
    "    events_test[['user_id']]\n",
    "    .drop_duplicates()\n",
    "    .reset_index(drop=True)\n",
    "    .merge(top_popular, how='cross')\n",
    "    .reset_index(drop=True)\n",
    ")\n",
    "top_popular_recs.head(3)"
   ]
  },
  {
   "cell_type": "markdown",
   "id": "e339d98b",
   "metadata": {},
   "source": [
    "Подготовим функции для расчета различных метрик полученных рекомендаций:\n",
    "- precision@K1, recall@K1 - точность и полнота для среза топ-K1 рекомендаций\n",
    "- coverage@K2 - покрытие по объектам для cреза топ-K2 рекомендаций\n",
    "- novelty@K3 - новизна по объектам для среза топ-K3 рекомендаций"
   ]
  },
  {
   "cell_type": "code",
   "execution_count": null,
   "id": "33f9dfd7",
   "metadata": {},
   "outputs": [],
   "source": [
    "def get_precision_recall_metrics(\n",
    "    recs: pd.DataFrame,     \n",
    "    events_test: pd.DataFrame,  \n",
    "    K_prc_rec: int = 5\n",
    "):\n",
    "    \"\"\"Calculate precision@K, recall@K metrics.\n",
    "\n",
    "    Parameters\n",
    "    ----------\n",
    "    - recs: reccomendations table containing `user_id, item_id, score` columns\n",
    "    - events_test: events table containing `user_id, item_id`\n",
    "    - K_prc_rec: at_K value for precision and recall \n",
    "    \"\"\"\n",
    "\n",
    "    # Расчет будем вести по пользователям, удовлетворяющим двум условиям:\n",
    "    # 1) для них были даны рекомендации\n",
    "    # 2) они взаимодействовали с объектами в тестовый период \n",
    "    effective_users = (\n",
    "        set(recs['user_id'].drop_duplicates()) \n",
    "        & set(events_test['user_id'].drop_duplicates())\n",
    "    )\n",
    "    events_test = (\n",
    "        events_test\n",
    "        .query('user_id in @effective_users')\n",
    "        .reset_index(drop=True)\n",
    "        .copy()\n",
    "    )\n",
    "    recs = (\n",
    "        recs\n",
    "        .query('user_id in @effective_users')\n",
    "        # Оставляем только top-K рекомендаций для каждого пользователя\n",
    "        .sort_values(by=['user_id', 'score'], ascending=[True, False],\n",
    "                     ignore_index=True)\n",
    "        .groupby('user_id')\n",
    "        .head(K_prc_rec)\n",
    "        .reset_index(drop=True)\n",
    "        .copy()\n",
    "    )\n",
    "    # Философский вопрос состоит в том, нужно ли удалять из тестовой выборки\n",
    "    # взаимодействия с объектами, отсутствующими в обучающей выборке?\n",
    "    # Примем решение, что мы так делать не будем.\n",
    "\n",
    "    # Помечаем события в тестовой выборке как 'ground truth'\n",
    "    events_test['gt'] = True\n",
    "\n",
    "    # Сливаем события тестовой выборки с рекомендациями\n",
    "    events_recs = (\n",
    "        events_test[['user_id', 'item_id', 'gt']]\n",
    "        .merge(\n",
    "            recs[['user_id', 'item_id', 'score']],\n",
    "            on=['user_id', 'item_id'],\n",
    "            how='outer'\n",
    "        )\n",
    "    )\n",
    "    # Для нерелевантных рекомендации 'gt': NaN заменяем на False \n",
    "    events_recs['gt'] = events_recs['gt'].fillna(False)\n",
    "\n",
    "    # Размечаем рекомендованные объекты (имеющие score) как 'rec': True\n",
    "    events_recs['rec'] = events_recs['score'].notna()\n",
    "\n",
    "    # Размечаем true positive, false positive и false negative\n",
    "    events_recs['tp'] = events_recs['gt'] & events_recs['rec']\n",
    "    events_recs['fp'] = ~events_recs['gt'] & events_recs['rec']\n",
    "    events_recs['fn'] = events_recs['gt'] & ~events_recs['rec']\n",
    "\n",
    "    grouped = events_recs.groupby('user_id')\n",
    "\n",
    "    precision = (\n",
    "        grouped['tp'].sum() / (grouped['tp'].sum() + grouped['fp'].sum())\n",
    "    )\n",
    "    precision = precision.fillna(0).mean()\n",
    "\n",
    "    recall = (\n",
    "        grouped['tp'].sum() / (grouped['tp'].sum() + grouped['fn'].sum())\n",
    "    )\n",
    "    recall = recall.fillna(0).mean()\n",
    "\n",
    "    return (precision, recall)"
   ]
  },
  {
   "cell_type": "code",
   "execution_count": null,
   "id": "573b8919",
   "metadata": {},
   "outputs": [],
   "source": [
    "def get_item_coverage_metric(\n",
    "    recs: pd.DataFrame,     \n",
    "    items: pd.DataFrame,    \n",
    "    K_coverage: int = N_RECS_USER,\n",
    "):\n",
    "    \"\"\"\n",
    "    Calculate and return coverage@K metrics.\n",
    "\n",
    "    Parameters\n",
    "    ----------\n",
    "    - recs: reccomendations table containing `user_id, item_id, score` columns\n",
    "    - items: all items table containing `item_id` column\n",
    "    - K_coverage: at_K value for coverage\n",
    "    \"\"\"\n",
    "\n",
    "    # Берем срез топ-К\n",
    "    top_k_recs = (\n",
    "        recs\n",
    "        .sort_values(by=['user_id', 'score'], ascending=[True, False],\n",
    "                     ignore_index=True)\n",
    "        .groupby('user_id')\n",
    "        .head(K_coverage)\n",
    "    )\n",
    "    \n",
    "    # кол-во уникальных объектов в К-срезах к общему кол-ву объектов\n",
    "    return top_k_recs['item_id'].nunique() / len(items)"
   ]
  },
  {
   "cell_type": "code",
   "execution_count": null,
   "id": "818b3c59",
   "metadata": {},
   "outputs": [],
   "source": [
    "def get_novelty_metric(\n",
    "    recs: pd.DataFrame,   \n",
    "    events_train: pd.DataFrame,\n",
    "    K_novelty: int = 5\n",
    "):\n",
    "    \"\"\"\n",
    "    Calculate and return novelty@K metric.\n",
    "\n",
    "    Parameters\n",
    "    ----------\n",
    "    - recs: reccomendations table containing `user_id, item_id, score` columns\n",
    "    - events_trian: events table containing `user_id, item_id`\n",
    "    - K_novelty: at_K value for novelty\n",
    "    \"\"\"\n",
    "\n",
    "    # Отфильтруем рекомендации, оставив только топ-К\n",
    "    top_k_recs = (\n",
    "        recs\n",
    "        .sort_values(by=['user_id', 'score'], ascending=[True, False],\n",
    "                     ignore_index=True)\n",
    "        .groupby('user_id')\n",
    "        .head(K_novelty)\n",
    "        .reset_index(drop=True)\n",
    "        .copy()\n",
    "    )\n",
    "\n",
    "    # Отфильтруем данные о событиях, оставив только тех пользователей \n",
    "    # и объекты, которые есть в топ рекомендациях\n",
    "    events_train = (\n",
    "        events_train[\n",
    "            events_train['user_id'].isin(top_k_recs['user_id'])\n",
    "            & events_train['item_id'].isin(top_k_recs['item_id'])\n",
    "        ]\n",
    "        [['user_id', 'item_id']]\n",
    "        .reset_index(drop=True)\n",
    "        .copy()\n",
    "    )\n",
    "\n",
    "    # Добавим к обучающим событиям колонку 'new' : False \n",
    "    # - признак прослушивания трека конкретным пользователем\n",
    "    events_train['new'] = False\n",
    "\n",
    "    # Добавим признак 'new' к таблице рекомендаций\n",
    "    top_k_recs = top_k_recs.merge(\n",
    "        events_train[['user_id', 'item_id', 'new']],\n",
    "        on=['user_id', 'item_id'],\n",
    "        how='left'\n",
    "    )\n",
    "    top_k_recs['new'] = top_k_recs['new'].fillna(True).astype('bool')\n",
    "\n",
    "    # Для топ-К рекомендаций расчитаем novelty по пользователям и усредним\n",
    "    return top_k_recs.groupby('user_id')['new'].mean().mean()    "
   ]
  },
  {
   "cell_type": "code",
   "execution_count": null,
   "id": "f7c31cd1",
   "metadata": {},
   "outputs": [],
   "source": [
    "def get_recs_metrics(\n",
    "    recs: pd.DataFrame,     \n",
    "    items: pd.DataFrame,    \n",
    "    events_test: pd.DataFrame,\n",
    "    events_train: pd.DataFrame,\n",
    "    K_prc_rec: int = 5,\n",
    "    K_coverage: int = N_RECS_USER,\n",
    "    K_novelty: int = 5\n",
    "):\n",
    "    \"\"\"\n",
    "    Calculate and return precision@K, recall@K, coverage@K, novelty@K metrics.\n",
    "\n",
    "    Parameters\n",
    "    ----------\n",
    "    - recs: reccomendations table containing `user_id, item_id, score` columns\n",
    "    - items: all items table containing `item_id` column\n",
    "    - events_test: events table containing `user_id, item_id`\n",
    "    - events_trian: events table containing `user_id, item_id`\n",
    "    - K_prc_rec: at_K value for precision and recall \n",
    "    - K_coverage: at_K value for coverage\n",
    "    - K_novelty: at_K value for novelty\n",
    "    \"\"\"\n",
    "    \n",
    "    # print('Calculating precision_at_K...')\n",
    "    precision_at_K, recall_at_K = (\n",
    "        get_precision_recall_metrics(recs, events_test, K_prc_rec)\n",
    "    )\n",
    "\n",
    "    # print('Calculating coverage_at_K...')\n",
    "    coverage_at_K = get_item_coverage_metric(recs, items, K_coverage)\n",
    "\n",
    "    # print('Calculating novelty_at_K...')\n",
    "    novelty_at_K = get_novelty_metric(recs, events_train, K_novelty)\n",
    "    \n",
    "    return {\n",
    "        f'Precision@{K_prc_rec}, %': precision_at_K * 100,\n",
    "        f'Recall@{K_prc_rec}, %': recall_at_K * 100,\n",
    "        f'Coverage@{K_coverage}, %': coverage_at_K * 100,\n",
    "        f'Novelty@{K_novelty}, %': novelty_at_K * 100,\n",
    "    }\n"
   ]
  },
  {
   "cell_type": "raw",
   "id": "5dece899",
   "metadata": {
    "vscode": {
     "languageId": "raw"
    }
   },
   "source": [
    "# Рассчитываем метрики\n",
    "metrics = pd.DataFrame(\n",
    "    get_recs_metrics(top_popular_recs, items, events_test, events_train),\n",
    "    index=['Top popular'])\n",
    "\n",
    "# Сохраняем в локальный кэш\n",
    "metrics.to_parquet('cache/metrics_top_popular.parquet')"
   ]
  },
  {
   "cell_type": "code",
   "execution_count": null,
   "id": "49110165",
   "metadata": {},
   "outputs": [
    {
     "data": {
      "text/html": [
       "<div>\n",
       "<style scoped>\n",
       "    .dataframe tbody tr th:only-of-type {\n",
       "        vertical-align: middle;\n",
       "    }\n",
       "\n",
       "    .dataframe tbody tr th {\n",
       "        vertical-align: top;\n",
       "    }\n",
       "\n",
       "    .dataframe thead th {\n",
       "        text-align: right;\n",
       "    }\n",
       "</style>\n",
       "<table border=\"1\" class=\"dataframe\">\n",
       "  <thead>\n",
       "    <tr style=\"text-align: right;\">\n",
       "      <th></th>\n",
       "      <th>Precision@5, %</th>\n",
       "      <th>Recall@5, %</th>\n",
       "      <th>Coverage@50, %</th>\n",
       "      <th>Novelty@5, %</th>\n",
       "    </tr>\n",
       "  </thead>\n",
       "  <tbody>\n",
       "    <tr>\n",
       "      <th>Top popular</th>\n",
       "      <td>0.36</td>\n",
       "      <td>0.13</td>\n",
       "      <td>0.01</td>\n",
       "      <td>92.62</td>\n",
       "    </tr>\n",
       "  </tbody>\n",
       "</table>\n",
       "</div>"
      ],
      "text/plain": [
       "             Precision@5, %  Recall@5, %  Coverage@50, %  Novelty@5, %\n",
       "Top popular            0.36         0.13            0.01         92.62"
      ]
     },
     "execution_count": 20,
     "metadata": {},
     "output_type": "execute_result"
    }
   ],
   "source": [
    "# Для экономии времени - загружаем метрики из кэша\n",
    "metrics = pd.read_parquet('cache/metrics_top_popular.parquet')\n",
    "metrics"
   ]
  },
  {
   "cell_type": "markdown",
   "id": "b1f1a0a9",
   "metadata": {},
   "source": [
    "Для рекомендаций топ популярных метрики ожидаемо не ахти, но неожиданно высокая novelty 😊"
   ]
  },
  {
   "cell_type": "code",
   "execution_count": null,
   "id": "ad96b35b",
   "metadata": {},
   "outputs": [
    {
     "name": "stdout",
     "output_type": "stream",
     "text": [
      "Process memory usage: 6.01 GB\n"
     ]
    }
   ],
   "source": [
    "print_total_mem_usage()"
   ]
  },
  {
   "cell_type": "markdown",
   "id": "2ad231f2-6158-421a-b7fa-01d8bc3ed572",
   "metadata": {},
   "source": [
    "#### 3.5 Персональные ALS"
   ]
  },
  {
   "cell_type": "markdown",
   "id": "52b8d2f7",
   "metadata": {},
   "source": [
    "__NB:__ Персональные рекомендации считаем только для пользователй и объектов  [__!__], входящих в обучающую выборку events_train (< 16 декабя 2022 года). "
   ]
  },
  {
   "cell_type": "raw",
   "id": "d2944822-569c-4f9b-82dc-70a7fa2d542e",
   "metadata": {
    "vscode": {
     "languageId": "raw"
    }
   },
   "source": [
    "# Создаем энкодеры для перекодирования идентификаторов user_id, item_id \n",
    "# в натруральный ряд  {0, 1, ...} для построения матрицы взаимодействий\n",
    "# NB: пользователи и объекты - только из обучающей выборки [!]\n",
    "\n",
    "user_encoder = LabelEncoder().fit(\n",
    "    events_train['user_id'].drop_duplicates().sort_values()\n",
    ")\n",
    "item_encoder = LabelEncoder().fit(\n",
    "    events_train['item_id'].drop_duplicates().sort_values()\n",
    ")"
   ]
  },
  {
   "cell_type": "raw",
   "id": "0d77ea5d",
   "metadata": {
    "vscode": {
     "languageId": "raw"
    }
   },
   "source": [
    "# создаём sparse-матрицу (user x item) \n",
    "user_item_matrix = scipy.sparse.csr_matrix(\n",
    "    # кортеж вида (data, (row_index, col_index))\n",
    "    (\n",
    "        np.ones(len(events_train), dtype=np.int8),  # взаимодействие -> единица\n",
    "        (\n",
    "            user_encoder.transform(events_train['user_id']),\n",
    "            item_encoder.transform(events_train['item_id'])\n",
    "        )\n",
    "    )\n",
    ")"
   ]
  },
  {
   "cell_type": "raw",
   "id": "fb0c1e61",
   "metadata": {
    "vscode": {
     "languageId": "raw"
    }
   },
   "source": [
    "# Время выполения ~40 минут\n",
    "# Раскладываем матрицу с помощью ALS\n",
    "als_model = AlternatingLeastSquares(\n",
    "    factors=100,\n",
    "    iterations=50,\n",
    "    regularization=0.05,\n",
    "    random_state=0\n",
    ")\n",
    "als_model.fit(user_item_matrix)\n",
    "\n",
    "# Сохраним обученную модель\n",
    "with open('models/als_model.pkl', 'wb') as f:\n",
    "    pickle.dump(als_model, f)"
   ]
  },
  {
   "cell_type": "raw",
   "id": "1aa2a299",
   "metadata": {
    "vscode": {
     "languageId": "raw"
    }
   },
   "source": [
    "# Эталоннный расчет для проверки загружаемой модели\n",
    "als_model.recommend(1000, user_item_matrix[1000],\n",
    "                    filter_already_liked_items=True, N=10)\n",
    ">>>>\n",
    "(array([  4522,  27441,  21898,  10462,   5484,  52000,   2015, 208618,\n",
    "          2903,  39098], dtype=int32),\n",
    " array([0.01942061, 0.018442  , 0.01827359, 0.01789448, 0.01765682,\n",
    "        0.01726999, 0.01719784, 0.01719521, 0.01658652, 0.0159805 ],\n",
    "       dtype=float32))"
   ]
  },
  {
   "cell_type": "raw",
   "id": "f3a41146",
   "metadata": {
    "vscode": {
     "languageId": "raw"
    }
   },
   "source": [
    "# Для экономии времени - загружаем обученную модель\n",
    "with open('models/als_model.pkl', 'rb') as f:\n",
    "    als_model = pickle.load(f)\n"
   ]
  },
  {
   "cell_type": "raw",
   "id": "495a5042",
   "metadata": {
    "vscode": {
     "languageId": "raw"
    }
   },
   "source": [
    "# Проврерочный расчет\n",
    "als_model.recommend(\n",
    "    1000, \n",
    "    user_item_matrix[1000], \n",
    "    filter_already_liked_items=True,\n",
    "    N=10\n",
    ")"
   ]
  },
  {
   "cell_type": "raw",
   "id": "66c9a60a",
   "metadata": {
    "vscode": {
     "languageId": "raw"
    }
   },
   "source": [
    "# Время выполения ~45 минут\n",
    "# Получаем рекомендации для всех пользователй из events_train\n",
    "als_item_ids, als_scores = als_model.recommend(\n",
    "    range(len(user_encoder.classes_)),  # все закодированные user_id\n",
    "    user_item_matrix, \n",
    "    filter_already_liked_items=True,\n",
    "    N=N_RECS_USER\n",
    ")"
   ]
  },
  {
   "cell_type": "raw",
   "id": "680db80c",
   "metadata": {
    "vscode": {
     "languageId": "raw"
    }
   },
   "source": [
    "# Перепаковываем рекомендации для всех пользователй в таблицу формата\n",
    "# (user_id, item_id, score)\n",
    "personal_als = pd.DataFrame({\n",
    "    'user_id': range(len(user_encoder.classes_)),\n",
    "    'item_id': als_item_ids.tolist(),\n",
    "    'score': als_scores.tolist()\n",
    "})\n",
    "personal_als = personal_als.explode(['item_id', 'score'], ignore_index=True)\n",
    "\n",
    "# Приводим типы\n",
    "personal_als['user_id'] = personal_als['user_id'].astype('int32')\n",
    "personal_als['item_id'] = personal_als['item_id'].astype('int32')\n",
    "personal_als['score'] = personal_als['score'].astype('float32')\n",
    "\n",
    "# Перекодируем индентификаторы в исходные \n",
    "personal_als['user_id'] = (\n",
    "    user_encoder.inverse_transform(personal_als['user_id'])\n",
    ")\n",
    "personal_als['item_id'] = (\n",
    "    item_encoder.inverse_transform(personal_als['item_id'])\n",
    ")"
   ]
  },
  {
   "cell_type": "raw",
   "id": "1fc45d25",
   "metadata": {
    "vscode": {
     "languageId": "raw"
    }
   },
   "source": [
    "# Для экономии памяти удалим из персональных рекомендаций пользователей, \n",
    "# отсутствующих в тестовой выборке\n",
    "personal_als = personal_als[\n",
    "    personal_als['user_id'].isin(events_test['user_id'].drop_duplicates())\n",
    "].reset_index(drop=True)"
   ]
  },
  {
   "cell_type": "raw",
   "id": "f56ab535",
   "metadata": {
    "vscode": {
     "languageId": "raw"
    }
   },
   "source": [
    "# сохраняем personal_als локально\n",
    "personal_als.to_parquet('data/personal_als.parquet')\n",
    "\n",
    "# Заливаем personal_als в s3\n",
    "upload_file_to_s3('data/personal_als.parquet',\n",
    "                  'recsys/recommendations/personal_als.parquet')\n",
    "print_bucket_contents(key_pattern='recsys/recommendations/')"
   ]
  },
  {
   "cell_type": "raw",
   "id": "a562c802",
   "metadata": {
    "vscode": {
     "languageId": "raw"
    }
   },
   "source": [
    "# Прибираемся\n",
    "del user_item_matrix, als_item_ids, als_scores"
   ]
  },
  {
   "cell_type": "code",
   "execution_count": null,
   "id": "afc426fe",
   "metadata": {},
   "outputs": [],
   "source": [
    "# Загружаем рассчитанные рекомендации из файла\n",
    "personal_als = pd.read_parquet('data/personal_als.parquet')"
   ]
  },
  {
   "cell_type": "raw",
   "id": "b7beaaa6",
   "metadata": {
    "vscode": {
     "languageId": "raw"
    }
   },
   "source": [
    "# Расчитываем метрики\n",
    "metrics = pd.concat([\n",
    "    metrics,\n",
    "    pd.DataFrame(\n",
    "        get_recs_metrics(personal_als, items, events_test, events_train),\n",
    "        index=['Personal ALS']\n",
    "    )\n",
    "])\n",
    "\n",
    "# Сохраняем в локальный кэш\n",
    "metrics.to_parquet('cache/metrics_als.parquet')"
   ]
  },
  {
   "cell_type": "code",
   "execution_count": null,
   "id": "4d25e752",
   "metadata": {},
   "outputs": [
    {
     "data": {
      "text/html": [
       "<div>\n",
       "<style scoped>\n",
       "    .dataframe tbody tr th:only-of-type {\n",
       "        vertical-align: middle;\n",
       "    }\n",
       "\n",
       "    .dataframe tbody tr th {\n",
       "        vertical-align: top;\n",
       "    }\n",
       "\n",
       "    .dataframe thead th {\n",
       "        text-align: right;\n",
       "    }\n",
       "</style>\n",
       "<table border=\"1\" class=\"dataframe\">\n",
       "  <thead>\n",
       "    <tr style=\"text-align: right;\">\n",
       "      <th></th>\n",
       "      <th>Precision@5, %</th>\n",
       "      <th>Recall@5, %</th>\n",
       "      <th>Coverage@50, %</th>\n",
       "      <th>Novelty@5, %</th>\n",
       "    </tr>\n",
       "  </thead>\n",
       "  <tbody>\n",
       "    <tr>\n",
       "      <th>Top popular</th>\n",
       "      <td>0.36</td>\n",
       "      <td>0.13</td>\n",
       "      <td>0.01</td>\n",
       "      <td>92.62</td>\n",
       "    </tr>\n",
       "    <tr>\n",
       "      <th>Personal ALS</th>\n",
       "      <td>1.59</td>\n",
       "      <td>1.20</td>\n",
       "      <td>1.31</td>\n",
       "      <td>100.00</td>\n",
       "    </tr>\n",
       "  </tbody>\n",
       "</table>\n",
       "</div>"
      ],
      "text/plain": [
       "              Precision@5, %  Recall@5, %  Coverage@50, %  Novelty@5, %\n",
       "Top popular             0.36         0.13            0.01         92.62\n",
       "Personal ALS            1.59         1.20            1.31        100.00"
      ]
     },
     "execution_count": 26,
     "metadata": {},
     "output_type": "execute_result"
    }
   ],
   "source": [
    "# Для экономии времени - загружаем метрики из кэша\n",
    "metrics = pd.read_parquet('cache/metrics_als.parquet')\n",
    "metrics"
   ]
  },
  {
   "cell_type": "markdown",
   "id": "41f4a808",
   "metadata": {},
   "source": [
    "Хороший рост метрик 👍 в сравениии с дефолтными рекомендациями топ-популярных.         \n",
    "100% novelty - ожидаемо, при построении ALS рекомендации заведомо не включали в них уже прослушанные пользователем треки."
   ]
  },
  {
   "cell_type": "code",
   "execution_count": null,
   "id": "1e8cdb58-3a8c-45ad-8e5f-7f950314aa56",
   "metadata": {},
   "outputs": [
    {
     "name": "stdout",
     "output_type": "stream",
     "text": [
      "Process memory usage: 6.75 GB\n"
     ]
    }
   ],
   "source": [
    "print_total_mem_usage()"
   ]
  },
  {
   "cell_type": "markdown",
   "id": "5f09dc7e-7c91-4355-860a-b9cfb9f33f15",
   "metadata": {},
   "source": [
    "#### 3.6 Похожие объекты"
   ]
  },
  {
   "cell_type": "raw",
   "id": "a75d07ee-4b12-4ce5-aa85-e45cb7a7a4f0",
   "metadata": {
    "vscode": {
     "languageId": "raw"
    }
   },
   "source": [
    "# время выполения 37 минут\n",
    "# Расчитаем похожие для всех объектов в обучающей выборке\n",
    "similar_item_ids, similar_scores = als_model.similar_items(\n",
    "    range(len(item_encoder.classes_)),\n",
    "    N=N_RECS_SIMILAR + 1\n",
    ")"
   ]
  },
  {
   "cell_type": "raw",
   "id": "ce370904-4c49-4152-8706-416074ea9b9a",
   "metadata": {
    "vscode": {
     "languageId": "raw"
    }
   },
   "source": [
    "# Перепаковываем рекомендации похожих объектов в таблицу формата\n",
    "# (item_id, sim_item_id, score)\n",
    "similar = pd.DataFrame({\n",
    "    'item_id': range(len(item_encoder.classes_)),\n",
    "    'sim_item_id': similar_item_ids.tolist(),\n",
    "    'score': similar_scores.tolist()\n",
    "})\n",
    "similar = similar.explode(['sim_item_id', 'score'], ignore_index=True)\n",
    "\n",
    "# Приводим типы\n",
    "similar['item_id'] = similar['item_id'].astype('int32')\n",
    "similar['sim_item_id'] = similar['sim_item_id'].astype('int32')\n",
    "similar['score'] = similar['score'].astype('float32')\n",
    "\n",
    "# Перекодируем индентификаторы в исходные \n",
    "similar['item_id'] = item_encoder.inverse_transform(similar['item_id'])\n",
    "similar['sim_item_id'] = item_encoder.inverse_transform(similar['sim_item_id'])\n",
    "\n",
    "# Удаляем похожих на самих себя\n",
    "similar = similar.query('item_id != sim_item_id').reset_index(drop=True).copy()"
   ]
  },
  {
   "cell_type": "raw",
   "id": "388107e3",
   "metadata": {
    "vscode": {
     "languageId": "raw"
    }
   },
   "source": [
    "# сохраняем локально\n",
    "similar.to_parquet('data/similar.parquet')\n",
    "\n",
    "# Заливаем similar в s3\n",
    "upload_file_to_s3('data/similar.parquet',\n",
    "                  'recsys/recommendations/similar.parquet')\n",
    "print_bucket_contents(key_pattern='recsys/recommendations/')"
   ]
  },
  {
   "cell_type": "raw",
   "id": "4d8375d7",
   "metadata": {
    "vscode": {
     "languageId": "raw"
    }
   },
   "source": [
    "# прибираемся\n",
    "del (similar, similar_item_ids, similar_scores, user_encoder, item_encoder,\n",
    "    als_model)"
   ]
  },
  {
   "cell_type": "code",
   "execution_count": null,
   "id": "743a73ac",
   "metadata": {},
   "outputs": [
    {
     "name": "stdout",
     "output_type": "stream",
     "text": [
      "Process memory usage: 6.75 GB\n"
     ]
    }
   ],
   "source": [
    "print_total_mem_usage()"
   ]
  },
  {
   "cell_type": "markdown",
   "id": "9ba296c1",
   "metadata": {},
   "source": [
    "#### 3.7 Дополнительное разбиение выборки для обучения ранжирующей модели"
   ]
  },
  {
   "cell_type": "markdown",
   "id": "775e98da",
   "metadata": {},
   "source": [
    "__NB! Методолгические замечания__           \n",
    "\n",
    "Для обучения ранжирующей модели нам нужно выделить отдельную обучающую выборку.     \n",
    "\n",
    "Если нарезать обучающую выборку как часть уже сужествующей тестовой выборки (например, 16-22 декабря - обучающая выборка для ранжирующей модели, 23-31 декабра - новая тестовая) - то проведенные выше расчеты рекомендаций и метрик становятся нерелевантными (изменяется размеры обучающей/тестовой выборок).     \n",
    "\n",
    "___Для обучения ранжирующей модели возьмем часть существующей обучаюющей выборки - c 1 по 15 декабря.       \n",
    "При этом для корректного обучения ранжирующей модели необходимо отдельно пересчитать рекомендации моделей топ-популярных и ALS, исключив из их обучающих выборок период 1-15 декабря.___\n",
    "\n",
    "Обозначаниия:\n",
    "- `events_train_rank_model` - события для обучения ранжирующей модели (1-15 декабря)\n",
    "- `events_train_candidates` - события для обучания кандидатов для обучения ранжирующей модели (1 января - 30 ноября)"
   ]
  },
  {
   "cell_type": "code",
   "execution_count": null,
   "id": "bdc567fe",
   "metadata": {},
   "outputs": [],
   "source": [
    "# Для обучения ранжирующей модели разобъем существующую\n",
    "# обучащую выборку на две части:\n",
    "# 1 января - 30 ноября: расчет кандидатов для обучения модели\n",
    "# 1 декабря - 15 декабря: обуечние ранжирущей модели\n",
    "\n",
    "rank_model_train_idx = (\n",
    "    events_train['started_at'] >= pd.to_datetime('2022-12-01')\n",
    ")\n",
    "\n",
    "events_train_rank_model = (\n",
    "    events_train[rank_model_train_idx].reset_index(drop=True).copy()\n",
    ")\n",
    "events_train_candidates = (\n",
    "    events_train[~rank_model_train_idx].reset_index(drop=True).copy()\n",
    ")\n",
    "\n",
    "del rank_model_train_idx"
   ]
  },
  {
   "cell_type": "code",
   "execution_count": null,
   "id": "a319fc39",
   "metadata": {},
   "outputs": [
    {
     "name": "stdout",
     "output_type": "stream",
     "text": [
      "Process memory usage: 9.01 GB\n"
     ]
    }
   ],
   "source": [
    "print_total_mem_usage()"
   ]
  },
  {
   "cell_type": "markdown",
   "id": "545ffa0e",
   "metadata": {},
   "source": [
    "#### 3.8 Пересчет топ-поулярных и ALS для обучения ранжирующей модели"
   ]
  },
  {
   "cell_type": "code",
   "execution_count": null,
   "id": "f1fc065d",
   "metadata": {},
   "outputs": [
    {
     "data": {
      "text/html": [
       "<div>\n",
       "<style scoped>\n",
       "    .dataframe tbody tr th:only-of-type {\n",
       "        vertical-align: middle;\n",
       "    }\n",
       "\n",
       "    .dataframe tbody tr th {\n",
       "        vertical-align: top;\n",
       "    }\n",
       "\n",
       "    .dataframe thead th {\n",
       "        text-align: right;\n",
       "    }\n",
       "</style>\n",
       "<table border=\"1\" class=\"dataframe\">\n",
       "  <thead>\n",
       "    <tr style=\"text-align: right;\">\n",
       "      <th></th>\n",
       "      <th>item_id</th>\n",
       "      <th>score</th>\n",
       "    </tr>\n",
       "  </thead>\n",
       "  <tbody>\n",
       "    <tr>\n",
       "      <th>0</th>\n",
       "      <td>53404</td>\n",
       "      <td>1.00</td>\n",
       "    </tr>\n",
       "    <tr>\n",
       "      <th>1</th>\n",
       "      <td>178529</td>\n",
       "      <td>0.91</td>\n",
       "    </tr>\n",
       "    <tr>\n",
       "      <th>2</th>\n",
       "      <td>33311009</td>\n",
       "      <td>0.87</td>\n",
       "    </tr>\n",
       "  </tbody>\n",
       "</table>\n",
       "</div>"
      ],
      "text/plain": [
       "    item_id  score\n",
       "0     53404   1.00\n",
       "1    178529   0.91\n",
       "2  33311009   0.87"
      ]
     },
     "execution_count": 33,
     "metadata": {},
     "output_type": "execute_result"
    }
   ],
   "source": [
    "# Перерасчет индекса популярности треков на событиях до 1 декабря \n",
    "top_popular_for_rank_train = (\n",
    "    events_train_candidates  # до 1 декабря\n",
    "    .groupby('item_id')\n",
    "    .agg(score=('user_id', 'count'))\n",
    "    .reset_index()\n",
    "    .sort_values(by='score', ascending=False, ignore_index=True)\n",
    "    [:N_RECS_USER]\n",
    "    .reset_index(drop=True)\n",
    ")\n",
    "top_popular_for_rank_train['score'] /= top_popular_for_rank_train['score'].max()\n",
    "top_popular_for_rank_train['score'] = (top_popular_for_rank_train['score']\n",
    "                                       .astype('float32'))\n",
    "\n",
    "# визуальная проверка \n",
    "top_popular_for_rank_train.head(3)"
   ]
  },
  {
   "cell_type": "code",
   "execution_count": null,
   "id": "76598072",
   "metadata": {},
   "outputs": [
    {
     "data": {
      "text/html": [
       "<div>\n",
       "<style scoped>\n",
       "    .dataframe tbody tr th:only-of-type {\n",
       "        vertical-align: middle;\n",
       "    }\n",
       "\n",
       "    .dataframe tbody tr th {\n",
       "        vertical-align: top;\n",
       "    }\n",
       "\n",
       "    .dataframe thead th {\n",
       "        text-align: right;\n",
       "    }\n",
       "</style>\n",
       "<table border=\"1\" class=\"dataframe\">\n",
       "  <thead>\n",
       "    <tr style=\"text-align: right;\">\n",
       "      <th></th>\n",
       "      <th>user_id</th>\n",
       "      <th>item_id</th>\n",
       "      <th>score</th>\n",
       "    </tr>\n",
       "  </thead>\n",
       "  <tbody>\n",
       "    <tr>\n",
       "      <th>0</th>\n",
       "      <td>3</td>\n",
       "      <td>53404</td>\n",
       "      <td>1.00</td>\n",
       "    </tr>\n",
       "    <tr>\n",
       "      <th>1</th>\n",
       "      <td>3</td>\n",
       "      <td>178529</td>\n",
       "      <td>0.91</td>\n",
       "    </tr>\n",
       "    <tr>\n",
       "      <th>2</th>\n",
       "      <td>3</td>\n",
       "      <td>33311009</td>\n",
       "      <td>0.87</td>\n",
       "    </tr>\n",
       "  </tbody>\n",
       "</table>\n",
       "</div>"
      ],
      "text/plain": [
       "   user_id   item_id  score\n",
       "0        3     53404   1.00\n",
       "1        3    178529   0.91\n",
       "2        3  33311009   0.87"
      ]
     },
     "execution_count": 34,
     "metadata": {},
     "output_type": "execute_result"
    }
   ],
   "source": [
    "# Подготовим таблицу с топ-популярными рекомендациями (user_id, item_id, score) \n",
    "# для обучения ранжирующей модели \n",
    "top_popular_recs_for_rank_train = (\n",
    "    events_train_rank_model[['user_id']]  # c 1 по 15 декабря\n",
    "    .drop_duplicates()\n",
    "    .reset_index(drop=True)\n",
    "    .merge(top_popular_for_rank_train, how='cross') # расчитаны до 1 декабря\n",
    "    .reset_index(drop=True)\n",
    ")\n",
    "top_popular_recs_for_rank_train.head(3)"
   ]
  },
  {
   "cell_type": "raw",
   "id": "ace3f470",
   "metadata": {
    "vscode": {
     "languageId": "raw"
    }
   },
   "source": [
    "# Создаем энкодеры для перекодирования идентификаторов user_id, item_id \n",
    "# в натруральный ряд  {0, 1, ...} для построения матрицы взаимодействий\n",
    "# NB: пользователи и объекты - только из выборки `events_train_candidates`\n",
    "# с событиями до 1 декабря (!)\n",
    "\n",
    "user_encoder = LabelEncoder().fit(\n",
    "    events_train_candidates['user_id'].drop_duplicates().sort_values()\n",
    ")\n",
    "item_encoder = LabelEncoder().fit(\n",
    "    events_train_candidates['item_id'].drop_duplicates().sort_values()\n",
    ")"
   ]
  },
  {
   "cell_type": "raw",
   "id": "521d7792",
   "metadata": {
    "vscode": {
     "languageId": "raw"
    }
   },
   "source": [
    "# создаём sparse-матрицу (user x item)\n",
    "# NB: для выборки `events_train_candidates` с событиями до 1 декабря (!)\n",
    "\n",
    "user_item_matrix = scipy.sparse.csr_matrix(\n",
    "    # кортеж вида (data, (row_index, col_index))\n",
    "    (\n",
    "        # взаимодействие -> единица\n",
    "        np.ones(len(events_train_candidates), dtype=np.int8),\n",
    "        (\n",
    "            user_encoder.transform(events_train_candidates['user_id']),\n",
    "            item_encoder.transform(events_train_candidates['item_id'])\n",
    "        )\n",
    "    )\n",
    ")"
   ]
  },
  {
   "cell_type": "raw",
   "id": "2eea8b3e",
   "metadata": {
    "vscode": {
     "languageId": "raw"
    }
   },
   "source": [
    "# Время выполения ~17 минут\n",
    "# Раскладываем матрицу с помощью ALS\n",
    "als_model_for_rank_train = AlternatingLeastSquares(\n",
    "    factors=50,     # уменьшим кол-во факторов/итераций для экономии времени\n",
    "    iterations=25,\n",
    "    regularization=0.05,\n",
    "    random_state=0\n",
    ")\n",
    "als_model_for_rank_train.fit(user_item_matrix)\n",
    "\n",
    "# Сохраним обученную модель\n",
    "with open('models/als_model_for_rank_train.pkl', 'wb') as f:\n",
    "    pickle.dump(als_model_for_rank_train, f)"
   ]
  },
  {
   "cell_type": "raw",
   "id": "30d2614b",
   "metadata": {
    "vscode": {
     "languageId": "raw"
    }
   },
   "source": [
    "# Эталоннный расчет для проверки загружаемой модели\n",
    "als_model_for_rank_train.recommend(1000, user_item_matrix[1000],\n",
    "                    filter_already_liked_items=True, N=10)\n",
    ">>>>\n",
    "(array([ 53626,  15574, 112104, 101784,  76875,  15982,  53631,  15575,\n",
    "         17419,  54813], dtype=int32),\n",
    " array([0.1438503 , 0.14330706, 0.14110357, 0.1399072 , 0.13899976,\n",
    "        0.13874966, 0.13243839, 0.12850942, 0.1110998 , 0.10858492],\n",
    "       dtype=float32))"
   ]
  },
  {
   "cell_type": "raw",
   "id": "47dba265",
   "metadata": {
    "vscode": {
     "languageId": "raw"
    }
   },
   "source": [
    "# Время выполения ~35 минут\n",
    "# Получаем рекомендации для всех пользователй из events_train_candidates\n",
    "als_item_ids, als_scores = als_model_for_rank_train.recommend(\n",
    "    range(len(user_encoder.classes_)),  # все закодированные user_id\n",
    "    user_item_matrix, \n",
    "    filter_already_liked_items=True,\n",
    "    N=N_RECS_USER\n",
    ")"
   ]
  },
  {
   "cell_type": "raw",
   "id": "0c4894a8",
   "metadata": {
    "vscode": {
     "languageId": "raw"
    }
   },
   "source": [
    "# Перепаковываем рекомендации als для обучения ранжирующей модели\n",
    "# в таблицу формата (user_id, item_id, score)\n",
    "personal_als_for_rank_train = pd.DataFrame({\n",
    "    'user_id': range(len(user_encoder.classes_)),\n",
    "    'item_id': als_item_ids.tolist(),\n",
    "    'score': als_scores.tolist()\n",
    "})\n",
    "personal_als_for_rank_train = (\n",
    "    personal_als_for_rank_train\n",
    "    .explode(['item_id', 'score'], ignore_index=True)\n",
    ")\n",
    "\n",
    "# Приводим типы\n",
    "personal_als_for_rank_train['user_id'] = (\n",
    "    personal_als_for_rank_train['user_id'].astype('int32')\n",
    ")\n",
    "personal_als_for_rank_train['item_id'] = (\n",
    "    personal_als_for_rank_train['item_id'].astype('int32')\n",
    ")\n",
    "personal_als_for_rank_train['score'] = (\n",
    "    personal_als_for_rank_train['score'].astype('float32')\n",
    ")\n",
    "\n",
    "# Перекодируем индентификаторы в исходные \n",
    "personal_als_for_rank_train['user_id'] = (\n",
    "    user_encoder.inverse_transform(personal_als_for_rank_train['user_id'])\n",
    ")\n",
    "personal_als_for_rank_train['item_id'] = (\n",
    "    item_encoder.inverse_transform(personal_als_for_rank_train['item_id'])\n",
    ")"
   ]
  },
  {
   "cell_type": "raw",
   "id": "e7cf2fc7",
   "metadata": {
    "vscode": {
     "languageId": "raw"
    }
   },
   "source": [
    "# Для экономии памяти удалим из персональных рекомендаций пользователей, \n",
    "# отсутствующих в выборке для обучения ранжирующей модели\n",
    "personal_als_for_rank_train = personal_als_for_rank_train[\n",
    "    personal_als_for_rank_train['user_id'].isin(\n",
    "        events_train_rank_model['user_id'].drop_duplicates()\n",
    "    )\n",
    "].reset_index(drop=True)"
   ]
  },
  {
   "cell_type": "raw",
   "id": "acf36d5f",
   "metadata": {
    "vscode": {
     "languageId": "raw"
    }
   },
   "source": [
    "# сохраняем personal_als_for_rank_train локально\n",
    "personal_als_for_rank_train.to_parquet(\n",
    "    'data/personal_als_for_rank_train.parquet'\n",
    ")"
   ]
  },
  {
   "cell_type": "raw",
   "id": "b055389b",
   "metadata": {
    "vscode": {
     "languageId": "raw"
    }
   },
   "source": [
    "# Прибираемся\n",
    "del (user_encoder, item_encoder, user_item_matrix, als_model_for_rank_train,\n",
    "     als_item_ids, als_scores)"
   ]
  },
  {
   "cell_type": "code",
   "execution_count": null,
   "id": "922b0374",
   "metadata": {},
   "outputs": [],
   "source": [
    "# Загружаем рекомендации als для обучения ранжирующей моделииз файла\n",
    "personal_als_for_rank_train = (\n",
    "    pd.read_parquet('data/personal_als_for_rank_train.parquet')\n",
    ")"
   ]
  },
  {
   "cell_type": "code",
   "execution_count": null,
   "id": "96560e08",
   "metadata": {},
   "outputs": [
    {
     "name": "stdout",
     "output_type": "stream",
     "text": [
      "Process memory usage: 10.48 GB\n"
     ]
    }
   ],
   "source": [
    "print_total_mem_usage()"
   ]
  },
  {
   "cell_type": "markdown",
   "id": "b0cb9569",
   "metadata": {},
   "source": [
    "#### 3.9 Построение таблиц с кандидатами для обучения/ранжирования"
   ]
  },
  {
   "cell_type": "markdown",
   "id": "20e9d3ac",
   "metadata": {},
   "source": [
    "Обозначения:\n",
    "- `candidates_for_train` - рекомендации (кандидаты) для обучения ранжирующей модели, рассчитаны на выборке `events_train_candidates` (до 1 декабря) \n",
    "- `candidates_for_inference` - рекомендации (кандидаты) для применения ранжирующей модели, рассчитаны на выборке `events_train` (до 16 декабря)"
   ]
  },
  {
   "cell_type": "code",
   "execution_count": null,
   "id": "8a89d738",
   "metadata": {},
   "outputs": [
    {
     "data": {
      "text/html": [
       "<div>\n",
       "<style scoped>\n",
       "    .dataframe tbody tr th:only-of-type {\n",
       "        vertical-align: middle;\n",
       "    }\n",
       "\n",
       "    .dataframe tbody tr th {\n",
       "        vertical-align: top;\n",
       "    }\n",
       "\n",
       "    .dataframe thead th {\n",
       "        text-align: right;\n",
       "    }\n",
       "</style>\n",
       "<table border=\"1\" class=\"dataframe\">\n",
       "  <thead>\n",
       "    <tr style=\"text-align: right;\">\n",
       "      <th></th>\n",
       "      <th>user_id</th>\n",
       "      <th>item_id</th>\n",
       "      <th>pop_score</th>\n",
       "      <th>als_score</th>\n",
       "    </tr>\n",
       "  </thead>\n",
       "  <tbody>\n",
       "    <tr>\n",
       "      <th>0</th>\n",
       "      <td>3</td>\n",
       "      <td>53404</td>\n",
       "      <td>1.00</td>\n",
       "      <td>NaN</td>\n",
       "    </tr>\n",
       "    <tr>\n",
       "      <th>1</th>\n",
       "      <td>3</td>\n",
       "      <td>33311009</td>\n",
       "      <td>0.92</td>\n",
       "      <td>0.28</td>\n",
       "    </tr>\n",
       "    <tr>\n",
       "      <th>2</th>\n",
       "      <td>3</td>\n",
       "      <td>178529</td>\n",
       "      <td>0.92</td>\n",
       "      <td>NaN</td>\n",
       "    </tr>\n",
       "  </tbody>\n",
       "</table>\n",
       "</div>"
      ],
      "text/plain": [
       "   user_id   item_id  pop_score  als_score\n",
       "0        3     53404       1.00        NaN\n",
       "1        3  33311009       0.92       0.28\n",
       "2        3    178529       0.92        NaN"
      ]
     },
     "execution_count": 37,
     "metadata": {},
     "output_type": "execute_result"
    }
   ],
   "source": [
    "# Кандидаты для обучения ранжирующей модели\n",
    "candidates_for_train = pd.merge(\n",
    "    top_popular_recs_for_rank_train.rename(columns={'score': 'pop_score'}),\n",
    "    personal_als_for_rank_train.rename(columns={'score': 'als_score'}),\n",
    "    on=['user_id', 'item_id'],\n",
    "    how='outer'\n",
    ")\n",
    "\n",
    "# Кандидаты для применения ранжирующей модели\n",
    "candidates_for_inference = pd.merge(\n",
    "    top_popular_recs.rename(columns={'score': 'pop_score'}),\n",
    "    personal_als.rename(columns={'score': 'als_score'}),\n",
    "    on=['user_id', 'item_id'],\n",
    "    how='outer'\n",
    ")\n",
    "\n",
    "# Визуальная проверка формата таблиц с кандидатами\n",
    "candidates_for_inference.head(3)"
   ]
  },
  {
   "cell_type": "code",
   "execution_count": null,
   "id": "b2b42c76",
   "metadata": {},
   "outputs": [],
   "source": [
    "# удалим из таблиц с кандидатами рекомендации для пользователей, отсутствующих\n",
    "# соответствующих тестовых выборках\n",
    "candidates_for_train = candidates_for_train[\n",
    "    candidates_for_train['user_id'].isin(events_train_rank_model['user_id']\n",
    "                                         .drop_duplicates())\n",
    "].reset_index(drop=True)\n",
    "\n",
    "candidates_for_inference = candidates_for_inference[\n",
    "    candidates_for_inference['user_id'].isin(events_test['user_id']\n",
    "                                             .drop_duplicates())\n",
    "].reset_index(drop=True)"
   ]
  },
  {
   "cell_type": "code",
   "execution_count": null,
   "id": "098eca86",
   "metadata": {},
   "outputs": [],
   "source": [
    "# Используя события events_train_rank_model (c 1 по 15 декабря) \n",
    "# разметим таргеты в таблице с кандидатами для обучения:\n",
    "# 1 - если пользователь прослушал трек, иначе - 0\n",
    "\n",
    "events_train_rank_model['target'] = 1\n",
    "candidates_for_train = candidates_for_train.merge(\n",
    "    events_train_rank_model[['user_id', 'item_id', 'target']], \n",
    "    on=['user_id', 'item_id'], \n",
    "    how='left'\n",
    ")\n",
    "candidates_for_train['target'] = (\n",
    "    candidates_for_train['target'].fillna(0).astype('int8')\n",
    ")"
   ]
  },
  {
   "cell_type": "code",
   "execution_count": null,
   "id": "6afc1295",
   "metadata": {},
   "outputs": [],
   "source": [
    "# Освободим немного памяти\n",
    "del (top_popular_recs, top_popular_recs_for_rank_train, \n",
    "     personal_als, personal_als_for_rank_train, events_train_rank_model)"
   ]
  },
  {
   "cell_type": "code",
   "execution_count": null,
   "id": "7da0a750",
   "metadata": {},
   "outputs": [],
   "source": [
    "# Для обучения ранжирующей модели обеспечим баланс классов \n",
    "# в обучающей выборке не хуже 20/80:\n",
    "# при наличии для пользователя релевантных рекомендаций (target=1) \n",
    "# оставляем для него не более 4 нерелевантных (target=0), остальные отбрасываем.\n",
    "\n",
    "# Оставляем только пользователей с релевантными рекомендациями:\n",
    "candidates_for_train = (\n",
    "    candidates_for_train\n",
    "    .groupby('user_id')\n",
    "    .filter(lambda x: x['target'].sum() > 0)\n",
    ")\n",
    "\n",
    "# оставляем для таких пользователей не более 4-х нерелевантных рекомендаций:\n",
    "candidates_for_train = pd.concat(\n",
    "    [\n",
    "        candidates_for_train.query('target == 1'),\n",
    "        (\n",
    "            candidates_for_train\n",
    "            .query('target == 0')\n",
    "            .groupby('user_id')\n",
    "            .sample(4, random_state=0)\n",
    "        )\n",
    "    ],\n",
    "    ignore_index=True\n",
    ")"
   ]
  },
  {
   "cell_type": "code",
   "execution_count": null,
   "id": "eed888a3",
   "metadata": {},
   "outputs": [
    {
     "data": {
      "text/plain": [
       "target\n",
       "0   0.65\n",
       "1   0.35\n",
       "Name: proportion, dtype: float64"
      ]
     },
     "execution_count": 42,
     "metadata": {},
     "output_type": "execute_result"
    }
   ],
   "source": [
    "# Итоговый баланс классов в обучающей выборке \n",
    "candidates_for_train['target'].value_counts(normalize=True)"
   ]
  },
  {
   "cell_type": "code",
   "execution_count": null,
   "id": "46eb1ba8",
   "metadata": {},
   "outputs": [
    {
     "name": "stdout",
     "output_type": "stream",
     "text": [
      "Process memory usage: 10.88 GB\n"
     ]
    }
   ],
   "source": [
    "print_total_mem_usage()"
   ]
  },
  {
   "cell_type": "markdown",
   "id": "0087a3e7-ca9f-42cd-944c-944222c1baef",
   "metadata": {},
   "source": [
    "#### 3.10 Построение признаков"
   ]
  },
  {
   "cell_type": "markdown",
   "id": "e82a32e1-b90b-4eaf-9439-fc8deab9f34b",
   "metadata": {},
   "source": [
    "Для построения ранжирующей модели, возьмем следующие признаки:\n",
    "- `popularity` - индекс популярности трека среди всех пользователей,\n",
    "- `track_position` - относительное положение трека в плейлисте пользователей (среднее по всем пользователям),\n",
    "- `genre_similarity` - попадание трека в жанровые предпочтения конкретного пользователя, для которого рассчитывается рекомендация.\n",
    "\n",
    "__NB:__ для кандидатов для обучения модели(`candidates_for_train`) и кандидатов для ранжирования (`candidates_for_inference`) одни и те же признаки будут иметь различные знаения [__!__], т.к. они рассчитываюься по разным обучающим выборкам - `events_train_candidates` и `events_train` соответственно."
   ]
  },
  {
   "cell_type": "markdown",
   "id": "63cfaeba",
   "metadata": {},
   "source": [
    "##### 3.10.1 Признак популярности трека"
   ]
  },
  {
   "cell_type": "markdown",
   "id": "1b277ed1",
   "metadata": {},
   "source": [
    "Расчитаем индекс популярности как общее кол-во прослушиваний трека различными пользователями.           \n",
    "Отнормируем от 0 до 1, разделив на максимальное число прослушиваний одного трека.   "
   ]
  },
  {
   "cell_type": "code",
   "execution_count": null,
   "id": "fa4a556c",
   "metadata": {},
   "outputs": [],
   "source": [
    "# Функция для расчета индекса популярности\n",
    "def get_item_popularity_scores(events: pd.DataFrame):\n",
    "    \"\"\"Get popularity scores based on event records:(user_id, item_id).\"\"\"\n",
    "    \n",
    "    item_popularity = (\n",
    "        events\n",
    "        .groupby('item_id')\n",
    "        .agg(popularity=('user_id', 'count'))\n",
    "        .reset_index()\n",
    "        .sort_values(by='popularity', ascending=False, ignore_index=True)\n",
    "        .reset_index(drop=True)\n",
    "    )\n",
    "    item_popularity['popularity'] /= item_popularity['popularity'].max()\n",
    "    item_popularity['popularity'] = (\n",
    "        item_popularity['popularity'].astype('float32')\n",
    "    )\n",
    "    return item_popularity"
   ]
  },
  {
   "cell_type": "code",
   "execution_count": null,
   "id": "05b4ae84-406a-44a4-abec-4f80f93e3004",
   "metadata": {},
   "outputs": [
    {
     "data": {
      "text/html": [
       "<div>\n",
       "<style scoped>\n",
       "    .dataframe tbody tr th:only-of-type {\n",
       "        vertical-align: middle;\n",
       "    }\n",
       "\n",
       "    .dataframe tbody tr th {\n",
       "        vertical-align: top;\n",
       "    }\n",
       "\n",
       "    .dataframe thead th {\n",
       "        text-align: right;\n",
       "    }\n",
       "</style>\n",
       "<table border=\"1\" class=\"dataframe\">\n",
       "  <thead>\n",
       "    <tr style=\"text-align: right;\">\n",
       "      <th></th>\n",
       "      <th>user_id</th>\n",
       "      <th>item_id</th>\n",
       "      <th>pop_score</th>\n",
       "      <th>als_score</th>\n",
       "      <th>target</th>\n",
       "      <th>popularity</th>\n",
       "    </tr>\n",
       "  </thead>\n",
       "  <tbody>\n",
       "    <tr>\n",
       "      <th>0</th>\n",
       "      <td>5</td>\n",
       "      <td>33311009</td>\n",
       "      <td>0.87</td>\n",
       "      <td>NaN</td>\n",
       "      <td>1</td>\n",
       "      <td>0.87</td>\n",
       "    </tr>\n",
       "    <tr>\n",
       "      <th>1</th>\n",
       "      <td>15</td>\n",
       "      <td>137670</td>\n",
       "      <td>0.57</td>\n",
       "      <td>NaN</td>\n",
       "      <td>1</td>\n",
       "      <td>0.57</td>\n",
       "    </tr>\n",
       "    <tr>\n",
       "      <th>2</th>\n",
       "      <td>26</td>\n",
       "      <td>60292250</td>\n",
       "      <td>0.58</td>\n",
       "      <td>0.10</td>\n",
       "      <td>1</td>\n",
       "      <td>0.58</td>\n",
       "    </tr>\n",
       "  </tbody>\n",
       "</table>\n",
       "</div>"
      ],
      "text/plain": [
       "   user_id   item_id  pop_score  als_score  target  popularity\n",
       "0        5  33311009       0.87        NaN       1        0.87\n",
       "1       15    137670       0.57        NaN       1        0.57\n",
       "2       26  60292250       0.58       0.10       1        0.58"
      ]
     },
     "execution_count": 45,
     "metadata": {},
     "output_type": "execute_result"
    }
   ],
   "source": [
    "# Добавляем признак популярности к candidates_for_train\n",
    "candidates_for_train = candidates_for_train.merge(\n",
    "    get_item_popularity_scores(events_train_candidates),  # <-- до 1 декабря\n",
    "    on='item_id',\n",
    "    how='left'\n",
    ")\n",
    "# визуальная проверка\n",
    "candidates_for_train.head(3)"
   ]
  },
  {
   "cell_type": "code",
   "execution_count": null,
   "id": "05e83ca5",
   "metadata": {},
   "outputs": [
    {
     "data": {
      "text/html": [
       "<div>\n",
       "<style scoped>\n",
       "    .dataframe tbody tr th:only-of-type {\n",
       "        vertical-align: middle;\n",
       "    }\n",
       "\n",
       "    .dataframe tbody tr th {\n",
       "        vertical-align: top;\n",
       "    }\n",
       "\n",
       "    .dataframe thead th {\n",
       "        text-align: right;\n",
       "    }\n",
       "</style>\n",
       "<table border=\"1\" class=\"dataframe\">\n",
       "  <thead>\n",
       "    <tr style=\"text-align: right;\">\n",
       "      <th></th>\n",
       "      <th>user_id</th>\n",
       "      <th>item_id</th>\n",
       "      <th>pop_score</th>\n",
       "      <th>als_score</th>\n",
       "      <th>popularity</th>\n",
       "    </tr>\n",
       "  </thead>\n",
       "  <tbody>\n",
       "    <tr>\n",
       "      <th>0</th>\n",
       "      <td>3</td>\n",
       "      <td>53404</td>\n",
       "      <td>1.00</td>\n",
       "      <td>NaN</td>\n",
       "      <td>1.00</td>\n",
       "    </tr>\n",
       "    <tr>\n",
       "      <th>1</th>\n",
       "      <td>3</td>\n",
       "      <td>33311009</td>\n",
       "      <td>0.92</td>\n",
       "      <td>0.28</td>\n",
       "      <td>0.92</td>\n",
       "    </tr>\n",
       "    <tr>\n",
       "      <th>2</th>\n",
       "      <td>3</td>\n",
       "      <td>178529</td>\n",
       "      <td>0.92</td>\n",
       "      <td>NaN</td>\n",
       "      <td>0.92</td>\n",
       "    </tr>\n",
       "  </tbody>\n",
       "</table>\n",
       "</div>"
      ],
      "text/plain": [
       "   user_id   item_id  pop_score  als_score  popularity\n",
       "0        3     53404       1.00        NaN        1.00\n",
       "1        3  33311009       0.92       0.28        0.92\n",
       "2        3    178529       0.92        NaN        0.92"
      ]
     },
     "execution_count": 46,
     "metadata": {},
     "output_type": "execute_result"
    }
   ],
   "source": [
    "# Добавляем признак популярности к candidates_for_inference\n",
    "candidates_for_inference = candidates_for_inference.merge(\n",
    "    get_item_popularity_scores(events_train),  # <-- до 16 декабря\n",
    "    on='item_id',\n",
    "    how='left'\n",
    ")\n",
    "# визуальная проверка\n",
    "candidates_for_inference.head(3)"
   ]
  },
  {
   "cell_type": "code",
   "execution_count": null,
   "id": "2cf0b2de",
   "metadata": {},
   "outputs": [
    {
     "name": "stdout",
     "output_type": "stream",
     "text": [
      "Process memory usage: 11.12 GB\n"
     ]
    }
   ],
   "source": [
    "print_total_mem_usage()"
   ]
  },
  {
   "cell_type": "markdown",
   "id": "0e9b1262",
   "metadata": {},
   "source": [
    "##### 3.10.2 Признак относительного положения трека в плейлистах"
   ]
  },
  {
   "cell_type": "markdown",
   "id": "f75c9c9a",
   "metadata": {},
   "source": [
    "Рассчитаем относительное положение трека в плейлисте как `track_seq` /  max(`track_seq`) для конкретного пользователя. "
   ]
  },
  {
   "cell_type": "code",
   "execution_count": null,
   "id": "818ef988",
   "metadata": {},
   "outputs": [],
   "source": [
    "def get_relative_track_position(events: pd.DataFrame) -> pd.Series:\n",
    "    \"\"\"Returns a series with relative track position for given events table.\"\"\"\n",
    "\n",
    "    # вычислять относительное положение трека в плейлисте \n",
    "    # будем заведомо кривым образом, но потребляющим меньше \n",
    "    # времени/пямяти отностительно стандартных \n",
    "    # методов .apply(), .transform() etc.\n",
    "    \n",
    "    # словарь {user_id: seq_size}\n",
    "    seq_size_for_user = (\n",
    "        events\n",
    "        .groupby('user_id')\n",
    "        ['track_seq']\n",
    "        .max()\n",
    "        .to_dict()\n",
    "    )\n",
    "\n",
    "    # векторизуем поиск по словарю\n",
    "    get_seq_size = np.vectorize(lambda x: seq_size_for_user[x])\n",
    "\n",
    "    return events['track_seq'] / get_seq_size(events['user_id'])"
   ]
  },
  {
   "cell_type": "code",
   "execution_count": null,
   "id": "7b44bf16",
   "metadata": {},
   "outputs": [
    {
     "data": {
      "text/html": [
       "<div>\n",
       "<style scoped>\n",
       "    .dataframe tbody tr th:only-of-type {\n",
       "        vertical-align: middle;\n",
       "    }\n",
       "\n",
       "    .dataframe tbody tr th {\n",
       "        vertical-align: top;\n",
       "    }\n",
       "\n",
       "    .dataframe thead th {\n",
       "        text-align: right;\n",
       "    }\n",
       "</style>\n",
       "<table border=\"1\" class=\"dataframe\">\n",
       "  <thead>\n",
       "    <tr style=\"text-align: right;\">\n",
       "      <th></th>\n",
       "      <th>user_id</th>\n",
       "      <th>item_id</th>\n",
       "      <th>pop_score</th>\n",
       "      <th>als_score</th>\n",
       "      <th>target</th>\n",
       "      <th>popularity</th>\n",
       "      <th>track_position</th>\n",
       "    </tr>\n",
       "  </thead>\n",
       "  <tbody>\n",
       "    <tr>\n",
       "      <th>0</th>\n",
       "      <td>5</td>\n",
       "      <td>33311009</td>\n",
       "      <td>0.87</td>\n",
       "      <td>NaN</td>\n",
       "      <td>1</td>\n",
       "      <td>0.87</td>\n",
       "      <td>0.51</td>\n",
       "    </tr>\n",
       "    <tr>\n",
       "      <th>1</th>\n",
       "      <td>15</td>\n",
       "      <td>137670</td>\n",
       "      <td>0.57</td>\n",
       "      <td>NaN</td>\n",
       "      <td>1</td>\n",
       "      <td>0.57</td>\n",
       "      <td>0.09</td>\n",
       "    </tr>\n",
       "    <tr>\n",
       "      <th>2</th>\n",
       "      <td>26</td>\n",
       "      <td>60292250</td>\n",
       "      <td>0.58</td>\n",
       "      <td>0.10</td>\n",
       "      <td>1</td>\n",
       "      <td>0.58</td>\n",
       "      <td>0.74</td>\n",
       "    </tr>\n",
       "  </tbody>\n",
       "</table>\n",
       "</div>"
      ],
      "text/plain": [
       "   user_id   item_id  pop_score  als_score  target  popularity  track_position\n",
       "0        5  33311009       0.87        NaN       1        0.87            0.51\n",
       "1       15    137670       0.57        NaN       1        0.57            0.09\n",
       "2       26  60292250       0.58       0.10       1        0.58            0.74"
      ]
     },
     "execution_count": 49,
     "metadata": {},
     "output_type": "execute_result"
    }
   ],
   "source": [
    "# Расчитываем и добавляем в events_train_candidates относительныое положение \n",
    "# трека в плейлисте\n",
    "events_train_candidates['track_position']= (\n",
    "    get_relative_track_position(events_train_candidates)\n",
    "    .astype('float32')\n",
    ")\n",
    "\n",
    "# Расчитываем среднее положение трека по всем пользователям\n",
    "avg_track_position_for_train = (\n",
    "    events_train_candidates\n",
    "    .groupby('item_id')\n",
    "    ['track_position']\n",
    "    .mean()\n",
    "    .reset_index()\n",
    ")\n",
    "\n",
    "# Добавляем признак `track_position` в таблицу candidates_for_train\n",
    "candidates_for_train = candidates_for_train.merge(\n",
    "    avg_track_position_for_train,\n",
    "    on=['item_id'],\n",
    "    how='left'\n",
    ")\n",
    "\n",
    "del avg_track_position_for_train\n",
    "\n",
    "# визуальная проверка\n",
    "candidates_for_train.head(3)"
   ]
  },
  {
   "cell_type": "code",
   "execution_count": null,
   "id": "3e08abc6",
   "metadata": {},
   "outputs": [
    {
     "data": {
      "text/html": [
       "<div>\n",
       "<style scoped>\n",
       "    .dataframe tbody tr th:only-of-type {\n",
       "        vertical-align: middle;\n",
       "    }\n",
       "\n",
       "    .dataframe tbody tr th {\n",
       "        vertical-align: top;\n",
       "    }\n",
       "\n",
       "    .dataframe thead th {\n",
       "        text-align: right;\n",
       "    }\n",
       "</style>\n",
       "<table border=\"1\" class=\"dataframe\">\n",
       "  <thead>\n",
       "    <tr style=\"text-align: right;\">\n",
       "      <th></th>\n",
       "      <th>user_id</th>\n",
       "      <th>item_id</th>\n",
       "      <th>pop_score</th>\n",
       "      <th>als_score</th>\n",
       "      <th>popularity</th>\n",
       "      <th>track_position</th>\n",
       "    </tr>\n",
       "  </thead>\n",
       "  <tbody>\n",
       "    <tr>\n",
       "      <th>0</th>\n",
       "      <td>3</td>\n",
       "      <td>53404</td>\n",
       "      <td>1.00</td>\n",
       "      <td>NaN</td>\n",
       "      <td>1.00</td>\n",
       "      <td>0.05</td>\n",
       "    </tr>\n",
       "    <tr>\n",
       "      <th>1</th>\n",
       "      <td>3</td>\n",
       "      <td>33311009</td>\n",
       "      <td>0.92</td>\n",
       "      <td>0.28</td>\n",
       "      <td>0.92</td>\n",
       "      <td>0.50</td>\n",
       "    </tr>\n",
       "    <tr>\n",
       "      <th>2</th>\n",
       "      <td>3</td>\n",
       "      <td>178529</td>\n",
       "      <td>0.92</td>\n",
       "      <td>NaN</td>\n",
       "      <td>0.92</td>\n",
       "      <td>0.11</td>\n",
       "    </tr>\n",
       "  </tbody>\n",
       "</table>\n",
       "</div>"
      ],
      "text/plain": [
       "   user_id   item_id  pop_score  als_score  popularity  track_position\n",
       "0        3     53404       1.00        NaN        1.00            0.05\n",
       "1        3  33311009       0.92       0.28        0.92            0.50\n",
       "2        3    178529       0.92        NaN        0.92            0.11"
      ]
     },
     "execution_count": 50,
     "metadata": {},
     "output_type": "execute_result"
    }
   ],
   "source": [
    "# Расчитываем и добавляем теперь уже для events_train относительныое положение \n",
    "# трека в плейлисте\n",
    "events_train['track_position']= (\n",
    "    get_relative_track_position(events_train)\n",
    "    .astype('float32')\n",
    ")\n",
    "\n",
    "# Расчитываем среднее положение трека по всем пользователям\n",
    "avg_track_position_for_inference = (\n",
    "    events_train\n",
    "    .groupby('item_id')\n",
    "    ['track_position']\n",
    "    .mean()\n",
    "    .reset_index()\n",
    ")\n",
    "\n",
    "# Добавляем признак `track_position` в таблицу candidates_for_inference\n",
    "candidates_for_inference = candidates_for_inference.merge(\n",
    "    avg_track_position_for_inference,\n",
    "    on=['item_id'],\n",
    "    how='left'\n",
    ")\n",
    "\n",
    "del avg_track_position_for_inference\n",
    "\n",
    "# визуальная проверка\n",
    "candidates_for_inference.head(3)"
   ]
  },
  {
   "cell_type": "code",
   "execution_count": null,
   "id": "a5912236",
   "metadata": {},
   "outputs": [],
   "source": [
    "# освободим немного памяти: удалим из таблиц events_train{_...} колонки\n",
    "# 'track_seq', 'started_at', 'track_position'\n",
    "(\n",
    "    events_train\n",
    "    .drop(columns=['track_seq', 'started_at', 'track_position'], inplace=True)\n",
    ")\n",
    "(\n",
    "    events_train_candidates\n",
    "    .drop(columns=['track_seq', 'started_at', 'track_position'], inplace=True)\n",
    ")"
   ]
  },
  {
   "cell_type": "code",
   "execution_count": null,
   "id": "27209063",
   "metadata": {},
   "outputs": [
    {
     "name": "stdout",
     "output_type": "stream",
     "text": [
      "Process memory usage: 11.34 GB\n"
     ]
    }
   ],
   "source": [
    "print_total_mem_usage()"
   ]
  },
  {
   "cell_type": "markdown",
   "id": "a7f1763e",
   "metadata": {},
   "source": [
    "##### 3.10.3 Признак схожести с жанровыми предпочтениями конкретного пользователя"
   ]
  },
  {
   "cell_type": "markdown",
   "id": "66466da2",
   "metadata": {},
   "source": [
    "__Метологический подход__\n",
    "     \n",
    "Для оценки соответствия трека жанровым предочтениям конкретного пользователя:\n",
    "- построим на основе подсчета имеющихся событий разреженную матрицу жанровых предпочтений {user x genre} для всех пользователей: строки - пользователи, столбцы - жанры.\n",
    "- вектор жанровой принадлежности трека у нас фактически есть в таблице items в виде списка индексов жанров, построим сам вектор разместив единицы по соответствующим индексам жанров и создадим разреженную матрицу {item x genre} - строки - объекты(треки), столбцы - жанры.\n",
    "- признак схожести расчитаем как косинусное сходство векторов жанровой принадлежности трека и соответствующей строки матрицы {user x genre}"
   ]
  },
  {
   "cell_type": "markdown",
   "id": "69e4e2bd",
   "metadata": {},
   "source": [
    "__Столкновение с реальностью__\n",
    "\n",
    "При реализации данного подхода с использованием разреженных мартиц `scipy.sparse` (на нашей 'учебной' инфраструктуре):\n",
    "- с объемами памяти все хорошо - её хватает, данные храняться в оптимальном формате и занимают минимум места,\n",
    "- ___со скоростью вычислений все плохо___ - даже с учетом всех алгоритмических оптимизаций (нормализация строк матриц, сведение косинусного расстояния к простому скалярному произвдению) время расчета для 80 млн. кандидатов составляет несколько часов. \n",
    "\n",
    "Узким местом являются операции поиска (получения) строки матрицы по индексу и расчет скалярного произвдения sparse-векторов.       \n",
    "Иллюстрация: "
   ]
  },
  {
   "cell_type": "code",
   "execution_count": null,
   "id": "7a747aae",
   "metadata": {},
   "outputs": [],
   "source": [
    "# Простейшие sparse-матрицы для бенчмарка скорости расчетов\n",
    "user_genre_test_csr =  scipy.sparse.csr_matrix(np.array([\n",
    "        [0, 1, 0, 3, 0, 5],\n",
    "        [0, 1, 0, 3, 0, 5]\n",
    "], dtype='float32'))\n",
    "\n",
    "item_genre_test_csr = scipy.sparse.csr_matrix(np.array([\n",
    "    [1, 1, 0, 0, 0, 0],\n",
    "    [0, 0, 0, 0, 1, 1]\n",
    "], dtype='float32'))"
   ]
  },
  {
   "cell_type": "code",
   "execution_count": null,
   "id": "da6b6ba3",
   "metadata": {},
   "outputs": [
    {
     "name": "stdout",
     "output_type": "stream",
     "text": [
      "268 μs ± 5.41 μs per loop (mean ± std. dev. of 7 runs, 1,000 loops each)\n"
     ]
    }
   ],
   "source": [
    "%%timeit\n",
    "# Бенчмарк времени единичного расчета - получение вектор-строки по индексу \n",
    "# и расчет скалярного произвдения \n",
    "user_genre_test_csr[1].dot(item_genre_test_csr[1].T)[0, 0]"
   ]
  },
  {
   "cell_type": "markdown",
   "id": "833bdc76",
   "metadata": {},
   "source": [
    "Что соответствует скорости обработки порядка 4 тысяч кандидатов в секунду или более 6 часов на полный расчет."
   ]
  },
  {
   "cell_type": "markdown",
   "id": "7eb489ed",
   "metadata": {},
   "source": [
    "__Альтернативный метод__\n",
    "\n",
    "Для снижения времени расчтетов используем следующие '_костыли_':      \n",
    "- для оптимизации времени поиска строки по индексу используем '_наивный косплей_` sparse формата на основе dict - будем хранить матрицы в виде словарей (словарь из словарей-строк из для user_genre, словарь из кортежей индексов жанров для item_genre)\n",
    "- для исключения 'дорогих' операций умножения при расчете скалярного произвдения - будем считать векторы жанровой принадлежности трека состоящими из единиц (убираем их нормировку), строки матрицы 'user_genre' нормируем по L1 (считаем 'доли' жанров), в качестве аналога косинусного сходства используем простое скалярное произведение данных векторов\n",
    "\n",
    "Оценим скорость расчетов для альтернативного метода:"
   ]
  },
  {
   "cell_type": "code",
   "execution_count": null,
   "id": "ebaa2dcb",
   "metadata": {},
   "outputs": [],
   "source": [
    "# Косплеим sparse формат матриц на основе dict\n",
    "user_genre_test_dict = {\n",
    "    0: {1: 1, 3: 3, 5: 5},\n",
    "    1: {1: 1, 3: 3, 5: 5}\n",
    "}\n",
    "item_genre_test_dict = {\n",
    "    0: (0, 1), \n",
    "    1: (4, 5) \n",
    "}"
   ]
  },
  {
   "cell_type": "code",
   "execution_count": null,
   "id": "f33a9d89",
   "metadata": {},
   "outputs": [
    {
     "name": "stdout",
     "output_type": "stream",
     "text": [
      "393 ns ± 1.71 ns per loop (mean ± std. dev. of 7 runs, 1,000,000 loops each)\n"
     ]
    }
   ],
   "source": [
    "%%timeit\n",
    "# Так как вектор в item_genre состоит из единиц - скалярное \n",
    "# произведение сводится к сумме компонент вектора из user_genre \n",
    "# по индексам значений в item_genre.\n",
    "sum(map(user_genre_test_dict[1].get, item_genre_test_dict[1], repeat(0.)))"
   ]
  },
  {
   "cell_type": "markdown",
   "id": "8290b759",
   "metadata": {},
   "source": [
    "Относительно исходного подхода мы проиграем по памяти (храним матрицы менее эффективно), но получим повышение скорости расчетов на 2.5 порядка [__!__] и снижение общего времени расчета до десятков секунд (плюс разумный overhead на подготовку матриц)."
   ]
  },
  {
   "cell_type": "code",
   "execution_count": null,
   "id": "4000d375",
   "metadata": {},
   "outputs": [],
   "source": [
    "del (user_genre_test_csr, item_genre_test_csr, user_genre_test_dict,\n",
    "     item_genre_test_dict)"
   ]
  },
  {
   "cell_type": "markdown",
   "id": "36e21172",
   "metadata": {},
   "source": [
    "__Реализуем альтернативный подход__           \n",
    "\n",
    "Создадим матрицу жанровых предпочтений {user x genre} по выборке `events_train_candidates` (события до 1 декабря)"
   ]
  },
  {
   "cell_type": "code",
   "execution_count": null,
   "id": "43ee6da8",
   "metadata": {},
   "outputs": [
    {
     "data": {
      "text/html": [
       "<div>\n",
       "<style scoped>\n",
       "    .dataframe tbody tr th:only-of-type {\n",
       "        vertical-align: middle;\n",
       "    }\n",
       "\n",
       "    .dataframe tbody tr th {\n",
       "        vertical-align: top;\n",
       "    }\n",
       "\n",
       "    .dataframe thead th {\n",
       "        text-align: right;\n",
       "    }\n",
       "</style>\n",
       "<table border=\"1\" class=\"dataframe\">\n",
       "  <thead>\n",
       "    <tr style=\"text-align: right;\">\n",
       "      <th></th>\n",
       "      <th>user_id</th>\n",
       "      <th>item_id</th>\n",
       "      <th>genres</th>\n",
       "    </tr>\n",
       "  </thead>\n",
       "  <tbody>\n",
       "    <tr>\n",
       "      <th>0</th>\n",
       "      <td>5</td>\n",
       "      <td>975</td>\n",
       "      <td>(14, 102)</td>\n",
       "    </tr>\n",
       "  </tbody>\n",
       "</table>\n",
       "</div>"
      ],
      "text/plain": [
       "   user_id  item_id     genres\n",
       "0        5      975  (14, 102)"
      ]
     },
     "execution_count": 58,
     "metadata": {},
     "output_type": "execute_result"
    }
   ],
   "source": [
    "# Для уменьшения разметрности матрицы отфильтруем события в выборке\n",
    "# `events_train_candidates`, оставив только пользователей, для которых\n",
    "# построены рекомендации, т.е. из `candidates_for_train`\n",
    "events_for_user_genre = events_train_candidates[\n",
    "    events_train_candidates['user_id'].isin(candidates_for_train['user_id'])\n",
    "].reset_index(drop=True)\n",
    "\n",
    "# Добавим к матрице событий кортежи с жанрами из каталога items\n",
    "events_for_user_genre = events_for_user_genre.merge(\n",
    "    items[['item_id', 'genres']],\n",
    "    on=['item_id'],\n",
    "    how='left'\n",
    ")\n",
    "\n",
    "# Визуальная проверка формата событий для расчета матрицы\n",
    "events_for_user_genre.head(1)"
   ]
  },
  {
   "cell_type": "code",
   "execution_count": null,
   "id": "395e4b8c",
   "metadata": {},
   "outputs": [
    {
     "data": {
      "text/plain": [
       "defaultdict(int,\n",
       "            {14: 0.20422535211267606,\n",
       "             102: 0.43661971830985913,\n",
       "             59: 0.035211267605633804,\n",
       "             383: 0.007042253521126761,\n",
       "             11: 0.02112676056338028,\n",
       "             13: 0.035211267605633804,\n",
       "             38: 0.007042253521126761,\n",
       "             47: 0.014084507042253521,\n",
       "             2: 0.2112676056338028,\n",
       "             41: 0.007042253521126761,\n",
       "             17: 0.007042253521126761,\n",
       "             25: 0.007042253521126761,\n",
       "             246: 0.007042253521126761})"
      ]
     },
     "execution_count": 59,
     "metadata": {},
     "output_type": "execute_result"
    }
   ],
   "source": [
    "# Для ускорения последующих расчетов создадим матрицу user_genre \n",
    "# как словарь из словарей(строк матрицы) следующего формата: \n",
    "# { \n",
    "#   <id_пользователя> : {\n",
    "#       <id_жанра1>: <доля_жанра1>, \n",
    "#       <id_жанра2>: <доля_жанра2>,\n",
    "#       ...\n",
    "#   }, \n",
    "#   ...\n",
    "# }\n",
    "# где <доля_жанра_i> есть относительная доля конкретного жанра среди всех\n",
    "# прослушанных пользователем треков.\n",
    "# NB: сумма всех долей жанров для каждого конкретного пользователя равна\n",
    "# единице (т.е. каждая строка матрицы нормированна на 1 по норме L1)\n",
    "\n",
    "user_genre = defaultdict(lambda: defaultdict(int))\n",
    "\n",
    "# считаем кол-во прослушиваний каждого жанра каждым пользователем\n",
    "for event in events_for_user_genre.itertuples(index=False):\n",
    "    for genre_id in event.genres:\n",
    "        user_genre[event.user_id][genre_id] += 1\n",
    "\n",
    "# Нормируем строки\n",
    "for user_id, row in user_genre.items():\n",
    "    norm = sum(row.values())\n",
    "    for genre_id in row:\n",
    "        row[genre_id] /= norm\n",
    "\n",
    "del events_for_user_genre, event, row, user_id, genre_id, norm\n",
    "\n",
    "# Визуальная проверка: значение в словаре user_genre по ключу user_id=5\n",
    "user_genre[5]"
   ]
  },
  {
   "cell_type": "markdown",
   "id": "4a404de6",
   "metadata": {},
   "source": [
    "Подготовим матрицу жанровой принадлежности треков {item x genre} в виде словаря с индедексами жанров"
   ]
  },
  {
   "cell_type": "code",
   "execution_count": null,
   "id": "57bfff4e",
   "metadata": {},
   "outputs": [
    {
     "data": {
      "text/plain": [
       "(11, 21)"
      ]
     },
     "execution_count": 60,
     "metadata": {},
     "output_type": "execute_result"
    }
   ],
   "source": [
    "# Формат хранения матрицы item_genre - по ключам словаря храним только\n",
    "# идентификаторы соответствующих жанров в виде кортежей:\n",
    "# {\n",
    "#   <id_объекта>: (<id_жанра1>, <id_жанра2>, ...),\n",
    "#   ...\n",
    "# }\n",
    "\n",
    "item_genres = items.set_index('item_id')['genres'].to_dict()\n",
    "\n",
    "# Визуальаная проверка: значение по ключу item_id=26\n",
    "item_genres[26]"
   ]
  },
  {
   "cell_type": "markdown",
   "id": "28c1951f",
   "metadata": {},
   "source": [
    "Расчет признака `genre_similarity` как сходства двух векторов: \n",
    "- вектора жанровой принадлежности трека\n",
    "- вектора жанровых предпочтений пользователя"
   ]
  },
  {
   "cell_type": "code",
   "execution_count": null,
   "id": "9208831c",
   "metadata": {},
   "outputs": [],
   "source": [
    "# Подготовим функцию расчета жанрового сходства для пары (user_id, item_id)\n",
    "def get_genre_similarity_scalar(user_id: int, item_id: int) -> float:\n",
    "    \"\"\"Calculate genre similarity for pair (user_id, item_id).\"\"\"\n",
    "\n",
    "    # Если для пользователя нет рассчитанных жанровых предпочтений (холодный\n",
    "    # пользователь) то значение сходства не определено. \n",
    "    if not (user_prefs := user_genre.get(user_id)):\n",
    "        return np.nan\n",
    "    \n",
    "    # Суммируем относительные доли для жанров соответствующих объекту\n",
    "    return sum(map(user_prefs.get, item_genres[item_id], repeat(0.)))\n",
    "\n",
    "# Векторизуем функцию\n",
    "get_genre_similarity_vec = np.vectorize(\n",
    "    get_genre_similarity_scalar,\n",
    "    otypes=['float32']\n",
    ")"
   ]
  },
  {
   "cell_type": "code",
   "execution_count": null,
   "id": "83f25a9a",
   "metadata": {},
   "outputs": [
    {
     "data": {
      "text/html": [
       "<div>\n",
       "<style scoped>\n",
       "    .dataframe tbody tr th:only-of-type {\n",
       "        vertical-align: middle;\n",
       "    }\n",
       "\n",
       "    .dataframe tbody tr th {\n",
       "        vertical-align: top;\n",
       "    }\n",
       "\n",
       "    .dataframe thead th {\n",
       "        text-align: right;\n",
       "    }\n",
       "</style>\n",
       "<table border=\"1\" class=\"dataframe\">\n",
       "  <thead>\n",
       "    <tr style=\"text-align: right;\">\n",
       "      <th></th>\n",
       "      <th>user_id</th>\n",
       "      <th>item_id</th>\n",
       "      <th>pop_score</th>\n",
       "      <th>als_score</th>\n",
       "      <th>target</th>\n",
       "      <th>popularity</th>\n",
       "      <th>track_position</th>\n",
       "      <th>genre_similarity</th>\n",
       "    </tr>\n",
       "  </thead>\n",
       "  <tbody>\n",
       "    <tr>\n",
       "      <th>0</th>\n",
       "      <td>5</td>\n",
       "      <td>33311009</td>\n",
       "      <td>0.87</td>\n",
       "      <td>NaN</td>\n",
       "      <td>1</td>\n",
       "      <td>0.87</td>\n",
       "      <td>0.51</td>\n",
       "      <td>0.64</td>\n",
       "    </tr>\n",
       "    <tr>\n",
       "      <th>1</th>\n",
       "      <td>15</td>\n",
       "      <td>137670</td>\n",
       "      <td>0.57</td>\n",
       "      <td>NaN</td>\n",
       "      <td>1</td>\n",
       "      <td>0.57</td>\n",
       "      <td>0.09</td>\n",
       "      <td>NaN</td>\n",
       "    </tr>\n",
       "    <tr>\n",
       "      <th>2</th>\n",
       "      <td>26</td>\n",
       "      <td>60292250</td>\n",
       "      <td>0.58</td>\n",
       "      <td>0.10</td>\n",
       "      <td>1</td>\n",
       "      <td>0.58</td>\n",
       "      <td>0.74</td>\n",
       "      <td>0.10</td>\n",
       "    </tr>\n",
       "  </tbody>\n",
       "</table>\n",
       "</div>"
      ],
      "text/plain": [
       "   user_id   item_id  pop_score  als_score  target  popularity  \\\n",
       "0        5  33311009       0.87        NaN       1        0.87   \n",
       "1       15    137670       0.57        NaN       1        0.57   \n",
       "2       26  60292250       0.58       0.10       1        0.58   \n",
       "\n",
       "   track_position  genre_similarity  \n",
       "0            0.51              0.64  \n",
       "1            0.09               NaN  \n",
       "2            0.74              0.10  "
      ]
     },
     "execution_count": 62,
     "metadata": {},
     "output_type": "execute_result"
    }
   ],
   "source": [
    "# Произведем расчет для candidates_for_train\n",
    "candidates_for_train['genre_similarity'] = (\n",
    "    get_genre_similarity_vec(\n",
    "        candidates_for_train['user_id'],\n",
    "        candidates_for_train['item_id']\n",
    "    )\n",
    ")\n",
    "# Визуальная проверка\n",
    "candidates_for_train.head(3)"
   ]
  },
  {
   "cell_type": "code",
   "execution_count": null,
   "id": "10068bcd",
   "metadata": {},
   "outputs": [],
   "source": [
    "# Освободим немного пямяти\n",
    "del events_train_candidates, user_genre"
   ]
  },
  {
   "cell_type": "markdown",
   "id": "258f0e33",
   "metadata": {},
   "source": [
    "Теперь создадим матрицу жанровых предпочтений {user x genre} по полной выборке `events_train` (события до 16 декабря)"
   ]
  },
  {
   "cell_type": "code",
   "execution_count": null,
   "id": "45b4cbbb",
   "metadata": {},
   "outputs": [
    {
     "data": {
      "text/html": [
       "<div>\n",
       "<style scoped>\n",
       "    .dataframe tbody tr th:only-of-type {\n",
       "        vertical-align: middle;\n",
       "    }\n",
       "\n",
       "    .dataframe tbody tr th {\n",
       "        vertical-align: top;\n",
       "    }\n",
       "\n",
       "    .dataframe thead th {\n",
       "        text-align: right;\n",
       "    }\n",
       "</style>\n",
       "<table border=\"1\" class=\"dataframe\">\n",
       "  <thead>\n",
       "    <tr style=\"text-align: right;\">\n",
       "      <th></th>\n",
       "      <th>user_id</th>\n",
       "      <th>item_id</th>\n",
       "      <th>genres</th>\n",
       "    </tr>\n",
       "  </thead>\n",
       "  <tbody>\n",
       "    <tr>\n",
       "      <th>0</th>\n",
       "      <td>3</td>\n",
       "      <td>6006252</td>\n",
       "      <td>(11, 20)</td>\n",
       "    </tr>\n",
       "  </tbody>\n",
       "</table>\n",
       "</div>"
      ],
      "text/plain": [
       "   user_id  item_id    genres\n",
       "0        3  6006252  (11, 20)"
      ]
     },
     "execution_count": 64,
     "metadata": {},
     "output_type": "execute_result"
    }
   ],
   "source": [
    "# Для уменьшения разметрности матрицы отфильтруем события в выборке\n",
    "# `events_train`, оставив только пользователей, для которых\n",
    "# построены рекомендации, т.е. из `candidates_for_inference`\n",
    "events_for_user_genre = events_train[\n",
    "    events_train['user_id'].isin(candidates_for_inference['user_id'])\n",
    "].reset_index(drop=True)\n",
    "\n",
    "# Добавим к матрице событий кортежи с жанрами из каталога items\n",
    "events_for_user_genre = events_for_user_genre.merge(\n",
    "    items[['item_id', 'genres']],\n",
    "    on=['item_id'],\n",
    "    how='left'\n",
    ")\n",
    "\n",
    "# Визуальная проверка формата событий для расчета матрицы\n",
    "events_for_user_genre.head(1)"
   ]
  },
  {
   "cell_type": "code",
   "execution_count": null,
   "id": "4cb690a4",
   "metadata": {},
   "outputs": [
    {
     "data": {
      "text/plain": [
       "defaultdict(int,\n",
       "            {11: 0.21666666666666667,\n",
       "             20: 0.2,\n",
       "             70: 0.03333333333333333,\n",
       "             16: 0.016666666666666666,\n",
       "             3: 0.25,\n",
       "             75: 0.26666666666666666,\n",
       "             44: 0.016666666666666666})"
      ]
     },
     "execution_count": 65,
     "metadata": {},
     "output_type": "execute_result"
    }
   ],
   "source": [
    "# Аналогично подробному описанию выше создадим матрицу user_genre \n",
    "# для по полной выборки `events_train`\n",
    "\n",
    "user_genre = defaultdict(lambda: defaultdict(int))\n",
    "\n",
    "# считаем кол-во прослушиваний каждого жанра каждым пользователем\n",
    "for event in events_for_user_genre.itertuples(index=False):\n",
    "    for genre_id in event.genres:\n",
    "        user_genre[event.user_id][genre_id] += 1\n",
    "\n",
    "# Нормируем строки\n",
    "for user_id, row in user_genre.items():\n",
    "    norm = sum(row.values())\n",
    "    for genre_id in row:\n",
    "        row[genre_id] /= norm\n",
    "\n",
    "del events_for_user_genre, event, row, user_id, genre_id, norm\n",
    "\n",
    "# Визуальная проверка: значение в словаре user_genre по ключу user_id=5\n",
    "user_genre[3]"
   ]
  },
  {
   "cell_type": "markdown",
   "id": "c4f75452",
   "metadata": {},
   "source": [
    "Обновленная по выборке `events_train` матрица user_genre посчитана, матрица item_genre остается той же - можно считать признак `genre_similarity` для кандидатов `candidates_for_inference`."
   ]
  },
  {
   "cell_type": "code",
   "execution_count": null,
   "id": "34883690",
   "metadata": {},
   "outputs": [
    {
     "data": {
      "text/html": [
       "<div>\n",
       "<style scoped>\n",
       "    .dataframe tbody tr th:only-of-type {\n",
       "        vertical-align: middle;\n",
       "    }\n",
       "\n",
       "    .dataframe tbody tr th {\n",
       "        vertical-align: top;\n",
       "    }\n",
       "\n",
       "    .dataframe thead th {\n",
       "        text-align: right;\n",
       "    }\n",
       "</style>\n",
       "<table border=\"1\" class=\"dataframe\">\n",
       "  <thead>\n",
       "    <tr style=\"text-align: right;\">\n",
       "      <th></th>\n",
       "      <th>user_id</th>\n",
       "      <th>item_id</th>\n",
       "      <th>pop_score</th>\n",
       "      <th>als_score</th>\n",
       "      <th>popularity</th>\n",
       "      <th>track_position</th>\n",
       "      <th>genre_similarity</th>\n",
       "    </tr>\n",
       "  </thead>\n",
       "  <tbody>\n",
       "    <tr>\n",
       "      <th>0</th>\n",
       "      <td>3</td>\n",
       "      <td>53404</td>\n",
       "      <td>1.00</td>\n",
       "      <td>NaN</td>\n",
       "      <td>1.00</td>\n",
       "      <td>0.05</td>\n",
       "      <td>0.00</td>\n",
       "    </tr>\n",
       "    <tr>\n",
       "      <th>1</th>\n",
       "      <td>3</td>\n",
       "      <td>33311009</td>\n",
       "      <td>0.92</td>\n",
       "      <td>0.28</td>\n",
       "      <td>0.92</td>\n",
       "      <td>0.50</td>\n",
       "      <td>0.00</td>\n",
       "    </tr>\n",
       "    <tr>\n",
       "      <th>2</th>\n",
       "      <td>3</td>\n",
       "      <td>178529</td>\n",
       "      <td>0.92</td>\n",
       "      <td>NaN</td>\n",
       "      <td>0.92</td>\n",
       "      <td>0.11</td>\n",
       "      <td>0.00</td>\n",
       "    </tr>\n",
       "  </tbody>\n",
       "</table>\n",
       "</div>"
      ],
      "text/plain": [
       "   user_id   item_id  pop_score  als_score  popularity  track_position  \\\n",
       "0        3     53404       1.00        NaN        1.00            0.05   \n",
       "1        3  33311009       0.92       0.28        0.92            0.50   \n",
       "2        3    178529       0.92        NaN        0.92            0.11   \n",
       "\n",
       "   genre_similarity  \n",
       "0              0.00  \n",
       "1              0.00  \n",
       "2              0.00  "
      ]
     },
     "execution_count": 66,
     "metadata": {},
     "output_type": "execute_result"
    }
   ],
   "source": [
    "# Произведем расчет для candidates_for_inference\n",
    "candidates_for_inference['genre_similarity'] = (\n",
    "    get_genre_similarity_vec(\n",
    "        candidates_for_inference['user_id'],\n",
    "        candidates_for_inference['item_id']\n",
    "    )\n",
    ")\n",
    "# Визуальная проверка\n",
    "candidates_for_inference.head(3)"
   ]
  },
  {
   "cell_type": "code",
   "execution_count": null,
   "id": "0a56be24",
   "metadata": {},
   "outputs": [],
   "source": [
    "# Освободим немного пямяти\n",
    "del item_genres, user_genre"
   ]
  },
  {
   "cell_type": "code",
   "execution_count": null,
   "id": "10a4ccce",
   "metadata": {},
   "outputs": [],
   "source": [
    "# Сохраним таблицы с кандидатами локально\n",
    "candidates_for_train.to_parquet('data/candidates_for_train.parquet')\n",
    "candidates_for_inference.to_parquet('data/candidates_for_inference.parquet')"
   ]
  },
  {
   "cell_type": "code",
   "execution_count": null,
   "id": "af8431d0",
   "metadata": {},
   "outputs": [
    {
     "name": "stdout",
     "output_type": "stream",
     "text": [
      "Process memory usage: 13.11 GB\n"
     ]
    }
   ],
   "source": [
    "print_total_mem_usage()"
   ]
  },
  {
   "cell_type": "markdown",
   "id": "47bcf88d-b236-46f0-a6f3-38ddd64895fe",
   "metadata": {},
   "source": [
    "#### 3.11 Обучение ранжирующей модели и ранжирование рекомендаций"
   ]
  },
  {
   "cell_type": "markdown",
   "id": "6071c559",
   "metadata": {},
   "source": [
    "Обучим ранжирующую модель на выборке `candidates_for_train` (события с 1 по 15 декабря, кандидаты и признаки рассчитаны по событиям до 1 декабря)"
   ]
  },
  {
   "cell_type": "code",
   "execution_count": null,
   "id": "cf5f6d26",
   "metadata": {},
   "outputs": [
    {
     "data": {
      "text/html": [
       "<div>\n",
       "<style scoped>\n",
       "    .dataframe tbody tr th:only-of-type {\n",
       "        vertical-align: middle;\n",
       "    }\n",
       "\n",
       "    .dataframe tbody tr th {\n",
       "        vertical-align: top;\n",
       "    }\n",
       "\n",
       "    .dataframe thead th {\n",
       "        text-align: right;\n",
       "    }\n",
       "</style>\n",
       "<table border=\"1\" class=\"dataframe\">\n",
       "  <thead>\n",
       "    <tr style=\"text-align: right;\">\n",
       "      <th></th>\n",
       "      <th>user_id</th>\n",
       "      <th>item_id</th>\n",
       "      <th>pop_score</th>\n",
       "      <th>als_score</th>\n",
       "      <th>target</th>\n",
       "      <th>popularity</th>\n",
       "      <th>track_position</th>\n",
       "      <th>genre_similarity</th>\n",
       "    </tr>\n",
       "  </thead>\n",
       "  <tbody>\n",
       "    <tr>\n",
       "      <th>0</th>\n",
       "      <td>5</td>\n",
       "      <td>33311009</td>\n",
       "      <td>0.87</td>\n",
       "      <td>NaN</td>\n",
       "      <td>1</td>\n",
       "      <td>0.87</td>\n",
       "      <td>0.51</td>\n",
       "      <td>0.64</td>\n",
       "    </tr>\n",
       "    <tr>\n",
       "      <th>1</th>\n",
       "      <td>15</td>\n",
       "      <td>137670</td>\n",
       "      <td>0.57</td>\n",
       "      <td>NaN</td>\n",
       "      <td>1</td>\n",
       "      <td>0.57</td>\n",
       "      <td>0.09</td>\n",
       "      <td>NaN</td>\n",
       "    </tr>\n",
       "    <tr>\n",
       "      <th>2</th>\n",
       "      <td>26</td>\n",
       "      <td>60292250</td>\n",
       "      <td>0.58</td>\n",
       "      <td>0.10</td>\n",
       "      <td>1</td>\n",
       "      <td>0.58</td>\n",
       "      <td>0.74</td>\n",
       "      <td>0.10</td>\n",
       "    </tr>\n",
       "  </tbody>\n",
       "</table>\n",
       "</div>"
      ],
      "text/plain": [
       "   user_id   item_id  pop_score  als_score  target  popularity  \\\n",
       "0        5  33311009       0.87        NaN       1        0.87   \n",
       "1       15    137670       0.57        NaN       1        0.57   \n",
       "2       26  60292250       0.58       0.10       1        0.58   \n",
       "\n",
       "   track_position  genre_similarity  \n",
       "0            0.51              0.64  \n",
       "1            0.09               NaN  \n",
       "2            0.74              0.10  "
      ]
     },
     "execution_count": 70,
     "metadata": {},
     "output_type": "execute_result"
    }
   ],
   "source": [
    "# Еще раз посмотрим на состав обучающих данных\n",
    "candidates_for_train.head(3)"
   ]
  },
  {
   "cell_type": "code",
   "execution_count": null,
   "id": "79f1dd92-32a9-463d-827e-8bb9ee5bbb54",
   "metadata": {},
   "outputs": [],
   "source": [
    "# Имена фичей для ранжирующей модели\n",
    "rank_model_feature_names = ['pop_score', 'als_score', 'popularity', \n",
    "                            'track_position', 'genre_similarity']"
   ]
  },
  {
   "cell_type": "raw",
   "id": "8197ad01",
   "metadata": {
    "vscode": {
     "languageId": "raw"
    }
   },
   "source": [
    "# Перепаковываем данные в нативный формат catboost\n",
    "rank_model_train_data = Pool(\n",
    "    data=candidates_for_train[rank_model_feature_names], \n",
    "    label=candidates_for_train['target']\n",
    ")\n",
    "\n",
    "# Инициализируем класс модель CatBoostClassifier\n",
    "rank_model = CatBoostClassifier(\n",
    "    iterations=1000,\n",
    "    loss_function='Logloss',\n",
    "    verbose=100,\n",
    "    random_seed=0,\n",
    ")\n",
    "\n",
    "# Обучаем модель\n",
    "rank_model.fit(rank_model_train_data) \n",
    "\n",
    "del rank_model_train_data\n",
    "\n",
    "# Сохраняем обученную модель\n",
    "rank_model.save_model('models/rank_model.cbm')"
   ]
  },
  {
   "cell_type": "code",
   "execution_count": null,
   "id": "636c984b",
   "metadata": {},
   "outputs": [],
   "source": [
    "# Загружаем обученную модель\n",
    "rank_model = CatBoostClassifier().load_model('models/rank_model.cbm')"
   ]
  },
  {
   "cell_type": "code",
   "execution_count": null,
   "id": "e850c51d",
   "metadata": {},
   "outputs": [
    {
     "data": {
      "text/html": [
       "<div>\n",
       "<style scoped>\n",
       "    .dataframe tbody tr th:only-of-type {\n",
       "        vertical-align: middle;\n",
       "    }\n",
       "\n",
       "    .dataframe tbody tr th {\n",
       "        vertical-align: top;\n",
       "    }\n",
       "\n",
       "    .dataframe thead th {\n",
       "        text-align: right;\n",
       "    }\n",
       "</style>\n",
       "<table border=\"1\" class=\"dataframe\">\n",
       "  <thead>\n",
       "    <tr style=\"text-align: right;\">\n",
       "      <th></th>\n",
       "      <th>Importance</th>\n",
       "    </tr>\n",
       "  </thead>\n",
       "  <tbody>\n",
       "    <tr>\n",
       "      <th>track_position</th>\n",
       "      <td>44.20</td>\n",
       "    </tr>\n",
       "    <tr>\n",
       "      <th>genre_similarity</th>\n",
       "      <td>20.74</td>\n",
       "    </tr>\n",
       "    <tr>\n",
       "      <th>als_score</th>\n",
       "      <td>19.25</td>\n",
       "    </tr>\n",
       "    <tr>\n",
       "      <th>popularity</th>\n",
       "      <td>12.38</td>\n",
       "    </tr>\n",
       "    <tr>\n",
       "      <th>pop_score</th>\n",
       "      <td>3.43</td>\n",
       "    </tr>\n",
       "  </tbody>\n",
       "</table>\n",
       "</div>"
      ],
      "text/plain": [
       "                  Importance\n",
       "track_position         44.20\n",
       "genre_similarity       20.74\n",
       "als_score              19.25\n",
       "popularity             12.38\n",
       "pop_score               3.43"
      ]
     },
     "execution_count": 73,
     "metadata": {},
     "output_type": "execute_result"
    }
   ],
   "source": [
    "# Посмотрим на важность призаков построенной модели\n",
    "pd.DataFrame(\n",
    "    rank_model.get_feature_importance(), \n",
    "    index=rank_model_feature_names, \n",
    "    columns=['Importance']\n",
    ").sort_values(by='Importance', ascending=False)"
   ]
  },
  {
   "cell_type": "markdown",
   "id": "f3f70c60",
   "metadata": {},
   "source": [
    "Ранжируем кандидатов из `candidates_for_inference` (кандидаты и признаки рассчитаны по событиям до 16 декабря)"
   ]
  },
  {
   "cell_type": "code",
   "execution_count": null,
   "id": "034404e3",
   "metadata": {},
   "outputs": [],
   "source": [
    "# Рассчитаем для кандидатов ранги как значения вероятностей по предсказаниям\n",
    "# ранжирующей модели\n",
    "candidates_for_inference['rank_score'] = (\n",
    "    rank_model\n",
    "    .predict_proba(\n",
    "        Pool(data=candidates_for_inference[rank_model_feature_names])\n",
    "    )\n",
    "    [:, 1]\n",
    "    .astype('float32')\n",
    ")"
   ]
  },
  {
   "cell_type": "markdown",
   "id": "9303c43e",
   "metadata": {},
   "source": [
    "Построим финальные рекомендации: для каждого пользователя берем из `candidates_for_inference` N_RECS_USER рекомендаций с наивысшим рангом."
   ]
  },
  {
   "cell_type": "code",
   "execution_count": null,
   "id": "3d35c7b0",
   "metadata": {},
   "outputs": [
    {
     "data": {
      "text/html": [
       "<div>\n",
       "<style scoped>\n",
       "    .dataframe tbody tr th:only-of-type {\n",
       "        vertical-align: middle;\n",
       "    }\n",
       "\n",
       "    .dataframe tbody tr th {\n",
       "        vertical-align: top;\n",
       "    }\n",
       "\n",
       "    .dataframe thead th {\n",
       "        text-align: right;\n",
       "    }\n",
       "</style>\n",
       "<table border=\"1\" class=\"dataframe\">\n",
       "  <thead>\n",
       "    <tr style=\"text-align: right;\">\n",
       "      <th></th>\n",
       "      <th>user_id</th>\n",
       "      <th>item_id</th>\n",
       "      <th>score</th>\n",
       "    </tr>\n",
       "  </thead>\n",
       "  <tbody>\n",
       "    <tr>\n",
       "      <th>0</th>\n",
       "      <td>3</td>\n",
       "      <td>80153541</td>\n",
       "      <td>0.90</td>\n",
       "    </tr>\n",
       "    <tr>\n",
       "      <th>1</th>\n",
       "      <td>3</td>\n",
       "      <td>67538121</td>\n",
       "      <td>0.79</td>\n",
       "    </tr>\n",
       "    <tr>\n",
       "      <th>2</th>\n",
       "      <td>3</td>\n",
       "      <td>68562711</td>\n",
       "      <td>0.78</td>\n",
       "    </tr>\n",
       "  </tbody>\n",
       "</table>\n",
       "</div>"
      ],
      "text/plain": [
       "   user_id   item_id  score\n",
       "0        3  80153541   0.90\n",
       "1        3  67538121   0.79\n",
       "2        3  68562711   0.78"
      ]
     },
     "execution_count": 75,
     "metadata": {},
     "output_type": "execute_result"
    }
   ],
   "source": [
    "two_stage_recs = (\n",
    "    candidates_for_inference\n",
    "    [['user_id', 'item_id', 'rank_score']]\n",
    "    .sort_values(\n",
    "        by=['user_id', 'rank_score'],\n",
    "        ascending=[True, False],\n",
    "        ignore_index=True\n",
    "    )\n",
    "    .groupby('user_id')\n",
    "    .head(N_RECS_USER)\n",
    "    .rename(columns={'rank_score': 'score'})\n",
    "    .reset_index(drop=True)\n",
    ")\n",
    "\n",
    "# Визуальная проверка\n",
    "two_stage_recs.head(3)"
   ]
  },
  {
   "cell_type": "code",
   "execution_count": null,
   "id": "78ee0ad0",
   "metadata": {},
   "outputs": [],
   "source": [
    "# Сохраним рекомендации в файл\n",
    "two_stage_recs.to_parquet('data/recommendations.parquet')"
   ]
  },
  {
   "cell_type": "raw",
   "id": "32e5ef20",
   "metadata": {
    "vscode": {
     "languageId": "raw"
    }
   },
   "source": [
    "# Заливаем в s3\n",
    "upload_file_to_s3('data/recommendations.parquet',\n",
    "                  'recsys/recommendations/recommendations.parquet')\n",
    "print_bucket_contents(key_pattern='recsys/recommendations/')"
   ]
  },
  {
   "cell_type": "code",
   "execution_count": null,
   "id": "96aa63e9",
   "metadata": {},
   "outputs": [],
   "source": [
    "del candidates_for_inference, candidates_for_train, rank_model"
   ]
  },
  {
   "cell_type": "code",
   "execution_count": null,
   "id": "6dbe4db4-1ac5-44da-a13c-8e7f9768ab73",
   "metadata": {},
   "outputs": [
    {
     "name": "stdout",
     "output_type": "stream",
     "text": [
      "Process memory usage: 13.38 GB\n"
     ]
    }
   ],
   "source": [
    "print_total_mem_usage()"
   ]
  },
  {
   "cell_type": "markdown",
   "id": "b3c84071-45b5-4a15-a683-e0ab034a3128",
   "metadata": {},
   "source": [
    "#### 3.12 Оценка качества"
   ]
  },
  {
   "cell_type": "raw",
   "id": "94d6f388-aecb-443e-8647-14014e932d4d",
   "metadata": {
    "vscode": {
     "languageId": "raw"
    }
   },
   "source": [
    "# Расчитываем метрики\n",
    "metrics = pd.concat([\n",
    "    metrics,\n",
    "    pd.DataFrame(\n",
    "        get_recs_metrics(two_stage_recs, items, events_test, events_train),\n",
    "        index=['Two-stage']\n",
    "    )\n",
    "])\n",
    "\n",
    "# Сохраняем в локальный кэш\n",
    "metrics.to_parquet('cache/metrics_two_stage.parquet')"
   ]
  },
  {
   "cell_type": "code",
   "execution_count": null,
   "id": "c1acc08a",
   "metadata": {},
   "outputs": [
    {
     "data": {
      "text/html": [
       "<div>\n",
       "<style scoped>\n",
       "    .dataframe tbody tr th:only-of-type {\n",
       "        vertical-align: middle;\n",
       "    }\n",
       "\n",
       "    .dataframe tbody tr th {\n",
       "        vertical-align: top;\n",
       "    }\n",
       "\n",
       "    .dataframe thead th {\n",
       "        text-align: right;\n",
       "    }\n",
       "</style>\n",
       "<table border=\"1\" class=\"dataframe\">\n",
       "  <thead>\n",
       "    <tr style=\"text-align: right;\">\n",
       "      <th></th>\n",
       "      <th>Precision@5, %</th>\n",
       "      <th>Recall@5, %</th>\n",
       "      <th>Coverage@50, %</th>\n",
       "      <th>Novelty@5, %</th>\n",
       "    </tr>\n",
       "  </thead>\n",
       "  <tbody>\n",
       "    <tr>\n",
       "      <th>Top popular</th>\n",
       "      <td>0.36</td>\n",
       "      <td>0.13</td>\n",
       "      <td>0.01</td>\n",
       "      <td>92.62</td>\n",
       "    </tr>\n",
       "    <tr>\n",
       "      <th>Personal ALS</th>\n",
       "      <td>1.59</td>\n",
       "      <td>1.20</td>\n",
       "      <td>1.31</td>\n",
       "      <td>100.00</td>\n",
       "    </tr>\n",
       "    <tr>\n",
       "      <th>Two-stage</th>\n",
       "      <td>4.18</td>\n",
       "      <td>2.36</td>\n",
       "      <td>1.23</td>\n",
       "      <td>99.66</td>\n",
       "    </tr>\n",
       "  </tbody>\n",
       "</table>\n",
       "</div>"
      ],
      "text/plain": [
       "              Precision@5, %  Recall@5, %  Coverage@50, %  Novelty@5, %\n",
       "Top popular             0.36         0.13            0.01         92.62\n",
       "Personal ALS            1.59         1.20            1.31        100.00\n",
       "Two-stage               4.18         2.36            1.23         99.66"
      ]
     },
     "execution_count": 81,
     "metadata": {},
     "output_type": "execute_result"
    }
   ],
   "source": [
    "# Для экономии времени - загружаем метрики из кэша\n",
    "metrics = pd.read_parquet('cache/metrics_two_stage.parquet')\n",
    "metrics"
   ]
  },
  {
   "cell_type": "markdown",
   "id": "f1c8d38c-32b0-46a4-96f0-cd01dac708bc",
   "metadata": {},
   "source": [
    "#### 3.11 Выводы"
   ]
  },
  {
   "cell_type": "markdown",
   "id": "f7d7d5d8-7d1e-4fdf-a6cd-83e5ce92c684",
   "metadata": {},
   "source": [
    "- использование топ-популярных треков в качестве рекомендаций требует минимальных затрат, но имеет очень низкие метрики точности/полноты.\n",
    "- преход к персональным рекомендациям на основе истории взаимодействий (матрицы user x item) __качественно__ (на порядок) поднимает значение основных метрик по сравнению с рекомендациями топ-популярных. Это, однако, требует гораздо больше ресурсов (времени) на разложение матрицы взаимодействий и расчет рекомендаций отдельно для каждого пользователя, что также делает практически невозможным их расчет в режиме онлайн с учетом последних зафиксированных действий пользователя.\n",
    "- применение двухстадийного подхода для улучшения упомянутых выше рекомендаций за счет создания дополнительных признаков и построения дополнительной ранжирующей модели позовляет _существенно_ (по метрикам точности/полноты - в разы!) поднять общее качество рекомендаций.       \n",
    "В данной работе были использованы следющие признаки:\n",
    "    - `popularity` - индекс популярности трека среди всех пользователей,\n",
    "    - `track_position` - относительное положение трека в плейлисте пользователей (среднее по всем пользователям),\n",
    "    - `genre_similarity` - попадание трека в жанровые предпочтения конкретного пользователя, для которого рассчитывается рекомендация.      \n",
    "    \n",
    "- Платой за улучгение метрик является, как и в случае с персональными рекомендациями, дополнительные достаточно ресурсоемкие вычисления для подготовки/расчета признаков для ранжирующей модели со всеми вытекающими последствиями (дополнительные затраты, невозможность онлайн обновления и т.д.)\n",
    "\n",
    "В целом проделанная работа хорошо иллюстрирует дилемму цена/качество 😊"
   ]
  }
 ],
 "metadata": {
  "kernelspec": {
   "display_name": "Python 3 (ipykernel)",
   "language": "python",
   "name": "python3"
  },
  "language_info": {
   "codemirror_mode": {
    "name": "ipython",
    "version": 3
   },
   "file_extension": ".py",
   "mimetype": "text/x-python",
   "name": "python",
   "nbconvert_exporter": "python",
   "pygments_lexer": "ipython3",
   "version": "3.10.12"
  }
 },
 "nbformat": 4,
 "nbformat_minor": 5
}
