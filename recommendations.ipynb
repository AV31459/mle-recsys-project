{
 "cells": [
  {
   "cell_type": "markdown",
   "id": "f4095ae4-7294-4b28-853e-88d235002c97",
   "metadata": {},
   "source": [
    "### 0. Инициализация"
   ]
  },
  {
   "cell_type": "code",
   "execution_count": 1,
   "id": "662d04e7-1b0b-4e4a-9ddf-4526d7fef119",
   "metadata": {},
   "outputs": [],
   "source": [
    "# Загружаем библиотеки необходимые для выполнения кода ноутбука.\n",
    "\n",
    "import pandas as pd\n",
    "import numpy as np\n",
    "import seaborn as sns\n",
    "import matplotlib.pyplot as plt\n",
    "import logging"
   ]
  },
  {
   "cell_type": "code",
   "execution_count": 2,
   "id": "6299631b",
   "metadata": {},
   "outputs": [],
   "source": [
    "# Настройка форматов\n",
    "pd.set_option('display.max_columns', None)\n",
    "pd.set_option('display.float_format',  '{:,.2f}'.format)\n",
    "\n",
    "# Отключаем INFO сообщения от matplotlib\n",
    "logging.getLogger('matplotlib').setLevel(logging.WARNING)\n",
    "\n",
    "sns.set_theme(style=\"whitegrid\")\n",
    "plt.rcParams['figure.figsize'] = (15,5)\n",
    "plt.rcParams['axes.titlesize'] = 'large'\n",
    "plt.rcParams['axes.labelsize'] =  'large'\n",
    "plt.rcParams['xtick.labelsize'] =  'medium'\n",
    "plt.rcParams['ytick.labelsize'] =  'medium'\n",
    "plt.rcParams['legend.title_fontsize'] = 'large'\n",
    "plt.rcParams['legend.fontsize'] = 'medium'\n",
    "plt.rcParams['legend.framealpha'] = .9"
   ]
  },
  {
   "cell_type": "markdown",
   "id": "bf80fbc5-b660-4fac-8fbb-a5cae77313b3",
   "metadata": {},
   "source": [
    "### 1. Первый этап"
   ]
  },
  {
   "cell_type": "markdown",
   "id": "5263a8b3-fe99-4204-8a2e-105182792c11",
   "metadata": {},
   "source": [
    "#### 1.1 Загрузка первичных данных"
   ]
  },
  {
   "cell_type": "code",
   "execution_count": 3,
   "id": "5d4b8961-3f35-4e58-9d6b-3e2dbd2c4224",
   "metadata": {},
   "outputs": [],
   "source": [
    "tracks = pd.read_parquet('data/tracks.parquet')\n",
    "cat_names = pd.read_parquet('data/catalog_names.parquet')\n",
    "interactions = pd.read_parquet('data/interactions.parquet')"
   ]
  },
  {
   "cell_type": "markdown",
   "id": "e8f2a1f7-a05f-4f39-af90-5f4018aa6f9d",
   "metadata": {},
   "source": [
    "#### 1.2 Обзор данных"
   ]
  },
  {
   "cell_type": "markdown",
   "id": "e02e6a05",
   "metadata": {},
   "source": [
    "##### 1.2.1 cat_names - справочник каталожных имен"
   ]
  },
  {
   "cell_type": "code",
   "execution_count": 4,
   "id": "cd1f2faa",
   "metadata": {},
   "outputs": [
    {
     "name": "stdout",
     "output_type": "stream",
     "text": [
      "<class 'pandas.core.frame.DataFrame'>\n",
      "RangeIndex: 1812471 entries, 0 to 1812470\n",
      "Data columns (total 3 columns):\n",
      " #   Column  Dtype \n",
      "---  ------  ----- \n",
      " 0   id      int64 \n",
      " 1   type    object\n",
      " 2   name    object\n",
      "dtypes: int64(1), object(2)\n",
      "memory usage: 41.5+ MB\n"
     ]
    }
   ],
   "source": [
    "# Типы данных\n",
    "cat_names.info()"
   ]
  },
  {
   "cell_type": "code",
   "execution_count": 5,
   "id": "a4bee1de",
   "metadata": {},
   "outputs": [
    {
     "data": {
      "text/plain": [
       "min              0\n",
       "max      101521819\n",
       "count      1812471\n",
       "Name: id, dtype: int64"
      ]
     },
     "execution_count": 5,
     "metadata": {},
     "output_type": "execute_result"
    }
   ],
   "source": [
    "# Диапазон значений id\n",
    "cat_names['id'].describe()[['min', 'max', 'count']].astype('int')"
   ]
  },
  {
   "cell_type": "code",
   "execution_count": 6,
   "id": "86ff1355",
   "metadata": {},
   "outputs": [],
   "source": [
    "# Сожмем до int32 для экономии места\n",
    "cat_names['id'] = cat_names['id'].astype('int32')"
   ]
  },
  {
   "cell_type": "code",
   "execution_count": 7,
   "id": "c49b4d03",
   "metadata": {},
   "outputs": [
    {
     "data": {
      "text/html": [
       "<div>\n",
       "<style scoped>\n",
       "    .dataframe tbody tr th:only-of-type {\n",
       "        vertical-align: middle;\n",
       "    }\n",
       "\n",
       "    .dataframe tbody tr th {\n",
       "        vertical-align: top;\n",
       "    }\n",
       "\n",
       "    .dataframe thead th {\n",
       "        text-align: right;\n",
       "    }\n",
       "</style>\n",
       "<table border=\"1\" class=\"dataframe\">\n",
       "  <thead>\n",
       "    <tr style=\"text-align: right;\">\n",
       "      <th></th>\n",
       "      <th>id</th>\n",
       "      <th>type</th>\n",
       "      <th>name</th>\n",
       "    </tr>\n",
       "  </thead>\n",
       "  <tbody>\n",
       "    <tr>\n",
       "      <th>0</th>\n",
       "      <td>3</td>\n",
       "      <td>album</td>\n",
       "      <td>Taller Children</td>\n",
       "    </tr>\n",
       "    <tr>\n",
       "      <th>1</th>\n",
       "      <td>12</td>\n",
       "      <td>album</td>\n",
       "      <td>Wild Young Hearts</td>\n",
       "    </tr>\n",
       "    <tr>\n",
       "      <th>2</th>\n",
       "      <td>13</td>\n",
       "      <td>album</td>\n",
       "      <td>Lonesome Crow</td>\n",
       "    </tr>\n",
       "  </tbody>\n",
       "</table>\n",
       "</div>"
      ],
      "text/plain": [
       "   id   type               name\n",
       "0   3  album    Taller Children\n",
       "1  12  album  Wild Young Hearts\n",
       "2  13  album      Lonesome Crow"
      ]
     },
     "execution_count": 7,
     "metadata": {},
     "output_type": "execute_result"
    }
   ],
   "source": [
    "# Визуальный осмотр данных\n",
    "cat_names.head(3)"
   ]
  },
  {
   "cell_type": "code",
   "execution_count": 8,
   "id": "ec3063d1",
   "metadata": {},
   "outputs": [
    {
     "data": {
      "text/plain": [
       "type\n",
       "track     1000000\n",
       "album      658724\n",
       "artist     153581\n",
       "genre         166\n",
       "Name: count, dtype: int64"
      ]
     },
     "execution_count": 8,
     "metadata": {},
     "output_type": "execute_result"
    }
   ],
   "source": [
    "# Уникальные типы каталожных единиц\n",
    "cat_names['type'].value_counts()"
   ]
  },
  {
   "cell_type": "code",
   "execution_count": 9,
   "id": "2013110a",
   "metadata": {},
   "outputs": [
    {
     "data": {
      "text/plain": [
       "id      0\n",
       "type    0\n",
       "name    0\n",
       "dtype: int64"
      ]
     },
     "execution_count": 9,
     "metadata": {},
     "output_type": "execute_result"
    }
   ],
   "source": [
    "# Проверка на пропуски -> отсутствуют\n",
    "cat_names.isna().sum()"
   ]
  },
  {
   "cell_type": "code",
   "execution_count": 10,
   "id": "c9f8f17e-9b56-4f5a-a463-f694a993effb",
   "metadata": {},
   "outputs": [
    {
     "data": {
      "text/plain": [
       "35774"
      ]
     },
     "execution_count": 10,
     "metadata": {},
     "output_type": "execute_result"
    }
   ],
   "source": [
    "# Наличие дубликатов по полю 'id' -> присутствуют\n",
    "cat_names[['id']].duplicated().sum()"
   ]
  },
  {
   "cell_type": "code",
   "execution_count": 11,
   "id": "86360449",
   "metadata": {},
   "outputs": [
    {
     "data": {
      "text/plain": [
       "0"
      ]
     },
     "execution_count": 11,
     "metadata": {},
     "output_type": "execute_result"
    }
   ],
   "source": [
    "# Наличие дубликатов по связке 'id', 'type' -> отсутсвуют\n",
    "cat_names[['id', 'type']].duplicated().sum()"
   ]
  },
  {
   "cell_type": "code",
   "execution_count": 12,
   "id": "5f99244b",
   "metadata": {},
   "outputs": [
    {
     "data": {
      "text/plain": [
       "689769"
      ]
     },
     "execution_count": 12,
     "metadata": {},
     "output_type": "execute_result"
    }
   ],
   "source": [
    "# Наличие дубликатов по связке 'type', 'name' -> присутствуют, и много\n",
    "cat_names[['type', 'name']].duplicated().sum()"
   ]
  },
  {
   "cell_type": "code",
   "execution_count": 13,
   "id": "a7d83d8b",
   "metadata": {},
   "outputs": [
    {
     "data": {
      "text/plain": [
       "'Type [track] : duplicated names 469276 of 1000000 or 46.9%.'"
      ]
     },
     "metadata": {},
     "output_type": "display_data"
    },
    {
     "data": {
      "text/plain": [
       "'Type [album] : duplicated names 218108 of 658724 or 33.1%.'"
      ]
     },
     "metadata": {},
     "output_type": "display_data"
    },
    {
     "data": {
      "text/plain": [
       "'Type [artist] : duplicated names 2385 of 153581 or 1.6%.'"
      ]
     },
     "metadata": {},
     "output_type": "display_data"
    },
    {
     "data": {
      "text/plain": [
       "'Type [genre] : duplicated names 0 of 166 or 0.0%.'"
      ]
     },
     "metadata": {},
     "output_type": "display_data"
    }
   ],
   "source": [
    "# Наличие дубликатов по связке 'type', 'name' для разных типов\n",
    "cat_type_name_duplicated = cat_names[cat_names[['type', 'name']].duplicated()]\n",
    "\n",
    "for type, total_count in cat_names['type'].value_counts().to_dict().items():\n",
    "    duplicated_count = len(cat_type_name_duplicated.query('type == @type'))\n",
    "    display(\n",
    "        f'Type [{type}] : '\n",
    "        f'duplicated names {duplicated_count} of {total_count} '\n",
    "        f'or {duplicated_count / total_count * 100:.1f}%.'\n",
    "    )\n",
    "\n",
    "del cat_type_name_duplicated, type, duplicated_count, total_count"
   ]
  },
  {
   "cell_type": "markdown",
   "id": "00220834",
   "metadata": {},
   "source": [
    "__NB! В каталоге около половины треков и трети альбомов имеют повторяющиеся (дублированные) имена.__   \n",
    "Решение: оставляем как есть, корректировку (слияние) дубликатов в справочниках пока не проводим."
   ]
  },
  {
   "cell_type": "markdown",
   "id": "512baefa",
   "metadata": {},
   "source": [
    "##### 1.2.2 tracks - данные о треках"
   ]
  },
  {
   "cell_type": "code",
   "execution_count": 14,
   "id": "8803614b",
   "metadata": {},
   "outputs": [
    {
     "name": "stdout",
     "output_type": "stream",
     "text": [
      "<class 'pandas.core.frame.DataFrame'>\n",
      "RangeIndex: 1000000 entries, 0 to 999999\n",
      "Data columns (total 4 columns):\n",
      " #   Column    Non-Null Count    Dtype \n",
      "---  ------    --------------    ----- \n",
      " 0   track_id  1000000 non-null  int64 \n",
      " 1   albums    1000000 non-null  object\n",
      " 2   artists   1000000 non-null  object\n",
      " 3   genres    1000000 non-null  object\n",
      "dtypes: int64(1), object(3)\n",
      "memory usage: 30.5+ MB\n"
     ]
    }
   ],
   "source": [
    "tracks.info()"
   ]
  },
  {
   "cell_type": "code",
   "execution_count": 15,
   "id": "d434be1e",
   "metadata": {},
   "outputs": [],
   "source": [
    "# Сжимаем 'track_id' до int32\n",
    "tracks['track_id'] = tracks['track_id'].astype('int32')"
   ]
  },
  {
   "cell_type": "code",
   "execution_count": 16,
   "id": "7702235a",
   "metadata": {},
   "outputs": [],
   "source": [
    "# Исходное число треков\n",
    "track_count_initial = len(tracks)"
   ]
  },
  {
   "cell_type": "code",
   "execution_count": 17,
   "id": "c57cf18a",
   "metadata": {},
   "outputs": [
    {
     "data": {
      "text/html": [
       "<div>\n",
       "<style scoped>\n",
       "    .dataframe tbody tr th:only-of-type {\n",
       "        vertical-align: middle;\n",
       "    }\n",
       "\n",
       "    .dataframe tbody tr th {\n",
       "        vertical-align: top;\n",
       "    }\n",
       "\n",
       "    .dataframe thead th {\n",
       "        text-align: right;\n",
       "    }\n",
       "</style>\n",
       "<table border=\"1\" class=\"dataframe\">\n",
       "  <thead>\n",
       "    <tr style=\"text-align: right;\">\n",
       "      <th></th>\n",
       "      <th>track_id</th>\n",
       "      <th>albums</th>\n",
       "      <th>artists</th>\n",
       "      <th>genres</th>\n",
       "    </tr>\n",
       "  </thead>\n",
       "  <tbody>\n",
       "    <tr>\n",
       "      <th>0</th>\n",
       "      <td>26</td>\n",
       "      <td>[3, 2490753]</td>\n",
       "      <td>[16]</td>\n",
       "      <td>[11, 21]</td>\n",
       "    </tr>\n",
       "    <tr>\n",
       "      <th>1</th>\n",
       "      <td>38</td>\n",
       "      <td>[3, 2490753]</td>\n",
       "      <td>[16]</td>\n",
       "      <td>[11, 21]</td>\n",
       "    </tr>\n",
       "    <tr>\n",
       "      <th>2</th>\n",
       "      <td>135</td>\n",
       "      <td>[12, 214, 2490809]</td>\n",
       "      <td>[84]</td>\n",
       "      <td>[11]</td>\n",
       "    </tr>\n",
       "  </tbody>\n",
       "</table>\n",
       "</div>"
      ],
      "text/plain": [
       "   track_id              albums artists    genres\n",
       "0        26        [3, 2490753]    [16]  [11, 21]\n",
       "1        38        [3, 2490753]    [16]  [11, 21]\n",
       "2       135  [12, 214, 2490809]    [84]      [11]"
      ]
     },
     "execution_count": 17,
     "metadata": {},
     "output_type": "execute_result"
    }
   ],
   "source": [
    "# визуальный отсмотр\n",
    "tracks.head(3)"
   ]
  },
  {
   "cell_type": "code",
   "execution_count": 18,
   "id": "4b2b2982",
   "metadata": {},
   "outputs": [
    {
     "data": {
      "text/plain": [
       "0"
      ]
     },
     "execution_count": 18,
     "metadata": {},
     "output_type": "execute_result"
    }
   ],
   "source": [
    "# дубликаты по 'track_id' -> отсутствуют\n",
    "tracks['track_id'].duplicated().sum()"
   ]
  },
  {
   "cell_type": "code",
   "execution_count": 19,
   "id": "3b94e5cc",
   "metadata": {},
   "outputs": [
    {
     "data": {
      "text/plain": [
       "set()"
      ]
     },
     "execution_count": 19,
     "metadata": {},
     "output_type": "execute_result"
    }
   ],
   "source": [
    "# Все ли track_id есть в справочнике -> да, все\n",
    "set(tracks['track_id']) - set(cat_names.query('type == \"track\"')['id'])"
   ]
  },
  {
   "cell_type": "code",
   "execution_count": 20,
   "id": "04066d70",
   "metadata": {},
   "outputs": [
    {
     "data": {
      "text/plain": [
       "{nan}"
      ]
     },
     "execution_count": 20,
     "metadata": {},
     "output_type": "execute_result"
    }
   ],
   "source": [
    "# все ли id альбомов есть в справочнике -> нет, не все: \n",
    "# встречаются пропуски (nan)\n",
    "(\n",
    "    set(tracks['albums'].explode().drop_duplicates()) \n",
    "    - set(cat_names.query('type == \"album\"')['id'])\n",
    ")"
   ]
  },
  {
   "cell_type": "code",
   "execution_count": 21,
   "id": "7531e4be",
   "metadata": {},
   "outputs": [
    {
     "name": "stdout",
     "output_type": "stream",
     "text": [
      "Tracks with broken \"albums\": 18 or 0.00% of total.\n",
      "\n",
      "Sample:\n"
     ]
    },
    {
     "data": {
      "text/html": [
       "<div>\n",
       "<style scoped>\n",
       "    .dataframe tbody tr th:only-of-type {\n",
       "        vertical-align: middle;\n",
       "    }\n",
       "\n",
       "    .dataframe tbody tr th {\n",
       "        vertical-align: top;\n",
       "    }\n",
       "\n",
       "    .dataframe thead th {\n",
       "        text-align: right;\n",
       "    }\n",
       "</style>\n",
       "<table border=\"1\" class=\"dataframe\">\n",
       "  <thead>\n",
       "    <tr style=\"text-align: right;\">\n",
       "      <th></th>\n",
       "      <th>track_id</th>\n",
       "      <th>albums</th>\n",
       "      <th>artists</th>\n",
       "      <th>genres</th>\n",
       "    </tr>\n",
       "  </thead>\n",
       "  <tbody>\n",
       "    <tr>\n",
       "      <th>310821</th>\n",
       "      <td>20200372</td>\n",
       "      <td>[]</td>\n",
       "      <td>[]</td>\n",
       "      <td>[]</td>\n",
       "    </tr>\n",
       "    <tr>\n",
       "      <th>310826</th>\n",
       "      <td>20200380</td>\n",
       "      <td>[]</td>\n",
       "      <td>[]</td>\n",
       "      <td>[]</td>\n",
       "    </tr>\n",
       "    <tr>\n",
       "      <th>312469</th>\n",
       "      <td>20305116</td>\n",
       "      <td>[]</td>\n",
       "      <td>[]</td>\n",
       "      <td>[]</td>\n",
       "    </tr>\n",
       "  </tbody>\n",
       "</table>\n",
       "</div>"
      ],
      "text/plain": [
       "        track_id albums artists genres\n",
       "310821  20200372     []      []     []\n",
       "310826  20200380     []      []     []\n",
       "312469  20305116     []      []     []"
      ]
     },
     "execution_count": 21,
     "metadata": {},
     "output_type": "execute_result"
    }
   ],
   "source": [
    "# визуальный осмотр битых идентификаторов альбомов\n",
    "track_ids_with_broken_albums = (\n",
    "    tracks\n",
    "    .explode('albums')\n",
    "    .query('albums.isna()')\n",
    "    ['track_id']\n",
    "    .drop_duplicates()\n",
    ")\n",
    "print(\n",
    "    f'Tracks with broken \"albums\": {len(track_ids_with_broken_albums)} '\n",
    "    f'or {len(track_ids_with_broken_albums) / track_count_initial :.2%} '\n",
    "    'of total.\\n\\nSample:'\n",
    ")\n",
    "tracks.query('track_id in @track_ids_with_broken_albums').head(3)"
   ]
  },
  {
   "cell_type": "markdown",
   "id": "8ecd4d10",
   "metadata": {},
   "source": [
    "__Проблема__: в данных о треках `tracks` есть 18 треков с отсутствующими (пустыми) значениями id альбомов.      \n",
    "_Решение_: удаляем такие треки из справочника (каталога)"
   ]
  },
  {
   "cell_type": "code",
   "execution_count": 22,
   "id": "7bcff35b",
   "metadata": {},
   "outputs": [],
   "source": [
    "# удаляем треки с битыми (пустыми) альбомами\n",
    "tracks = tracks.query('track_id not in @track_ids_with_broken_albums')\n",
    "\n",
    "del track_ids_with_broken_albums"
   ]
  },
  {
   "cell_type": "code",
   "execution_count": 23,
   "id": "29a09499",
   "metadata": {},
   "outputs": [
    {
     "data": {
      "text/plain": [
       "{nan}"
      ]
     },
     "execution_count": 23,
     "metadata": {},
     "output_type": "execute_result"
    }
   ],
   "source": [
    "# все ли id артистов есть в справочнике -> нет, не все: \n",
    "# встречаются пропуски (nan)\n",
    "(\n",
    "    set(tracks['artists'].explode().drop_duplicates()) \n",
    "    - set(cat_names.query('type == \"artist\"')['id'])\n",
    ")"
   ]
  },
  {
   "cell_type": "code",
   "execution_count": 24,
   "id": "6e02ccda",
   "metadata": {},
   "outputs": [
    {
     "name": "stdout",
     "output_type": "stream",
     "text": [
      "Tracks with broken \"artists\": 15351 or 1.54% of total.\n",
      "\n",
      "Sample:\n"
     ]
    },
    {
     "data": {
      "text/html": [
       "<div>\n",
       "<style scoped>\n",
       "    .dataframe tbody tr th:only-of-type {\n",
       "        vertical-align: middle;\n",
       "    }\n",
       "\n",
       "    .dataframe tbody tr th {\n",
       "        vertical-align: top;\n",
       "    }\n",
       "\n",
       "    .dataframe thead th {\n",
       "        text-align: right;\n",
       "    }\n",
       "</style>\n",
       "<table border=\"1\" class=\"dataframe\">\n",
       "  <thead>\n",
       "    <tr style=\"text-align: right;\">\n",
       "      <th></th>\n",
       "      <th>track_id</th>\n",
       "      <th>albums</th>\n",
       "      <th>artists</th>\n",
       "      <th>genres</th>\n",
       "    </tr>\n",
       "  </thead>\n",
       "  <tbody>\n",
       "    <tr>\n",
       "      <th>146031</th>\n",
       "      <td>3599314</td>\n",
       "      <td>[389925]</td>\n",
       "      <td>[]</td>\n",
       "      <td>[68, 86]</td>\n",
       "    </tr>\n",
       "    <tr>\n",
       "      <th>146163</th>\n",
       "      <td>3599591</td>\n",
       "      <td>[389944]</td>\n",
       "      <td>[]</td>\n",
       "      <td>[68, 86]</td>\n",
       "    </tr>\n",
       "    <tr>\n",
       "      <th>177544</th>\n",
       "      <td>4790215</td>\n",
       "      <td>[533785]</td>\n",
       "      <td>[]</td>\n",
       "      <td>[68, 86]</td>\n",
       "    </tr>\n",
       "  </tbody>\n",
       "</table>\n",
       "</div>"
      ],
      "text/plain": [
       "        track_id    albums artists    genres\n",
       "146031   3599314  [389925]      []  [68, 86]\n",
       "146163   3599591  [389944]      []  [68, 86]\n",
       "177544   4790215  [533785]      []  [68, 86]"
      ]
     },
     "execution_count": 24,
     "metadata": {},
     "output_type": "execute_result"
    }
   ],
   "source": [
    "# визуальный осмотр битых идентификаторов артистов\n",
    "track_ids_with_broken_artists = (\n",
    "    tracks\n",
    "    .explode('artists')\n",
    "    .query('artists.isna()')\n",
    "    ['track_id']\n",
    "    .drop_duplicates()\n",
    ")\n",
    "print(\n",
    "    f'Tracks with broken \"artists\": {len(track_ids_with_broken_artists)} '\n",
    "    f'or {len(track_ids_with_broken_artists) / track_count_initial :.2%} '\n",
    "    'of total.\\n\\nSample:'\n",
    ")\n",
    "tracks.query('track_id in @track_ids_with_broken_artists').head(3)"
   ]
  },
  {
   "cell_type": "markdown",
   "id": "31c93bbf",
   "metadata": {},
   "source": [
    "__Проблема__: в данных о треках `tracks` есть ~1.5% треков с отсутствующими (пустыми) значениями id артистов.      \n",
    "_Решение_: удаляем такие треки из справочника (каталога)"
   ]
  },
  {
   "cell_type": "code",
   "execution_count": 25,
   "id": "18196204",
   "metadata": {},
   "outputs": [],
   "source": [
    "# удаляем треки с битыми (пустыми) идентификаторами артистов\n",
    "tracks = tracks.query('track_id not in @track_ids_with_broken_artists')\n",
    "\n",
    "del track_ids_with_broken_artists"
   ]
  },
  {
   "cell_type": "code",
   "execution_count": 26,
   "id": "2a97e399",
   "metadata": {},
   "outputs": [
    {
     "name": "stdout",
     "output_type": "stream",
     "text": [
      "130 131 132 133 134 135 nan 146 148 150 151 152 153 154 155 156 157 158 159 160 161 162 163 164 165 166 167 168 169 124 126\n"
     ]
    }
   ],
   "source": [
    "# все ли id жанров есть в справочнике -> нет, не все: \n",
    "# встречаются как пропуски (nan) так и безимянные жанры\n",
    "genre_ids_missing = (\n",
    "    set(tracks['genres'].explode().drop_duplicates()) \n",
    "    - set(cat_names.query('type == \"genre\"')['id'])\n",
    ")\n",
    "print(*genre_ids_missing)"
   ]
  },
  {
   "cell_type": "code",
   "execution_count": 27,
   "id": "e122e79b",
   "metadata": {},
   "outputs": [
    {
     "name": "stdout",
     "output_type": "stream",
     "text": [
      "Tracks with broken \"genres\": 51967 or 5.20% of total.\n",
      "\n",
      "Sample:\n"
     ]
    },
    {
     "data": {
      "text/html": [
       "<div>\n",
       "<style scoped>\n",
       "    .dataframe tbody tr th:only-of-type {\n",
       "        vertical-align: middle;\n",
       "    }\n",
       "\n",
       "    .dataframe tbody tr th {\n",
       "        vertical-align: top;\n",
       "    }\n",
       "\n",
       "    .dataframe thead th {\n",
       "        text-align: right;\n",
       "    }\n",
       "</style>\n",
       "<table border=\"1\" class=\"dataframe\">\n",
       "  <thead>\n",
       "    <tr style=\"text-align: right;\">\n",
       "      <th></th>\n",
       "      <th>track_id</th>\n",
       "      <th>albums</th>\n",
       "      <th>artists</th>\n",
       "      <th>genres</th>\n",
       "    </tr>\n",
       "  </thead>\n",
       "  <tbody>\n",
       "    <tr>\n",
       "      <th>36</th>\n",
       "      <td>436</td>\n",
       "      <td>[36]</td>\n",
       "      <td>[330]</td>\n",
       "      <td>[28, 164]</td>\n",
       "    </tr>\n",
       "    <tr>\n",
       "      <th>59</th>\n",
       "      <td>594</td>\n",
       "      <td>[54, 88, 5479, 5785124, 9198099, 9231427, 1088...</td>\n",
       "      <td>[533]</td>\n",
       "      <td>[28, 162]</td>\n",
       "    </tr>\n",
       "    <tr>\n",
       "      <th>125</th>\n",
       "      <td>1025</td>\n",
       "      <td>[94, 2325, 8757, 8986, 318695, 17004129]</td>\n",
       "      <td>[937]</td>\n",
       "      <td>[28, 162]</td>\n",
       "    </tr>\n",
       "  </tbody>\n",
       "</table>\n",
       "</div>"
      ],
      "text/plain": [
       "     track_id                                             albums artists  \\\n",
       "36        436                                               [36]   [330]   \n",
       "59        594  [54, 88, 5479, 5785124, 9198099, 9231427, 1088...   [533]   \n",
       "125      1025           [94, 2325, 8757, 8986, 318695, 17004129]   [937]   \n",
       "\n",
       "        genres  \n",
       "36   [28, 164]  \n",
       "59   [28, 162]  \n",
       "125  [28, 162]  "
      ]
     },
     "execution_count": 27,
     "metadata": {},
     "output_type": "execute_result"
    }
   ],
   "source": [
    "# визуальный осмотр битых идентификаторов жанров\n",
    "track_ids_with_broken_genres = (\n",
    "    tracks\n",
    "    .explode('genres')\n",
    "    .query('genres in @genre_ids_missing') \n",
    "    ['track_id']\n",
    "    .drop_duplicates()\n",
    ")\n",
    "print(\n",
    "    f'Tracks with broken \"genres\": {len(track_ids_with_broken_genres)} '\n",
    "    f'or {len(track_ids_with_broken_genres) / track_count_initial :.2%} '\n",
    "    'of total.\\n\\nSample:'\n",
    ")\n",
    "tracks.query('track_id in @track_ids_with_broken_genres').head(3)"
   ]
  },
  {
   "cell_type": "markdown",
   "id": "f8ea2825",
   "metadata": {},
   "source": [
    "__Проблема__: в данных о треках `tracks` есть ~5% треков с неизвестными или отсутствующими (пустыми) значениями id жанров.      \n",
    "_Решение_: удаляем такие треки из справочника (каталога)"
   ]
  },
  {
   "cell_type": "code",
   "execution_count": 28,
   "id": "fa851425",
   "metadata": {},
   "outputs": [],
   "source": [
    "# удаляем треки с неизвестными иои пустыми идентификаторами жанров\n",
    "tracks = tracks.query('track_id not in @track_ids_with_broken_genres')\n",
    "\n",
    "del genre_ids_missing, track_ids_with_broken_genres"
   ]
  },
  {
   "cell_type": "code",
   "execution_count": 29,
   "id": "367b9d1d",
   "metadata": {},
   "outputs": [
    {
     "name": "stdout",
     "output_type": "stream",
     "text": [
      "Cleaned tracks: 932664 or 93.27% of inital count.\n"
     ]
    }
   ],
   "source": [
    "# сколько треков осталось после чистки данных\n",
    "print(\n",
    "    f'Cleaned tracks: {len(tracks)} '\n",
    "    f'or {len(tracks) / track_count_initial:.2%} of inital count.'\n",
    ")"
   ]
  },
  {
   "cell_type": "code",
   "execution_count": 30,
   "id": "3524c111",
   "metadata": {},
   "outputs": [],
   "source": [
    "# Приборка\n",
    "del track_count_initial"
   ]
  },
  {
   "cell_type": "markdown",
   "id": "f501a044",
   "metadata": {},
   "source": [
    "##### 1.2.3 interactions - взаимодействия пользователей с треками"
   ]
  },
  {
   "cell_type": "code",
   "execution_count": 31,
   "id": "956b5e9e",
   "metadata": {},
   "outputs": [
    {
     "name": "stdout",
     "output_type": "stream",
     "text": [
      "<class 'pandas.core.frame.DataFrame'>\n",
      "Index: 222629898 entries, 0 to 291\n",
      "Data columns (total 4 columns):\n",
      " #   Column      Dtype         \n",
      "---  ------      -----         \n",
      " 0   user_id     int32         \n",
      " 1   track_id    int32         \n",
      " 2   track_seq   int16         \n",
      " 3   started_at  datetime64[ns]\n",
      "dtypes: datetime64[ns](1), int16(1), int32(2)\n",
      "memory usage: 5.4 GB\n"
     ]
    }
   ],
   "source": [
    "interactions.info()"
   ]
  },
  {
   "cell_type": "code",
   "execution_count": 32,
   "id": "5aad596c",
   "metadata": {},
   "outputs": [],
   "source": [
    "# исходное число записей о взаимодействиях\n",
    "interactions_count_initial = len(interactions)"
   ]
  },
  {
   "cell_type": "code",
   "execution_count": 33,
   "id": "5e152db7",
   "metadata": {},
   "outputs": [
    {
     "data": {
      "text/html": [
       "<div>\n",
       "<style scoped>\n",
       "    .dataframe tbody tr th:only-of-type {\n",
       "        vertical-align: middle;\n",
       "    }\n",
       "\n",
       "    .dataframe tbody tr th {\n",
       "        vertical-align: top;\n",
       "    }\n",
       "\n",
       "    .dataframe thead th {\n",
       "        text-align: right;\n",
       "    }\n",
       "</style>\n",
       "<table border=\"1\" class=\"dataframe\">\n",
       "  <thead>\n",
       "    <tr style=\"text-align: right;\">\n",
       "      <th></th>\n",
       "      <th>user_id</th>\n",
       "      <th>track_id</th>\n",
       "      <th>track_seq</th>\n",
       "      <th>started_at</th>\n",
       "    </tr>\n",
       "  </thead>\n",
       "  <tbody>\n",
       "    <tr>\n",
       "      <th>0</th>\n",
       "      <td>0</td>\n",
       "      <td>99262</td>\n",
       "      <td>1</td>\n",
       "      <td>2022-07-17</td>\n",
       "    </tr>\n",
       "    <tr>\n",
       "      <th>1</th>\n",
       "      <td>0</td>\n",
       "      <td>589498</td>\n",
       "      <td>2</td>\n",
       "      <td>2022-07-19</td>\n",
       "    </tr>\n",
       "    <tr>\n",
       "      <th>2</th>\n",
       "      <td>0</td>\n",
       "      <td>590262</td>\n",
       "      <td>3</td>\n",
       "      <td>2022-07-21</td>\n",
       "    </tr>\n",
       "  </tbody>\n",
       "</table>\n",
       "</div>"
      ],
      "text/plain": [
       "   user_id  track_id  track_seq started_at\n",
       "0        0     99262          1 2022-07-17\n",
       "1        0    589498          2 2022-07-19\n",
       "2        0    590262          3 2022-07-21"
      ]
     },
     "execution_count": 33,
     "metadata": {},
     "output_type": "execute_result"
    }
   ],
   "source": [
    "# визуальный осмотр данных\n",
    "interactions.head(3)"
   ]
  },
  {
   "cell_type": "code",
   "execution_count": 34,
   "id": "f2ff27d1",
   "metadata": {},
   "outputs": [
    {
     "name": "stdout",
     "output_type": "stream",
     "text": [
      "Interactions with unknown tracks: 3.55% of total.\n"
     ]
    }
   ],
   "source": [
    "# Оценим кол-во взаимодействий с треками отсутствующими в справочнике tracks\n",
    "\n",
    "# ids известных треков\n",
    "known_track_ids = set(tracks['track_id'])\n",
    "\n",
    "# взаимодействия с неизвестными треками\n",
    "interactions_with_unknown_tracks = (\n",
    "    interactions.query(\"track_id not in @known_track_ids\")\n",
    ")\n",
    "print(\n",
    "    'Interactions with unknown tracks: '\n",
    "    f'{len(interactions_with_unknown_tracks) / interactions_count_initial:.2%} '\n",
    "    'of total.'\n",
    ")\n",
    "del interactions_with_unknown_tracks"
   ]
  },
  {
   "cell_type": "markdown",
   "id": "38cbcb46",
   "metadata": {},
   "source": [
    "Около 3% взаимодействий приходятся на треки, отсутствующие в каталоге (справочнике) `tracks`.       \n",
    "_Решение_ Удаляем такие прослушивания из `interactions`"
   ]
  },
  {
   "cell_type": "code",
   "execution_count": 35,
   "id": "13fc226a",
   "metadata": {},
   "outputs": [],
   "source": [
    "# Удаляем данные о прослушивании 'неизвестных' (или 'битых') треков\n",
    "interactions = interactions.query('track_id in @known_track_ids')\n",
    "\n",
    "del known_track_ids"
   ]
  },
  {
   "cell_type": "raw",
   "id": "50b0b187",
   "metadata": {
    "vscode": {
     "languageId": "raw"
    }
   },
   "source": [
    "# Присутствуют ли дубликаты для связки 'user_id','track_id' -> отсутствуют\n",
    "interactions[['user_id','track_id']].duplicated().sum()"
   ]
  },
  {
   "cell_type": "raw",
   "id": "81582760",
   "metadata": {
    "vscode": {
     "languageId": "raw"
    }
   },
   "source": [
    "# Присутствуют ли дубликаты для связки 'user_id','track_seq' -> отсутствуют\n",
    "interactions[['user_id','track_seq']].duplicated().sum()"
   ]
  },
  {
   "cell_type": "code",
   "execution_count": 36,
   "id": "efc5d893",
   "metadata": {},
   "outputs": [
    {
     "name": "stdout",
     "output_type": "stream",
     "text": [
      "Cleaned interactions: 214720738 or 96.45% of inital count.\n"
     ]
    }
   ],
   "source": [
    "# сколько взаимодействий осталось после чистки данных\n",
    "print(\n",
    "    f'Cleaned interactions: {len(interactions)} '\n",
    "    f'or {len(interactions) / interactions_count_initial:.2%} of inital count.'\n",
    ")"
   ]
  },
  {
   "cell_type": "code",
   "execution_count": 37,
   "id": "025e17df",
   "metadata": {},
   "outputs": [],
   "source": [
    "# Приборка\n",
    "del interactions_count_initial"
   ]
  },
  {
   "cell_type": "markdown",
   "id": "318b573a-9e2d-4808-95db-60cfb8bbdb73",
   "metadata": {
    "editable": true,
    "slideshow": {
     "slide_type": ""
    },
    "tags": []
   },
   "source": [
    "#### 1.3 Выводы"
   ]
  },
  {
   "cell_type": "markdown",
   "id": "f58cd010-c2fa-475f-b7e9-767965cd4f55",
   "metadata": {},
   "source": [
    "Проблемы с данными в исходных датасетах:\n",
    "- в каталоге `cat_names` около половины(!) треков и трети альбомов имеют повторяющиеся (дублированные) имена,    \n",
    "    - _Решение_: оставляем как есть, корректировку (слияние) дубликатов в справочниках пока не проводим.\n",
    "- в данных о треках `tracks` есть 18 треков с отсутствующими (пустыми) значениями id альбомов,\n",
    "    - _Решение_: удаляем такие треки из справочника (каталога)\n",
    "- в данных о треках `tracks` есть ~1.5% треков с отсутствующими (пустыми) значениями id артистов.      \n",
    "    - _Решение_: удаляем такие треки из справочника (каталога)\n",
    "- в данных о треках `tracks` есть ~5% треков с неизвестными или отсутствующими (пустыми) значениями id жанров.      \n",
    "    - _Решение_: удаляем такие треки из справочника (каталога)\n",
    "- Около 3% взаимодействий приходятся на треки, отсутствующие в 'почищенном' каталоге (справочнике) `tracks`.       \n",
    "    - _Решение:_ Удаляем такие прослушивания из `interactions`\n",
    "- очевидных проблем с идентификаторами (ids) не обнаружено"
   ]
  },
  {
   "cell_type": "markdown",
   "id": "7bc3296b-eba6-4333-a78d-b9304aa87e3d",
   "metadata": {},
   "source": [
    "### 2. Второй этап"
   ]
  },
  {
   "cell_type": "markdown",
   "id": "3c0ac272",
   "metadata": {},
   "source": [
    "#### 2.1 Преобразование данных"
   ]
  },
  {
   "cell_type": "markdown",
   "id": "f92c01c1",
   "metadata": {},
   "source": [
    "Преобразуем данные в формат, более пригодный для дальнейшего использования в расчётах рекомендаций."
   ]
  },
  {
   "cell_type": "code",
   "execution_count": 38,
   "id": "8b7089f5",
   "metadata": {},
   "outputs": [],
   "source": [
    "# Создадим объеккт items\n",
    "items = tracks.copy().rename(columns={'track_id': 'item_id'})"
   ]
  },
  {
   "cell_type": "code",
   "execution_count": 39,
   "id": "1e12e6a4",
   "metadata": {},
   "outputs": [
    {
     "data": {
      "text/html": [
       "<div>\n",
       "<style scoped>\n",
       "    .dataframe tbody tr th:only-of-type {\n",
       "        vertical-align: middle;\n",
       "    }\n",
       "\n",
       "    .dataframe tbody tr th {\n",
       "        vertical-align: top;\n",
       "    }\n",
       "\n",
       "    .dataframe thead th {\n",
       "        text-align: right;\n",
       "    }\n",
       "</style>\n",
       "<table border=\"1\" class=\"dataframe\">\n",
       "  <thead>\n",
       "    <tr style=\"text-align: right;\">\n",
       "      <th></th>\n",
       "      <th>item_id</th>\n",
       "      <th>albums</th>\n",
       "      <th>artists</th>\n",
       "      <th>genres</th>\n",
       "      <th>item_name</th>\n",
       "    </tr>\n",
       "  </thead>\n",
       "  <tbody>\n",
       "    <tr>\n",
       "      <th>0</th>\n",
       "      <td>26</td>\n",
       "      <td>[3, 2490753]</td>\n",
       "      <td>[16]</td>\n",
       "      <td>[11, 21]</td>\n",
       "      <td>Complimentary Me</td>\n",
       "    </tr>\n",
       "    <tr>\n",
       "      <th>1</th>\n",
       "      <td>38</td>\n",
       "      <td>[3, 2490753]</td>\n",
       "      <td>[16]</td>\n",
       "      <td>[11, 21]</td>\n",
       "      <td>Momma's Boy</td>\n",
       "    </tr>\n",
       "    <tr>\n",
       "      <th>2</th>\n",
       "      <td>135</td>\n",
       "      <td>[12, 214, 2490809]</td>\n",
       "      <td>[84]</td>\n",
       "      <td>[11]</td>\n",
       "      <td>Atticus</td>\n",
       "    </tr>\n",
       "  </tbody>\n",
       "</table>\n",
       "</div>"
      ],
      "text/plain": [
       "   item_id              albums artists    genres         item_name\n",
       "0       26        [3, 2490753]    [16]  [11, 21]  Complimentary Me\n",
       "1       38        [3, 2490753]    [16]  [11, 21]       Momma's Boy\n",
       "2      135  [12, 214, 2490809]    [84]      [11]           Atticus"
      ]
     },
     "execution_count": 39,
     "metadata": {},
     "output_type": "execute_result"
    }
   ],
   "source": [
    "# Добавим к items строковое имя трека из каталога\n",
    "items = items.join(\n",
    "    cat_names.query('type == \"track\"').set_index('id')['name'],\n",
    "    on='item_id'\n",
    ").rename(columns={'name': 'item_name'})\n",
    "\n",
    "# Визуальная проверка\n",
    "items.head(3)"
   ]
  },
  {
   "cell_type": "code",
   "execution_count": 40,
   "id": "a48dc686",
   "metadata": {},
   "outputs": [],
   "source": [
    "# Добавим к items имена альбомов, артистов и жанров из каталога\n",
    "\n",
    "# Создаем словари типа {id: строковое_имя}\n",
    "albums_names = (cat_names.query('type == \"album\"').set_index('id')['name']\n",
    "               .to_dict())\n",
    "artists_names = (cat_names.query('type == \"artist\"').set_index('id')['name']\n",
    "                 .to_dict())\n",
    "genres_names = (cat_names.query('type == \"genre\"').set_index('id')['name']\n",
    "               .to_dict())\n",
    "\n",
    "# Векторизуем функции поиска по словарю для использования с np.array\n",
    "get_albums_names = np.vectorize(lambda x: albums_names[x])\n",
    "get_artists_names = np.vectorize(lambda x: artists_names[x])\n",
    "get_genres_names = np.vectorize(lambda x: genres_names[x])\n",
    "\n",
    "items['albums_names'] = items['albums'].map(get_albums_names)\n",
    "items['artists_names'] = items['artists'].map(get_artists_names)\n",
    "items['genres_names'] = items['genres'].map(get_genres_names)\n",
    "\n",
    "del (albums_names, artists_names, genres_names, get_albums_names,\n",
    "     get_artists_names, get_genres_names)"
   ]
  },
  {
   "cell_type": "code",
   "execution_count": 41,
   "id": "c981c0d6",
   "metadata": {},
   "outputs": [
    {
     "data": {
      "text/html": [
       "<div>\n",
       "<style scoped>\n",
       "    .dataframe tbody tr th:only-of-type {\n",
       "        vertical-align: middle;\n",
       "    }\n",
       "\n",
       "    .dataframe tbody tr th {\n",
       "        vertical-align: top;\n",
       "    }\n",
       "\n",
       "    .dataframe thead th {\n",
       "        text-align: right;\n",
       "    }\n",
       "</style>\n",
       "<table border=\"1\" class=\"dataframe\">\n",
       "  <thead>\n",
       "    <tr style=\"text-align: right;\">\n",
       "      <th></th>\n",
       "      <th>item_id</th>\n",
       "      <th>albums</th>\n",
       "      <th>artists</th>\n",
       "      <th>genres</th>\n",
       "      <th>item_name</th>\n",
       "      <th>albums_names</th>\n",
       "      <th>artists_names</th>\n",
       "      <th>genres_names</th>\n",
       "    </tr>\n",
       "  </thead>\n",
       "  <tbody>\n",
       "    <tr>\n",
       "      <th>0</th>\n",
       "      <td>26</td>\n",
       "      <td>[3, 2490753]</td>\n",
       "      <td>[16]</td>\n",
       "      <td>[11, 21]</td>\n",
       "      <td>Complimentary Me</td>\n",
       "      <td>[Taller Children, Taller Children]</td>\n",
       "      <td>[Elizabeth &amp; the Catapult]</td>\n",
       "      <td>[pop, folk]</td>\n",
       "    </tr>\n",
       "    <tr>\n",
       "      <th>1</th>\n",
       "      <td>38</td>\n",
       "      <td>[3, 2490753]</td>\n",
       "      <td>[16]</td>\n",
       "      <td>[11, 21]</td>\n",
       "      <td>Momma's Boy</td>\n",
       "      <td>[Taller Children, Taller Children]</td>\n",
       "      <td>[Elizabeth &amp; the Catapult]</td>\n",
       "      <td>[pop, folk]</td>\n",
       "    </tr>\n",
       "    <tr>\n",
       "      <th>2</th>\n",
       "      <td>135</td>\n",
       "      <td>[12, 214, 2490809]</td>\n",
       "      <td>[84]</td>\n",
       "      <td>[11]</td>\n",
       "      <td>Atticus</td>\n",
       "      <td>[Wild Young Hearts, Wild Young Hearts, Wild Yo...</td>\n",
       "      <td>[Noisettes]</td>\n",
       "      <td>[pop]</td>\n",
       "    </tr>\n",
       "    <tr>\n",
       "      <th>3</th>\n",
       "      <td>136</td>\n",
       "      <td>[12, 214, 2490809]</td>\n",
       "      <td>[84]</td>\n",
       "      <td>[11]</td>\n",
       "      <td>24 Hours</td>\n",
       "      <td>[Wild Young Hearts, Wild Young Hearts, Wild Yo...</td>\n",
       "      <td>[Noisettes]</td>\n",
       "      <td>[pop]</td>\n",
       "    </tr>\n",
       "    <tr>\n",
       "      <th>4</th>\n",
       "      <td>138</td>\n",
       "      <td>[12, 214, 322, 72275, 72292, 91199, 213505, 24...</td>\n",
       "      <td>[84]</td>\n",
       "      <td>[11]</td>\n",
       "      <td>Don't Upset The Rhythm (Go Baby Go)</td>\n",
       "      <td>[Wild Young Hearts, Wild Young Hearts, Don't U...</td>\n",
       "      <td>[Noisettes]</td>\n",
       "      <td>[pop]</td>\n",
       "    </tr>\n",
       "  </tbody>\n",
       "</table>\n",
       "</div>"
      ],
      "text/plain": [
       "   item_id                                             albums artists  \\\n",
       "0       26                                       [3, 2490753]    [16]   \n",
       "1       38                                       [3, 2490753]    [16]   \n",
       "2      135                                 [12, 214, 2490809]    [84]   \n",
       "3      136                                 [12, 214, 2490809]    [84]   \n",
       "4      138  [12, 214, 322, 72275, 72292, 91199, 213505, 24...    [84]   \n",
       "\n",
       "     genres                            item_name  \\\n",
       "0  [11, 21]                     Complimentary Me   \n",
       "1  [11, 21]                          Momma's Boy   \n",
       "2      [11]                              Atticus   \n",
       "3      [11]                             24 Hours   \n",
       "4      [11]  Don't Upset The Rhythm (Go Baby Go)   \n",
       "\n",
       "                                        albums_names  \\\n",
       "0                 [Taller Children, Taller Children]   \n",
       "1                 [Taller Children, Taller Children]   \n",
       "2  [Wild Young Hearts, Wild Young Hearts, Wild Yo...   \n",
       "3  [Wild Young Hearts, Wild Young Hearts, Wild Yo...   \n",
       "4  [Wild Young Hearts, Wild Young Hearts, Don't U...   \n",
       "\n",
       "                artists_names genres_names  \n",
       "0  [Elizabeth & the Catapult]  [pop, folk]  \n",
       "1  [Elizabeth & the Catapult]  [pop, folk]  \n",
       "2                 [Noisettes]        [pop]  \n",
       "3                 [Noisettes]        [pop]  \n",
       "4                 [Noisettes]        [pop]  "
      ]
     },
     "execution_count": 41,
     "metadata": {},
     "output_type": "execute_result"
    }
   ],
   "source": [
    "# Визуальна проверка\n",
    "items.head()"
   ]
  },
  {
   "cell_type": "code",
   "execution_count": 45,
   "id": "7ff2c198",
   "metadata": {},
   "outputs": [
    {
     "name": "stdout",
     "output_type": "stream",
     "text": [
      "<class 'pandas.core.frame.DataFrame'>\n",
      "Index: 214720738 entries, 0 to 291\n",
      "Columns: 4 entries, user_id to started_at\n",
      "dtypes: datetime64[ns](1), int16(1), int32(2)\n",
      "memory usage: 5.2 GB\n"
     ]
    }
   ],
   "source": [
    "interactions.info(verbose=False)"
   ]
  },
  {
   "cell_type": "markdown",
   "id": "68e73960-fd38-4e15-8db0-9a25c35dfd25",
   "metadata": {},
   "source": [
    "#### 2.1 EDA"
   ]
  },
  {
   "cell_type": "code",
   "execution_count": null,
   "id": "9f5b998c",
   "metadata": {},
   "outputs": [],
   "source": [
    "interactions['user_id'].nunique()"
   ]
  },
  {
   "cell_type": "markdown",
   "id": "85ea3991",
   "metadata": {},
   "source": [
    "Общее кол-во уникальных пользователей в выборке около 1.3 млн."
   ]
  },
  {
   "cell_type": "code",
   "execution_count": null,
   "id": "9bf5eaba-35f7-4da7-be59-9ab4a34b2423",
   "metadata": {},
   "outputs": [],
   "source": [
    "# Кол-во прослушанных треков по пользователям\n",
    "track_count_by_user = (\n",
    "    interactions.groupby('user_id').agg(tracks_listened=('track_id', 'count'))\n",
    ")"
   ]
  },
  {
   "cell_type": "code",
   "execution_count": null,
   "id": "ff5ed2be",
   "metadata": {},
   "outputs": [],
   "source": [
    "# Статистики по кол-ву прослушаных треков\n",
    "track_count_by_user.describe().astype('int')"
   ]
  },
  {
   "cell_type": "code",
   "execution_count": null,
   "id": "74361126",
   "metadata": {},
   "outputs": [],
   "source": [
    "ax = sns.histplot(track_count_by_user, stat='percent', binwidth=5)\n",
    "ax.set_xlim(0, 300)\n",
    "ax.axvline(track_count_by_user['tracks_listened'].median(), color='blue',\n",
    "           linestyle='-', label='Median')\n",
    "ax.axvline(track_count_by_user['tracks_listened'].mean(), color='red',\n",
    "           linestyle='-', label='Mean')\n",
    "ax.legend()\n",
    "ax.set_title('Распределение количества прослушанных пользователем треков');"
   ]
  },
  {
   "cell_type": "markdown",
   "id": "f5139670",
   "metadata": {},
   "source": [
    "Медианное кол-ва прослушанных пользователем треков 54.      \n",
    "Из-за наличия достаточного кол-ва меломанов с большим числом прослушанных треков (>1000) среднее существенно выше и составляет 156."
   ]
  },
  {
   "cell_type": "code",
   "execution_count": null,
   "id": "d765519a-18dd-4d30-9e29-cc2d84cacd79",
   "metadata": {},
   "outputs": [],
   "source": [
    "# 100 нааиболее популярных треков\n",
    "top100_popular = interactions.groupby('track_id').agg(users_listened=('user_id', 'count')).sort_values(by='users_listened', ascending=False)[:100].reset_index()\n",
    "top100_popular = top100_popular.merge(\n",
    "    cat_names.query('type == \"track\"')[['id', 'name']],\n",
    "    left_on='track_id',\n",
    "    right_on='id',\n",
    "    how='left'\n",
    ")"
   ]
  },
  {
   "cell_type": "code",
   "execution_count": null,
   "id": "aecaf630-fde0-4860-b84a-42c933a9606e",
   "metadata": {},
   "outputs": [],
   "source": [
    "top100_popular"
   ]
  },
  {
   "cell_type": "markdown",
   "id": "b1c32a5a-d3be-4f96-8dd9-f7860951020c",
   "metadata": {},
   "source": [
    "Наиболее популярные жанры"
   ]
  },
  {
   "cell_type": "code",
   "execution_count": null,
   "id": "1bc50491-9235-4d3c-a6c2-297f7c05a959",
   "metadata": {},
   "outputs": [],
   "source": []
  },
  {
   "cell_type": "markdown",
   "id": "15254e66-e80e-473b-ba24-abebea5ccac7",
   "metadata": {},
   "source": [
    "Треки, которые никто не прослушал"
   ]
  },
  {
   "cell_type": "code",
   "execution_count": null,
   "id": "50bc50c6-2d83-4c7e-97fa-3e7627978438",
   "metadata": {},
   "outputs": [],
   "source": []
  },
  {
   "cell_type": "markdown",
   "id": "4d1be653-eed8-4fa0-a9c5-3811b080d71d",
   "metadata": {},
   "source": [
    "#### Сохранение данных"
   ]
  },
  {
   "cell_type": "markdown",
   "id": "36f1314a-3af3-4faf-a0b1-3045173d1500",
   "metadata": {},
   "source": [
    "Сохраним данные в двух файлах в персональном S3-бакете по пути `recsys/data/`:\n",
    "- `items.parquet` — все данные о музыкальных треках,\n",
    "- `events.parquet` — все данные о взаимодействиях."
   ]
  },
  {
   "cell_type": "code",
   "execution_count": null,
   "id": "9f77af17-7705-4fae-9aad-db579b39faad",
   "metadata": {},
   "outputs": [],
   "source": []
  },
  {
   "cell_type": "markdown",
   "id": "72ecbbed-c560-44d9-9c14-86c7dc76f399",
   "metadata": {},
   "source": [
    "#### Очистка памяти"
   ]
  },
  {
   "cell_type": "markdown",
   "id": "b5358ede-ba6e-4c4f-bd73-5b9344f0ba79",
   "metadata": {},
   "source": [
    "Здесь, может понадобится очистка памяти для высвобождения ресурсов для выполнения кода ниже. \n",
    "\n",
    "Приведите соответствующие код, комментарии, например:\n",
    "- код для удаление более ненужных переменных,\n",
    "- комментарий, что следует перезапустить kernel, выполнить такие-то начальные секции и продолжить с этапа 3."
   ]
  },
  {
   "cell_type": "code",
   "execution_count": null,
   "id": "767fe920-e12e-4ad8-b04e-56e8091fac9f",
   "metadata": {},
   "outputs": [],
   "source": []
  },
  {
   "cell_type": "markdown",
   "id": "708503df-ee89-4cf3-8489-093dc478e2a8",
   "metadata": {},
   "source": [
    "### 3. Третий этап"
   ]
  },
  {
   "cell_type": "markdown",
   "id": "fd77de22-e10f-4b42-85c1-8fb6f805fe68",
   "metadata": {},
   "source": [
    "#### 3.1 Загрузка данных"
   ]
  },
  {
   "cell_type": "markdown",
   "id": "780a4241-1ecd-4a3e-bbb3-fc2f6ca94f68",
   "metadata": {},
   "source": [
    "Если необходимо, то загружаем items.parquet, events.parquet."
   ]
  },
  {
   "cell_type": "code",
   "execution_count": null,
   "id": "f19fc8a5-bd2c-40d7-864a-ee75aca6d512",
   "metadata": {},
   "outputs": [],
   "source": []
  },
  {
   "cell_type": "code",
   "execution_count": null,
   "id": "5db1e801-5845-4ce3-86f2-c2fa30f68cc5",
   "metadata": {},
   "outputs": [],
   "source": []
  },
  {
   "cell_type": "markdown",
   "id": "a694c023-6477-490b-939d-1cfa6f5f1b72",
   "metadata": {},
   "source": [
    "#### 3.2 Разбиение данных"
   ]
  },
  {
   "cell_type": "markdown",
   "id": "fbd5f6e0-54e7-4428-8678-eabce505d82c",
   "metadata": {},
   "source": [
    "Разбиваем данные на тренировочную, тестовую выборки."
   ]
  },
  {
   "cell_type": "code",
   "execution_count": null,
   "id": "00c2dfa5-d8a2-47d1-922e-6eefee2c62d1",
   "metadata": {},
   "outputs": [],
   "source": []
  },
  {
   "cell_type": "code",
   "execution_count": null,
   "id": "26fe3e3c-8c5f-4437-bf13-9191adef08bb",
   "metadata": {},
   "outputs": [],
   "source": []
  },
  {
   "cell_type": "markdown",
   "id": "9131c7e6-8852-4556-b510-51f7253cc299",
   "metadata": {},
   "source": [
    "#### 3.3 Топ популярных"
   ]
  },
  {
   "cell_type": "markdown",
   "id": "dd70d43a-88cc-4719-b291-feaed7136f30",
   "metadata": {},
   "source": [
    "Рассчитаем рекомендации как топ популярных."
   ]
  },
  {
   "cell_type": "code",
   "execution_count": null,
   "id": "ee45e200-b7d6-4f56-9077-aad431689b96",
   "metadata": {},
   "outputs": [],
   "source": []
  },
  {
   "cell_type": "code",
   "execution_count": null,
   "id": "7690c86f-7aa9-46ed-bba5-2c837626411e",
   "metadata": {},
   "outputs": [],
   "source": []
  },
  {
   "cell_type": "markdown",
   "id": "2ad231f2-6158-421a-b7fa-01d8bc3ed572",
   "metadata": {},
   "source": [
    "#### 3.4 Персональные"
   ]
  },
  {
   "cell_type": "markdown",
   "id": "86159460-cd9d-4b63-8248-604ea3c9aebf",
   "metadata": {},
   "source": [
    "Рассчитаем персональные рекомендации."
   ]
  },
  {
   "cell_type": "code",
   "execution_count": null,
   "id": "d2944822-569c-4f9b-82dc-70a7fa2d542e",
   "metadata": {},
   "outputs": [],
   "source": []
  },
  {
   "cell_type": "code",
   "execution_count": null,
   "id": "1e8cdb58-3a8c-45ad-8e5f-7f950314aa56",
   "metadata": {},
   "outputs": [],
   "source": []
  },
  {
   "cell_type": "markdown",
   "id": "5f09dc7e-7c91-4355-860a-b9cfb9f33f15",
   "metadata": {},
   "source": [
    "#### 3.5 Похожие"
   ]
  },
  {
   "cell_type": "markdown",
   "id": "1dfcb683-b440-40a8-9975-894156a53872",
   "metadata": {},
   "source": [
    "Рассчитаем похожие, они позже пригодятся для онлайн-рекомендаций."
   ]
  },
  {
   "cell_type": "code",
   "execution_count": null,
   "id": "a75d07ee-4b12-4ce5-aa85-e45cb7a7a4f0",
   "metadata": {},
   "outputs": [],
   "source": []
  },
  {
   "cell_type": "code",
   "execution_count": null,
   "id": "ce370904-4c49-4152-8706-416074ea9b9a",
   "metadata": {},
   "outputs": [],
   "source": []
  },
  {
   "cell_type": "markdown",
   "id": "0087a3e7-ca9f-42cd-944c-944222c1baef",
   "metadata": {},
   "source": [
    "#### 3.6 Построение признаков"
   ]
  },
  {
   "cell_type": "markdown",
   "id": "e82a32e1-b90b-4eaf-9439-fc8deab9f34b",
   "metadata": {},
   "source": [
    "Построим три признака, можно больше, для ранжирующей модели."
   ]
  },
  {
   "cell_type": "code",
   "execution_count": null,
   "id": "05b4ae84-406a-44a4-abec-4f80f93e3004",
   "metadata": {},
   "outputs": [],
   "source": []
  },
  {
   "cell_type": "code",
   "execution_count": null,
   "id": "00f84c35-f544-4c3d-ad53-9b1d2b684c75",
   "metadata": {},
   "outputs": [],
   "source": []
  },
  {
   "cell_type": "markdown",
   "id": "47bcf88d-b236-46f0-a6f3-38ddd64895fe",
   "metadata": {},
   "source": [
    "#### 3.7 Ранжирование рекомендаций"
   ]
  },
  {
   "cell_type": "markdown",
   "id": "e8cd8223-3418-4493-8c87-1f76286ebda0",
   "metadata": {},
   "source": [
    "Построим ранжирующую модель, чтобы сделать рекомендации более точными. Отранжируем рекомендации."
   ]
  },
  {
   "cell_type": "code",
   "execution_count": null,
   "id": "79f1dd92-32a9-463d-827e-8bb9ee5bbb54",
   "metadata": {},
   "outputs": [],
   "source": []
  },
  {
   "cell_type": "code",
   "execution_count": null,
   "id": "6dbe4db4-1ac5-44da-a13c-8e7f9768ab73",
   "metadata": {},
   "outputs": [],
   "source": []
  },
  {
   "cell_type": "markdown",
   "id": "b3c84071-45b5-4a15-a683-e0ab034a3128",
   "metadata": {},
   "source": [
    "#### 3.8 Оценка качества"
   ]
  },
  {
   "cell_type": "markdown",
   "id": "1b107fe4-554e-42b1-87d9-c435a52bb77a",
   "metadata": {},
   "source": [
    "Проверим оценку качества трёх типов рекомендаций: \n",
    "\n",
    "- топ популярных,\n",
    "- персональных, полученных при помощи ALS,\n",
    "- итоговых\n",
    "  \n",
    "по четырем метрикам: recall, precision, coverage, novelty."
   ]
  },
  {
   "cell_type": "code",
   "execution_count": null,
   "id": "94d6f388-aecb-443e-8647-14014e932d4d",
   "metadata": {},
   "outputs": [],
   "source": []
  },
  {
   "cell_type": "code",
   "execution_count": null,
   "id": "26df411f-14c1-4848-8797-f37afe449cc6",
   "metadata": {},
   "outputs": [],
   "source": []
  },
  {
   "cell_type": "markdown",
   "id": "f1c8d38c-32b0-46a4-96f0-cd01dac708bc",
   "metadata": {},
   "source": [
    "#### 3.9 Выводы, метрики"
   ]
  },
  {
   "cell_type": "markdown",
   "id": "f7d7d5d8-7d1e-4fdf-a6cd-83e5ce92c684",
   "metadata": {},
   "source": [
    "Основные выводы при работе над расчётом рекомендаций, рассчитанные метрики."
   ]
  },
  {
   "cell_type": "code",
   "execution_count": null,
   "id": "6403097d-db36-46d9-8952-613c9bd51b05",
   "metadata": {},
   "outputs": [],
   "source": []
  },
  {
   "cell_type": "code",
   "execution_count": null,
   "id": "986cfdd5-6f2e-4de6-8666-85804c87d04b",
   "metadata": {},
   "outputs": [],
   "source": []
  }
 ],
 "metadata": {
  "kernelspec": {
   "display_name": "Python 3 (ipykernel)",
   "language": "python",
   "name": "python3"
  },
  "language_info": {
   "codemirror_mode": {
    "name": "ipython",
    "version": 3
   },
   "file_extension": ".py",
   "mimetype": "text/x-python",
   "name": "python",
   "nbconvert_exporter": "python",
   "pygments_lexer": "ipython3",
   "version": "3.10.12"
  }
 },
 "nbformat": 4,
 "nbformat_minor": 5
}
