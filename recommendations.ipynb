{
 "cells": [
  {
   "cell_type": "markdown",
   "id": "f4095ae4-7294-4b28-853e-88d235002c97",
   "metadata": {},
   "source": [
    "### 0. Инициализация"
   ]
  },
  {
   "cell_type": "code",
   "execution_count": null,
   "id": "662d04e7-1b0b-4e4a-9ddf-4526d7fef119",
   "metadata": {},
   "outputs": [],
   "source": [
    "# Загружаем библиотеки необходимые для выполнения кода ноутбука.\n",
    "\n",
    "import pandas as pd\n",
    "import numpy as np\n",
    "import seaborn as sns\n",
    "import matplotlib.pyplot as plt\n",
    "import logging\n",
    "\n",
    "from utils.shortcuts import print_deep_mem_usage\n",
    "from utils.s3 import print_bucket_contents, upload_file_to_s3"
   ]
  },
  {
   "cell_type": "code",
   "execution_count": null,
   "id": "6299631b",
   "metadata": {},
   "outputs": [],
   "source": [
    "# Настройка форматов\n",
    "pd.set_option('display.max_columns', None)\n",
    "pd.set_option('display.float_format',  '{:,.2f}'.format)\n",
    "\n",
    "# Отключаем INFO сообщения от matplotlib\n",
    "logging.getLogger('matplotlib').setLevel(logging.WARNING)\n",
    "\n",
    "sns.set_theme(style=\"whitegrid\")\n",
    "plt.rcParams['figure.figsize'] = (15,5)\n",
    "plt.rcParams['axes.titlesize'] = 'large'\n",
    "plt.rcParams['axes.labelsize'] =  'large'\n",
    "plt.rcParams['xtick.labelsize'] =  'medium'\n",
    "plt.rcParams['ytick.labelsize'] =  'medium'\n",
    "plt.rcParams['legend.title_fontsize'] = 'large'\n",
    "plt.rcParams['legend.fontsize'] = 'medium'\n",
    "plt.rcParams['legend.framealpha'] = .9"
   ]
  },
  {
   "cell_type": "markdown",
   "id": "bf80fbc5-b660-4fac-8fbb-a5cae77313b3",
   "metadata": {},
   "source": [
    "### 1. Первый этап"
   ]
  },
  {
   "cell_type": "markdown",
   "id": "5263a8b3-fe99-4204-8a2e-105182792c11",
   "metadata": {},
   "source": [
    "#### 1.1 Загрузка первичных данных"
   ]
  },
  {
   "cell_type": "code",
   "execution_count": null,
   "id": "5d4b8961-3f35-4e58-9d6b-3e2dbd2c4224",
   "metadata": {},
   "outputs": [],
   "source": [
    "tracks = pd.read_parquet('data/tracks.parquet')\n",
    "cat_names = pd.read_parquet('data/catalog_names.parquet')\n",
    "interactions = pd.read_parquet('data/interactions.parquet')"
   ]
  },
  {
   "cell_type": "markdown",
   "id": "e8f2a1f7-a05f-4f39-af90-5f4018aa6f9d",
   "metadata": {},
   "source": [
    "#### 1.2 Обзор данных"
   ]
  },
  {
   "cell_type": "markdown",
   "id": "e02e6a05",
   "metadata": {},
   "source": [
    "##### 1.2.1 cat_names - справочник каталожных имен"
   ]
  },
  {
   "cell_type": "code",
   "execution_count": null,
   "id": "cd1f2faa",
   "metadata": {},
   "outputs": [],
   "source": [
    "# Типы данных\n",
    "cat_names.info(memory_usage='deep')"
   ]
  },
  {
   "cell_type": "code",
   "execution_count": null,
   "id": "1a45806c",
   "metadata": {},
   "outputs": [],
   "source": [
    "# Визуальный осмотр данных\n",
    "cat_names.head(3)"
   ]
  },
  {
   "cell_type": "code",
   "execution_count": null,
   "id": "a4bee1de",
   "metadata": {},
   "outputs": [],
   "source": [
    "# Диапазон значений id\n",
    "cat_names['id'].describe()[['min', 'max', 'count']].astype('int')"
   ]
  },
  {
   "cell_type": "code",
   "execution_count": null,
   "id": "86ff1355",
   "metadata": {},
   "outputs": [],
   "source": [
    "# Оптимизируем типы данных\n",
    "cat_names = cat_names.reset_index(drop=True)\n",
    "cat_names['id'] = cat_names['id'].astype('int32')\n",
    "cat_names['type'] = cat_names['type'].astype('category')\n",
    "cat_names['name'] = cat_names['name'].astype('category')\n",
    "\n",
    "# Объем памяти после оптимизации типов\n",
    "print_deep_mem_usage(cat_names)"
   ]
  },
  {
   "cell_type": "code",
   "execution_count": null,
   "id": "ec3063d1",
   "metadata": {},
   "outputs": [],
   "source": [
    "# Уникальные типы каталожных единиц\n",
    "cat_names['type'].value_counts()"
   ]
  },
  {
   "cell_type": "code",
   "execution_count": null,
   "id": "2013110a",
   "metadata": {},
   "outputs": [],
   "source": [
    "# Проверка на пропуски -> отсутствуют\n",
    "cat_names.isna().sum()"
   ]
  },
  {
   "cell_type": "code",
   "execution_count": null,
   "id": "c9f8f17e-9b56-4f5a-a463-f694a993effb",
   "metadata": {},
   "outputs": [],
   "source": [
    "# Наличие дубликатов по полю 'id' -> присутствуют\n",
    "cat_names[['id']].duplicated().sum()"
   ]
  },
  {
   "cell_type": "code",
   "execution_count": null,
   "id": "86360449",
   "metadata": {},
   "outputs": [],
   "source": [
    "# Наличие дубликатов по связке 'id', 'type' -> отсутсвуют\n",
    "cat_names[['id', 'type']].duplicated().sum()"
   ]
  },
  {
   "cell_type": "code",
   "execution_count": null,
   "id": "5f99244b",
   "metadata": {},
   "outputs": [],
   "source": [
    "# Наличие дубликатов по связке 'type', 'name' -> присутствуют, и много\n",
    "cat_names[['type', 'name']].duplicated().sum()"
   ]
  },
  {
   "cell_type": "code",
   "execution_count": null,
   "id": "a7d83d8b",
   "metadata": {},
   "outputs": [],
   "source": [
    "# Наличие дубликатов по связке 'type', 'name' для разных типов\n",
    "cat_type_name_duplicated = cat_names[cat_names[['type', 'name']].duplicated()]\n",
    "\n",
    "for type, total_count in cat_names['type'].value_counts().to_dict().items():\n",
    "    duplicated_count = len(cat_type_name_duplicated.query('type == @type'))\n",
    "    display(\n",
    "        f'Type [{type}] : '\n",
    "        f'duplicated names {duplicated_count} of {total_count} '\n",
    "        f'or {duplicated_count / total_count * 100:.1f}%.'\n",
    "    )\n",
    "\n",
    "del cat_type_name_duplicated, type, duplicated_count, total_count"
   ]
  },
  {
   "cell_type": "markdown",
   "id": "00220834",
   "metadata": {},
   "source": [
    "__NB! В каталоге около половины треков и трети альбомов имеют повторяющиеся (дублированные) имена.__   \n",
    "Решение: оставляем как есть, корректировку (слияние) дубликатов в справочниках пока не проводим."
   ]
  },
  {
   "cell_type": "markdown",
   "id": "512baefa",
   "metadata": {},
   "source": [
    "##### 1.2.2 tracks - данные о треках"
   ]
  },
  {
   "cell_type": "code",
   "execution_count": null,
   "id": "8803614b",
   "metadata": {},
   "outputs": [],
   "source": [
    "tracks.info(memory_usage='deep')"
   ]
  },
  {
   "cell_type": "code",
   "execution_count": null,
   "id": "baa58ba6",
   "metadata": {},
   "outputs": [],
   "source": [
    "# визуальный отсмотр\n",
    "tracks.head(3)"
   ]
  },
  {
   "cell_type": "code",
   "execution_count": null,
   "id": "d434be1e",
   "metadata": {},
   "outputs": [],
   "source": [
    "# Оптимизируем типы даныых\n",
    "tracks = tracks.reset_index(drop=True)\n",
    "tracks['track_id'] = tracks['track_id'].astype('int32')\n",
    "tracks[['albums', 'artists', 'genres']] = (\n",
    "    tracks[['albums', 'artists', 'genres']]\n",
    "    .map(lambda x: tuple(x.astype('int32')))\n",
    ")\n",
    "\n",
    "# Объем в памяти после оптимизации\n",
    "print_deep_mem_usage(tracks)"
   ]
  },
  {
   "cell_type": "code",
   "execution_count": null,
   "id": "7702235a",
   "metadata": {},
   "outputs": [],
   "source": [
    "# Исходное число треков\n",
    "track_count_initial = len(tracks)"
   ]
  },
  {
   "cell_type": "code",
   "execution_count": null,
   "id": "4b2b2982",
   "metadata": {},
   "outputs": [],
   "source": [
    "# дубликаты по 'track_id' -> отсутствуют\n",
    "tracks['track_id'].duplicated().sum()"
   ]
  },
  {
   "cell_type": "code",
   "execution_count": null,
   "id": "3b94e5cc",
   "metadata": {},
   "outputs": [],
   "source": [
    "# Все ли track_id есть в справочнике -> да, все\n",
    "set(tracks['track_id']) - set(cat_names.query('type == \"track\"')['id'])"
   ]
  },
  {
   "cell_type": "code",
   "execution_count": null,
   "id": "04066d70",
   "metadata": {},
   "outputs": [],
   "source": [
    "# все ли id альбомов есть в справочнике -> нет, не все: \n",
    "# встречаются пропуски (nan)\n",
    "(\n",
    "    set(tracks['albums'].explode().drop_duplicates()) \n",
    "    - set(cat_names.query('type == \"album\"')['id'])\n",
    ")"
   ]
  },
  {
   "cell_type": "code",
   "execution_count": null,
   "id": "7531e4be",
   "metadata": {},
   "outputs": [],
   "source": [
    "# визуальный осмотр битых идентификаторов альбомов\n",
    "track_ids_with_broken_albums = (\n",
    "    tracks\n",
    "    .explode('albums')\n",
    "    .query('albums.isna()')\n",
    "    ['track_id']\n",
    "    .drop_duplicates()\n",
    ")\n",
    "print(\n",
    "    f'Tracks with broken \"albums\": {len(track_ids_with_broken_albums)} '\n",
    "    f'or {len(track_ids_with_broken_albums) / track_count_initial :.2%} '\n",
    "    'of total.\\n\\nSample:'\n",
    ")\n",
    "tracks.query('track_id in @track_ids_with_broken_albums').head(3)"
   ]
  },
  {
   "cell_type": "markdown",
   "id": "8ecd4d10",
   "metadata": {},
   "source": [
    "__Проблема__: в данных о треках `tracks` есть 18 треков с отсутствующими (пустыми) значениями id альбомов.      \n",
    "_Решение_: удаляем такие треки из справочника (каталога)"
   ]
  },
  {
   "cell_type": "code",
   "execution_count": null,
   "id": "7bcff35b",
   "metadata": {},
   "outputs": [],
   "source": [
    "# удаляем треки с битыми (пустыми) альбомами\n",
    "tracks = (\n",
    "    tracks\n",
    "    .query('track_id not in @track_ids_with_broken_albums')\n",
    "    .reset_index(drop=True)\n",
    ")\n",
    "del track_ids_with_broken_albums"
   ]
  },
  {
   "cell_type": "code",
   "execution_count": null,
   "id": "29a09499",
   "metadata": {},
   "outputs": [],
   "source": [
    "# все ли id артистов есть в справочнике -> нет, не все: \n",
    "# встречаются пропуски (nan)\n",
    "(\n",
    "    set(tracks['artists'].explode().drop_duplicates()) \n",
    "    - set(cat_names.query('type == \"artist\"')['id'])\n",
    ")"
   ]
  },
  {
   "cell_type": "code",
   "execution_count": null,
   "id": "6e02ccda",
   "metadata": {},
   "outputs": [],
   "source": [
    "# визуальный осмотр битых идентификаторов артистов\n",
    "track_ids_with_broken_artists = (\n",
    "    tracks\n",
    "    .explode('artists')\n",
    "    .query('artists.isna()')\n",
    "    ['track_id']\n",
    "    .drop_duplicates()\n",
    ")\n",
    "print(\n",
    "    f'Tracks with broken \"artists\": {len(track_ids_with_broken_artists)} '\n",
    "    f'or {len(track_ids_with_broken_artists) / track_count_initial :.2%} '\n",
    "    'of total.\\n\\nSample:'\n",
    ")\n",
    "tracks.query('track_id in @track_ids_with_broken_artists').head(3)"
   ]
  },
  {
   "cell_type": "markdown",
   "id": "31c93bbf",
   "metadata": {},
   "source": [
    "__Проблема__: в данных о треках `tracks` есть ~1.5% треков с отсутствующими (пустыми) значениями id артистов.      \n",
    "_Решение_: удаляем такие треки из справочника (каталога)"
   ]
  },
  {
   "cell_type": "code",
   "execution_count": null,
   "id": "18196204",
   "metadata": {},
   "outputs": [],
   "source": [
    "# удаляем треки с битыми (пустыми) идентификаторами артистов\n",
    "tracks = (\n",
    "    tracks\n",
    "    .query('track_id not in @track_ids_with_broken_artists')\n",
    "    .reset_index(drop=True)\n",
    ")\n",
    "\n",
    "del track_ids_with_broken_artists"
   ]
  },
  {
   "cell_type": "code",
   "execution_count": null,
   "id": "2a97e399",
   "metadata": {},
   "outputs": [],
   "source": [
    "# все ли id жанров есть в справочнике -> нет, не все: \n",
    "# встречаются как пропуски (nan) так и безимянные жанры\n",
    "genre_ids_missing = (\n",
    "    set(tracks['genres'].explode().drop_duplicates()) \n",
    "    - set(cat_names.query('type == \"genre\"')['id'])\n",
    ")\n",
    "print(*genre_ids_missing)"
   ]
  },
  {
   "cell_type": "code",
   "execution_count": null,
   "id": "e122e79b",
   "metadata": {},
   "outputs": [],
   "source": [
    "# визуальный осмотр битых идентификаторов жанров\n",
    "track_ids_with_broken_genres = (\n",
    "    tracks\n",
    "    .explode('genres')\n",
    "    .query('genres in @genre_ids_missing') \n",
    "    ['track_id']\n",
    "    .drop_duplicates()\n",
    ")\n",
    "print(\n",
    "    f'Tracks with broken \"genres\": {len(track_ids_with_broken_genres)} '\n",
    "    f'or {len(track_ids_with_broken_genres) / track_count_initial :.2%} '\n",
    "    'of total.\\n\\nSample:'\n",
    ")\n",
    "tracks.query('track_id in @track_ids_with_broken_genres').head(3)"
   ]
  },
  {
   "cell_type": "markdown",
   "id": "f8ea2825",
   "metadata": {},
   "source": [
    "__Проблема__: в данных о треках `tracks` есть ~5% треков с неизвестными или отсутствующими (пустыми) значениями id жанров.      \n",
    "_Решение_: удаляем такие треки из справочника (каталога)"
   ]
  },
  {
   "cell_type": "code",
   "execution_count": null,
   "id": "fa851425",
   "metadata": {},
   "outputs": [],
   "source": [
    "# удаляем треки с неизвестными иои пустыми идентификаторами жанров\n",
    "tracks = (\n",
    "    tracks\n",
    "    .query('track_id not in @track_ids_with_broken_genres')\n",
    "    .reset_index(drop=True)\n",
    ")\n",
    "del genre_ids_missing, track_ids_with_broken_genres"
   ]
  },
  {
   "cell_type": "code",
   "execution_count": null,
   "id": "367b9d1d",
   "metadata": {},
   "outputs": [],
   "source": [
    "# сколько треков осталось после чистки данных\n",
    "print(\n",
    "    f'Cleaned tracks: {len(tracks)} '\n",
    "    f'or {len(tracks) / track_count_initial:.2%} of inital count.'\n",
    ")"
   ]
  },
  {
   "cell_type": "code",
   "execution_count": null,
   "id": "3524c111",
   "metadata": {},
   "outputs": [],
   "source": [
    "# Приборка\n",
    "del track_count_initial"
   ]
  },
  {
   "cell_type": "markdown",
   "id": "f501a044",
   "metadata": {},
   "source": [
    "##### 1.2.3 interactions - взаимодействия пользователей с треками"
   ]
  },
  {
   "cell_type": "code",
   "execution_count": null,
   "id": "956b5e9e",
   "metadata": {},
   "outputs": [],
   "source": [
    "interactions.info(memory_usage='deep')"
   ]
  },
  {
   "cell_type": "code",
   "execution_count": null,
   "id": "da8f9d3b",
   "metadata": {},
   "outputs": [],
   "source": [
    "# визуальный осмотр данных\n",
    "interactions.head(3)"
   ]
  },
  {
   "cell_type": "code",
   "execution_count": null,
   "id": "0623083d",
   "metadata": {},
   "outputs": [],
   "source": [
    "# Посмотрим на фактическую дискретность временных меток\n",
    "interactions['started_at'].drop_duplicates().sort_values().diff().min()"
   ]
  },
  {
   "cell_type": "code",
   "execution_count": null,
   "id": "4911c7ec",
   "metadata": {},
   "outputs": [],
   "source": [
    "# Оптимизация типов \n",
    "interactions = interactions.reset_index(drop=True)\n",
    "interactions['started_at'] = interactions['started_at'].astype('category')\n",
    "\n",
    "# Размер в памяти после оптимизации\n",
    "print_deep_mem_usage(interactions)"
   ]
  },
  {
   "cell_type": "code",
   "execution_count": null,
   "id": "5aad596c",
   "metadata": {},
   "outputs": [],
   "source": [
    "# исходное число записей о взаимодействиях\n",
    "interactions_count_initial = len(interactions)"
   ]
  },
  {
   "cell_type": "code",
   "execution_count": null,
   "id": "f2ff27d1",
   "metadata": {},
   "outputs": [],
   "source": [
    "# Оценим кол-во взаимодействий с треками отсутствующими в справочнике tracks\n",
    "\n",
    "# ids известных треков\n",
    "known_track_ids = set(tracks['track_id'])\n",
    "\n",
    "# взаимодействия с неизвестными треками\n",
    "interactions_with_unknown_tracks = (\n",
    "    interactions.query(\"track_id not in @known_track_ids\")\n",
    ")\n",
    "print(\n",
    "    'Interactions with unknown tracks: '\n",
    "    f'{len(interactions_with_unknown_tracks) / interactions_count_initial:.2%} '\n",
    "    'of total.'\n",
    ")\n",
    "del interactions_with_unknown_tracks"
   ]
  },
  {
   "cell_type": "markdown",
   "id": "38cbcb46",
   "metadata": {},
   "source": [
    "Около 3% взаимодействий приходятся на треки, отсутствующие в каталоге (справочнике) `tracks`.       \n",
    "_Решение_ Удаляем такие прослушивания из `interactions`"
   ]
  },
  {
   "cell_type": "code",
   "execution_count": null,
   "id": "13fc226a",
   "metadata": {},
   "outputs": [],
   "source": [
    "# Удаляем данные о прослушивании 'неизвестных' (или 'битых') треков\n",
    "interactions = (\n",
    "    interactions\n",
    "    .query('track_id in @known_track_ids')\n",
    "    .reset_index(drop=True)\n",
    ")\n",
    "del known_track_ids"
   ]
  },
  {
   "cell_type": "raw",
   "id": "50b0b187",
   "metadata": {
    "vscode": {
     "languageId": "raw"
    }
   },
   "source": [
    "# Присутствуют ли дубликаты для связки 'user_id','track_id' -> отсутствуют\n",
    "interactions[['user_id','track_id']].duplicated().sum()"
   ]
  },
  {
   "cell_type": "raw",
   "id": "81582760",
   "metadata": {
    "vscode": {
     "languageId": "raw"
    }
   },
   "source": [
    "# Присутствуют ли дубликаты для связки 'user_id','track_seq' -> отсутствуют\n",
    "interactions[['user_id','track_seq']].duplicated().sum()"
   ]
  },
  {
   "cell_type": "code",
   "execution_count": null,
   "id": "efc5d893",
   "metadata": {},
   "outputs": [],
   "source": [
    "# сколько взаимодействий осталось после чистки данных\n",
    "print(\n",
    "    f'Cleaned interactions: {len(interactions)} '\n",
    "    f'or {len(interactions) / interactions_count_initial:.2%} of inital count.'\n",
    ")"
   ]
  },
  {
   "cell_type": "code",
   "execution_count": null,
   "id": "025e17df",
   "metadata": {},
   "outputs": [],
   "source": [
    "# Приборка\n",
    "del interactions_count_initial"
   ]
  },
  {
   "cell_type": "markdown",
   "id": "318b573a-9e2d-4808-95db-60cfb8bbdb73",
   "metadata": {
    "editable": true,
    "slideshow": {
     "slide_type": ""
    },
    "tags": []
   },
   "source": [
    "#### 1.3 Выводы"
   ]
  },
  {
   "cell_type": "markdown",
   "id": "f58cd010-c2fa-475f-b7e9-767965cd4f55",
   "metadata": {},
   "source": [
    "Проблемы с данными в исходных датасетах:\n",
    "- в каталоге `cat_names` около половины(!) треков и трети альбомов имеют повторяющиеся (дублированные) имена,    \n",
    "    - _Решение_: оставляем как есть, корректировку (слияние) дубликатов в справочниках пока не проводим.\n",
    "- в данных о треках `tracks` есть 18 треков с отсутствующими (пустыми) значениями id альбомов,\n",
    "    - _Решение_: удаляем такие треки из справочника (каталога)\n",
    "- в данных о треках `tracks` есть ~1.5% треков с отсутствующими (пустыми) значениями id артистов.      \n",
    "    - _Решение_: удаляем такие треки из справочника (каталога)\n",
    "- в данных о треках `tracks` есть ~5% треков с неизвестными или отсутствующими (пустыми) значениями id жанров.      \n",
    "    - _Решение_: удаляем такие треки из справочника (каталога)\n",
    "- Около 3% взаимодействий приходятся на треки, отсутствующие в 'почищенном' каталоге (справочнике) `tracks`.       \n",
    "    - _Решение:_ Удаляем такие прослушивания из `interactions`\n",
    "- очевидных проблем с идентификаторами (ids) не обнаружено"
   ]
  },
  {
   "cell_type": "markdown",
   "id": "7bc3296b-eba6-4333-a78d-b9304aa87e3d",
   "metadata": {},
   "source": [
    "### 2. Второй этап"
   ]
  },
  {
   "cell_type": "markdown",
   "id": "3c0ac272",
   "metadata": {},
   "source": [
    "#### 2.1 Преобразование данных"
   ]
  },
  {
   "cell_type": "markdown",
   "id": "f92c01c1",
   "metadata": {},
   "source": [
    "Преобразуем данные в формат, более пригодный для дальнейшего использования в расчётах рекомендаций."
   ]
  },
  {
   "cell_type": "code",
   "execution_count": null,
   "id": "8b7089f5",
   "metadata": {},
   "outputs": [],
   "source": [
    "# Создадим объеккт items\n",
    "items = (\n",
    "    tracks.copy().rename(columns={'track_id': 'item_id'}).reset_index(drop=True)\n",
    ")"
   ]
  },
  {
   "cell_type": "code",
   "execution_count": null,
   "id": "1e12e6a4",
   "metadata": {},
   "outputs": [],
   "source": [
    "# Добавим к items строковое имя трека из каталога\n",
    "items = items.join(\n",
    "    cat_names.query('type == \"track\"').set_index('id')['name'],\n",
    "    on='item_id'\n",
    ").rename(columns={'name': 'item_name'})\n",
    "\n",
    "# Визуальная проверка\n",
    "items.head(3)"
   ]
  },
  {
   "cell_type": "code",
   "execution_count": null,
   "id": "a48dc686",
   "metadata": {},
   "outputs": [],
   "source": [
    "# Добавляем к items имена альбомов, артистов и жанров из каталога\n",
    "\n",
    "# Создаем словари типа {id: строковое_имя}\n",
    "albums_names = (cat_names.query('type == \"album\"').set_index('id')['name']\n",
    "               .to_dict())\n",
    "artists_names = (cat_names.query('type == \"artist\"').set_index('id')['name']\n",
    "                 .to_dict())\n",
    "genres_names = (cat_names.query('type == \"genre\"').set_index('id')['name']\n",
    "               .to_dict())\n",
    "\n",
    "# Функции преобрабования кортежа с ids (int) в кортеж с именами (строками)\n",
    "get_albums_names = lambda x: tuple(map(albums_names.__getitem__, x))\n",
    "get_artists_names = lambda x: tuple(map(artists_names.__getitem__, x))\n",
    "get_genres_names = lambda x: tuple(map(genres_names.__getitem__, x))\n",
    "\n",
    "items['albums_names'] = items['albums'].map(get_albums_names)\n",
    "items['artists_names'] = items['artists'].map(get_artists_names)\n",
    "items['genres_names'] = items['genres'].map(get_genres_names)\n",
    "\n",
    "del (albums_names, artists_names, genres_names, get_albums_names,\n",
    "     get_artists_names, get_genres_names)\n",
    "\n",
    "# Визуальна проверка\n",
    "items.head(3)"
   ]
  },
  {
   "cell_type": "code",
   "execution_count": null,
   "id": "b92b6b7f",
   "metadata": {},
   "outputs": [],
   "source": [
    "# Проверим, что items не раздуло в пямяти после присоеденинения строковых имен\n",
    "print_deep_mem_usage(items, columns_info=False)"
   ]
  },
  {
   "cell_type": "code",
   "execution_count": null,
   "id": "10268bee",
   "metadata": {},
   "outputs": [],
   "source": [
    "# Создадим объект events\n",
    "events = interactions.copy().rename(columns={'track_id': 'item_id'})"
   ]
  },
  {
   "cell_type": "code",
   "execution_count": null,
   "id": "3f43807e",
   "metadata": {},
   "outputs": [],
   "source": [
    "# Приберемся - cat_names, interactions, tracks больше не нужны\n",
    "del cat_names, interactions, tracks"
   ]
  },
  {
   "cell_type": "markdown",
   "id": "68e73960-fd38-4e15-8db0-9a25c35dfd25",
   "metadata": {},
   "source": [
    "#### 2.2 EDA"
   ]
  },
  {
   "cell_type": "code",
   "execution_count": null,
   "id": "9f5b998c",
   "metadata": {},
   "outputs": [],
   "source": [
    "events['user_id'].nunique()"
   ]
  },
  {
   "cell_type": "markdown",
   "id": "85ea3991",
   "metadata": {},
   "source": [
    "Общее кол-во уникальных пользователей в выборке около 1.3 млн."
   ]
  },
  {
   "cell_type": "code",
   "execution_count": null,
   "id": "9bf5eaba-35f7-4da7-be59-9ab4a34b2423",
   "metadata": {},
   "outputs": [],
   "source": [
    "# Кол-во прослушанных треков по пользователям\n",
    "track_count_by_user = (\n",
    "    events.groupby('user_id').agg(tracks_listened=('item_id', 'count'))\n",
    ")\n",
    "\n",
    "# Статистики по кол-ву прослушаных треков\n",
    "track_count_by_user.describe().astype('int')"
   ]
  },
  {
   "cell_type": "code",
   "execution_count": null,
   "id": "74361126",
   "metadata": {},
   "outputs": [],
   "source": [
    "ax = sns.histplot(track_count_by_user, stat='percent', binwidth=5)\n",
    "ax.set_xlim(0, 300)\n",
    "ax.axvline(track_count_by_user['tracks_listened'].median(), color='blue',\n",
    "           linestyle='-', label='Median')\n",
    "ax.axvline(track_count_by_user['tracks_listened'].mean(), color='red',\n",
    "           linestyle='-', label='Mean')\n",
    "ax.legend()\n",
    "ax.set_title('Распределение числа треков прослушанных '\n",
    "             'одним пользователем')\n",
    "ax.plot()\n",
    "del ax, track_count_by_user"
   ]
  },
  {
   "cell_type": "markdown",
   "id": "f5139670",
   "metadata": {},
   "source": [
    "Медианное кол-ва прослушанных пользователем треков 54.      \n",
    "Из-за наличия достаточного кол-ва меломанов с большим числом прослушанных треков (>1000) среднее существенно выше и составляет 156."
   ]
  },
  {
   "cell_type": "markdown",
   "id": "b9d84e9a",
   "metadata": {},
   "source": [
    "Расчитаем индекс популярности треков:\n",
    "- для каждого трека считаем кол-во прослушавших его пользователей\n",
    "- нормируем от 0 до 1 (делим на кол-во пользователей, прослушавших самый популярный трек)"
   ]
  },
  {
   "cell_type": "code",
   "execution_count": null,
   "id": "d765519a-18dd-4d30-9e29-cc2d84cacd79",
   "metadata": {},
   "outputs": [],
   "source": [
    "# Расчитаем индекс популярности треков:\n",
    "item_popularity = (\n",
    "    events\n",
    "    .groupby('item_id')\n",
    "    .agg(popularity=('user_id', 'count'))\n",
    "    .reset_index()\n",
    ")\n",
    "item_popularity['popularity'] /= item_popularity['popularity'].max()\n",
    "item_popularity['popularity'] = item_popularity['popularity'].astype('float32')\n",
    "\n",
    "# Добавим индекс популярности в таблицу items\n",
    "items = items.merge(item_popularity, on='item_id', how='left')\n",
    "items['popularity'] = items['popularity'].fillna(0)\n",
    "\n",
    "del item_popularity"
   ]
  },
  {
   "cell_type": "code",
   "execution_count": null,
   "id": "0001d47e",
   "metadata": {},
   "outputs": [],
   "source": [
    "# Наиболее популярные треки\n",
    "(\n",
    "    items[['item_name', 'artists_names', 'genres_names', 'albums_names',\n",
    "           'popularity']]\n",
    "    .sort_values(by='popularity', ascending=False)\n",
    "    .head(10)\n",
    ")"
   ]
  },
  {
   "cell_type": "markdown",
   "id": "6d910eae",
   "metadata": {},
   "source": [
    "Аналогичным образом расчитаем индекс популярности жанров:\n",
    "- для каждого жанра считаем общее кол-во прослушиваний треков данного жанра,\n",
    "- нормируем от 0 до 1 (делим на кол-во прослушиваний для самого популярного жанра)"
   ]
  },
  {
   "cell_type": "code",
   "execution_count": null,
   "id": "aecaf630-fde0-4860-b84a-42c933a9606e",
   "metadata": {},
   "outputs": [],
   "source": [
    "# Для удобства (вос)создадим справочную таблицу по жанрам\n",
    "genres = (\n",
    "    items[['genres', 'genres_names']]\n",
    "    .explode(['genres', 'genres_names'])\n",
    "    .drop_duplicates()\n",
    "    .rename(columns={'genres': 'genre_id', 'genres_names': 'genre_name'})\n",
    "    .sort_values(by='genre_id')\n",
    "    .reset_index(drop=True)\n",
    ")\n",
    "\n",
    "# Визуальная проверка\n",
    "genres.head(3)"
   ]
  },
  {
   "cell_type": "code",
   "execution_count": null,
   "id": "291ca26a",
   "metadata": {},
   "outputs": [],
   "source": [
    "# Сначала (снова) посчитаем кол-во прослушиваний для каждого трека\n",
    "events_count = (\n",
    "    events\n",
    "    .groupby('item_id')\n",
    "    .agg(events_count=('user_id', 'count'))\n",
    "    .reset_index()\n",
    ")\n",
    "\n",
    "# После агрегации по трекам добавим информацию по жанрам\n",
    "# и распакуем кортежи с идентифиакаторами жанров\n",
    "events_count = (\n",
    "    events_count\n",
    "    .merge(items[['item_id', 'genres']], on='item_id', how='left')\n",
    "    .explode('genres')\n",
    "    .rename(columns={'genres': 'genre_id'})\n",
    ")\n",
    "\n",
    "# визуальная проверка\n",
    "events_count.head(3)"
   ]
  },
  {
   "cell_type": "code",
   "execution_count": null,
   "id": "3f1ad34a",
   "metadata": {},
   "outputs": [],
   "source": [
    "# И наконец аггрегируем по жанрам для расчета суммарного кол-ва прослушанных\n",
    "# треков по каждому жанру \n",
    "genre_popularity = (\n",
    "    events_count\n",
    "    .groupby('genre_id')\n",
    "    .agg(popularity=('events_count', 'sum'))\n",
    ")\n",
    "# Нормируем\n",
    "genre_popularity['popularity'] /= genre_popularity['popularity'].max()\n",
    "genre_popularity['popularity'] = (genre_popularity['popularity']\n",
    "                                  .astype('float32'))\n",
    "\n",
    "# Добавляем индекс популярности к справочной таблице по жанрам\n",
    "genres = genres.merge(genre_popularity, on='genre_id', how='left')\n",
    "genres['popularity'] = genres['popularity'].fillna(0)\n",
    "\n",
    "# Прибираемся\n",
    "del events_count, genre_popularity\n",
    "\n",
    "# Наиболее популярные жанры\n",
    "genres.sort_values(by='popularity', ascending=False).head(10)"
   ]
  },
  {
   "cell_type": "markdown",
   "id": "5b1807eb",
   "metadata": {},
   "source": [
    "Неожиданный факт: наиболее популярным является жанр с именем `pop`[ular].      \n"
   ]
  },
  {
   "cell_type": "markdown",
   "id": "15254e66-e80e-473b-ba24-abebea5ccac7",
   "metadata": {},
   "source": [
    "Для выделения треков, которые никто не прослушал можно воспользоваться уже рассчитанным индексом популярности трека, для непрослушанных треков индекс популярности равен нулю."
   ]
  },
  {
   "cell_type": "code",
   "execution_count": null,
   "id": "5706e50a",
   "metadata": {},
   "outputs": [],
   "source": [
    "# Количество никем не прослушанных треков\n",
    "(items['popularity'] == 0).sum()"
   ]
  },
  {
   "cell_type": "code",
   "execution_count": null,
   "id": "50bc50c6-2d83-4c7e-97fa-3e7627978438",
   "metadata": {},
   "outputs": [],
   "source": [
    "# Альтернативный способ подсчета непрослушанных треков\n",
    "set(items['item_id']) - set(events['item_id'].drop_duplicates())"
   ]
  },
  {
   "cell_type": "markdown",
   "id": "a76309e7",
   "metadata": {},
   "source": [
    "Кто-то уже позаботился об очистке исходных данных - непрослушанные треки в справочнике (катаологе) треков отсутствуют."
   ]
  },
  {
   "cell_type": "markdown",
   "id": "4d1be653-eed8-4fa0-a9c5-3811b080d71d",
   "metadata": {},
   "source": [
    "#### 2.3 Сохранение данных"
   ]
  },
  {
   "cell_type": "code",
   "execution_count": null,
   "id": "5bb0c987",
   "metadata": {},
   "outputs": [],
   "source": [
    "# Сохраним данные локально\n",
    "\n",
    "# NB: признак popularuty для items, genres сохранять не будем,\n",
    "# т.к. мы его считали по всей выборке событий, включая будущую тестовую выборку\n",
    "items.drop(columns='popularity').to_parquet('data/items.parquet')\n",
    "events.to_parquet('data/events.parquet')\n",
    "genres.drop(columns='popularity').to_parquet('data/genres.parquet')"
   ]
  },
  {
   "cell_type": "markdown",
   "id": "36f1314a-3af3-4faf-a0b1-3045173d1500",
   "metadata": {},
   "source": [
    "Сохраним данные в двух файлах в персональном S3-бакете по пути `recsys/data/`:\n",
    "- `items.parquet` — все данные о музыкальных треках,\n",
    "- `events.parquet` — все данные о взаимодействиях."
   ]
  },
  {
   "cell_type": "code",
   "execution_count": null,
   "id": "9f77af17-7705-4fae-9aad-db579b39faad",
   "metadata": {},
   "outputs": [],
   "source": [
    "# Заливаем файлы\n",
    "upload_file_to_s3('data/items.parquet', 'recsys/data/items.parquet')\n",
    "upload_file_to_s3('data/events.parquet', 'recsys/data/events.parquet')\n",
    "\n",
    "# Визуальная проверка содержимого бакета \n",
    "print_bucket_contents(key_pattern='recsys')"
   ]
  },
  {
   "cell_type": "markdown",
   "id": "72ecbbed-c560-44d9-9c14-86c7dc76f399",
   "metadata": {},
   "source": [
    "#### 2.4 Очистка памяти - перезагружаем ядро"
   ]
  },
  {
   "cell_type": "markdown",
   "id": "b5358ede-ba6e-4c4f-bd73-5b9344f0ba79",
   "metadata": {},
   "source": [
    "Можно было бы ограничится удалением переменных, но перезагрузка ядра перед 'тяжелыми' расчетами более надежный вариант."
   ]
  },
  {
   "cell_type": "code",
   "execution_count": null,
   "id": "767fe920-e12e-4ad8-b04e-56e8091fac9f",
   "metadata": {},
   "outputs": [],
   "source": [
    "import IPython\n",
    "IPython.Application.instance().kernel.do_shutdown(True)"
   ]
  },
  {
   "cell_type": "markdown",
   "id": "708503df-ee89-4cf3-8489-093dc478e2a8",
   "metadata": {},
   "source": [
    "### 3. Третий этап"
   ]
  },
  {
   "cell_type": "markdown",
   "id": "0c043282",
   "metadata": {},
   "source": [
    "#### 3.1 Повторная инициализация после перезагрузки ядра"
   ]
  },
  {
   "cell_type": "code",
   "execution_count": 1,
   "id": "3b372db9",
   "metadata": {},
   "outputs": [
    {
     "name": "stderr",
     "output_type": "stream",
     "text": [
      "/home/mle-user/mle_projects/mle-recsys-project/venv/lib/python3.10/site-packages/tqdm/auto.py:21: TqdmWarning: IProgress not found. Please update jupyter and ipywidgets. See https://ipywidgets.readthedocs.io/en/stable/user_install.html\n",
      "  from .autonotebook import tqdm as notebook_tqdm\n"
     ]
    }
   ],
   "source": [
    "# Повторно загружаем библиотеки необходимые для выполнения кода ноутбука.\n",
    "import pickle\n",
    "\n",
    "import numpy as np\n",
    "import pandas as pd\n",
    "import scipy\n",
    "import tqdm as notebook_tqdm\n",
    "from implicit.als import AlternatingLeastSquares\n",
    "from sklearn.preprocessing import LabelEncoder\n",
    "\n",
    "from utils.s3 import print_bucket_contents, upload_file_to_s3\n",
    "from utils.shortcuts import (print_csr_mem_usage, print_deep_mem_usage,\n",
    "                             print_total_mem_usage)"
   ]
  },
  {
   "cell_type": "code",
   "execution_count": 2,
   "id": "6fbd87fb",
   "metadata": {},
   "outputs": [],
   "source": [
    "from threadpoolctl import threadpool_limits\n",
    "\n",
    "# Следуем рекомендациям модуля implicit для оптимизации ALS\n",
    "threadpool_limits(1, \"blas\");"
   ]
  },
  {
   "cell_type": "code",
   "execution_count": 3,
   "id": "adb3461c",
   "metadata": {},
   "outputs": [],
   "source": [
    "# Настройка форматов pandas\n",
    "pd.set_option('display.max_columns', None)\n",
    "pd.set_option('display.float_format',  '{:,.2f}'.format)"
   ]
  },
  {
   "cell_type": "code",
   "execution_count": 4,
   "id": "a1852aae",
   "metadata": {},
   "outputs": [],
   "source": [
    "N_RECS_USER = 50    # число рекомендаций модели для одного пользователя"
   ]
  },
  {
   "cell_type": "markdown",
   "id": "fd77de22-e10f-4b42-85c1-8fb6f805fe68",
   "metadata": {},
   "source": [
    "#### 3.2 Загрузка данных"
   ]
  },
  {
   "cell_type": "raw",
   "id": "f19fc8a5-bd2c-40d7-864a-ee75aca6d512",
   "metadata": {
    "vscode": {
     "languageId": "raw"
    }
   },
   "source": [
    "# Загружаем данные из S3\n",
    "download_file_from_s3('data/items.parquet', 'recsys/data/items.parquet')\n",
    "download_file_from_s3('data/events.parquet', 'recsys/data/events.parquet')"
   ]
  },
  {
   "cell_type": "code",
   "execution_count": 5,
   "id": "5db1e801-5845-4ce3-86f2-c2fa30f68cc5",
   "metadata": {},
   "outputs": [],
   "source": [
    "# Загружаем данные в пямять\n",
    "items = pd.read_parquet('data/items.parquet')\n",
    "events = pd.read_parquet('data/events.parquet')"
   ]
  },
  {
   "cell_type": "code",
   "execution_count": 6,
   "id": "42c2e6b6",
   "metadata": {},
   "outputs": [
    {
     "name": "stdout",
     "output_type": "stream",
     "text": [
      "Items\t: Total memory usage 757.4 MB\n",
      "Events\t: Total memory usage 3685.9 MB\n"
     ]
    }
   ],
   "source": [
    "# Объем данных в пямяти после загрузки\n",
    "print('Items\\t: ', end=''); print_deep_mem_usage(items, columns_info=False)\n",
    "print('Events\\t: ', end=''); print_deep_mem_usage(events, columns_info=False)"
   ]
  },
  {
   "cell_type": "code",
   "execution_count": 7,
   "id": "d21e43f9",
   "metadata": {},
   "outputs": [
    {
     "data": {
      "text/html": [
       "<div>\n",
       "<style scoped>\n",
       "    .dataframe tbody tr th:only-of-type {\n",
       "        vertical-align: middle;\n",
       "    }\n",
       "\n",
       "    .dataframe tbody tr th {\n",
       "        vertical-align: top;\n",
       "    }\n",
       "\n",
       "    .dataframe thead th {\n",
       "        text-align: right;\n",
       "    }\n",
       "</style>\n",
       "<table border=\"1\" class=\"dataframe\">\n",
       "  <thead>\n",
       "    <tr style=\"text-align: right;\">\n",
       "      <th></th>\n",
       "      <th>item_id</th>\n",
       "      <th>albums</th>\n",
       "      <th>artists</th>\n",
       "      <th>genres</th>\n",
       "      <th>item_name</th>\n",
       "      <th>albums_names</th>\n",
       "      <th>artists_names</th>\n",
       "      <th>genres_names</th>\n",
       "    </tr>\n",
       "  </thead>\n",
       "  <tbody>\n",
       "    <tr>\n",
       "      <th>0</th>\n",
       "      <td>26</td>\n",
       "      <td>(3, 2490753)</td>\n",
       "      <td>(16,)</td>\n",
       "      <td>(11, 21)</td>\n",
       "      <td>Complimentary Me</td>\n",
       "      <td>(Taller Children, Taller Children)</td>\n",
       "      <td>(Elizabeth &amp; the Catapult,)</td>\n",
       "      <td>(pop, folk)</td>\n",
       "    </tr>\n",
       "    <tr>\n",
       "      <th>1</th>\n",
       "      <td>38</td>\n",
       "      <td>(3, 2490753)</td>\n",
       "      <td>(16,)</td>\n",
       "      <td>(11, 21)</td>\n",
       "      <td>Momma's Boy</td>\n",
       "      <td>(Taller Children, Taller Children)</td>\n",
       "      <td>(Elizabeth &amp; the Catapult,)</td>\n",
       "      <td>(pop, folk)</td>\n",
       "    </tr>\n",
       "    <tr>\n",
       "      <th>2</th>\n",
       "      <td>135</td>\n",
       "      <td>(12, 214, 2490809)</td>\n",
       "      <td>(84,)</td>\n",
       "      <td>(11,)</td>\n",
       "      <td>Atticus</td>\n",
       "      <td>(Wild Young Hearts, Wild Young Hearts, Wild Yo...</td>\n",
       "      <td>(Noisettes,)</td>\n",
       "      <td>(pop,)</td>\n",
       "    </tr>\n",
       "  </tbody>\n",
       "</table>\n",
       "</div>"
      ],
      "text/plain": [
       "   item_id              albums artists    genres         item_name  \\\n",
       "0       26        (3, 2490753)   (16,)  (11, 21)  Complimentary Me   \n",
       "1       38        (3, 2490753)   (16,)  (11, 21)       Momma's Boy   \n",
       "2      135  (12, 214, 2490809)   (84,)     (11,)           Atticus   \n",
       "\n",
       "                                        albums_names  \\\n",
       "0                 (Taller Children, Taller Children)   \n",
       "1                 (Taller Children, Taller Children)   \n",
       "2  (Wild Young Hearts, Wild Young Hearts, Wild Yo...   \n",
       "\n",
       "                 artists_names genres_names  \n",
       "0  (Elizabeth & the Catapult,)  (pop, folk)  \n",
       "1  (Elizabeth & the Catapult,)  (pop, folk)  \n",
       "2                 (Noisettes,)       (pop,)  "
      ]
     },
     "execution_count": 7,
     "metadata": {},
     "output_type": "execute_result"
    }
   ],
   "source": [
    "# Для 'списочных' элементов В items пережмём ndarrays в кортежи \n",
    "# для экономии пямяти\n",
    "list_like_columns = ['albums', 'artists', 'genres', 'albums_names', \n",
    "                     'artists_names', 'genres_names']\n",
    "\n",
    "items[list_like_columns] = items[list_like_columns].map(lambda x: tuple(x))\n",
    "\n",
    "del list_like_columns\n",
    "\n",
    "# Визуальная проверка результата\n",
    "items.head(3)"
   ]
  },
  {
   "cell_type": "code",
   "execution_count": 8,
   "id": "cb4e8b34",
   "metadata": {},
   "outputs": [],
   "source": [
    "# В events изменим тип для started_at на категориальный \n",
    "# NB: временная дискретность - дневная\n",
    "events['started_at'] = events['started_at'].astype('category').cat.as_ordered()"
   ]
  },
  {
   "cell_type": "code",
   "execution_count": 9,
   "id": "eba69d4a",
   "metadata": {},
   "outputs": [
    {
     "name": "stdout",
     "output_type": "stream",
     "text": [
      "Items\t: Total memory usage 459.1 MB\n",
      "Events\t: Total memory usage 2457.3 MB\n"
     ]
    }
   ],
   "source": [
    "# Объем в пямяти после оптимизации типов\n",
    "print('Items\\t: ', end=''); print_deep_mem_usage(items, columns_info=False)\n",
    "print('Events\\t: ', end=''); print_deep_mem_usage(events, columns_info=False)"
   ]
  },
  {
   "cell_type": "markdown",
   "id": "a694c023-6477-490b-939d-1cfa6f5f1b72",
   "metadata": {},
   "source": [
    "#### 3.3 Разбиение данных"
   ]
  },
  {
   "cell_type": "markdown",
   "id": "fbd5f6e0-54e7-4428-8678-eabce505d82c",
   "metadata": {},
   "source": [
    "Разбиваем данные на тренировочную, тестовую выборки.        \n",
    "Дата разделения __16 декабря 2022__ (первый день для тестовых данных)"
   ]
  },
  {
   "cell_type": "code",
   "execution_count": 10,
   "id": "00c2dfa5-d8a2-47d1-922e-6eefee2c62d1",
   "metadata": {},
   "outputs": [],
   "source": [
    "events_train_idx = (events['started_at'] < pd.to_datetime('2022-12-16'))\n",
    "\n",
    "events_train = events[events_train_idx].reset_index(drop=True)\n",
    "events_test = events[~events_train_idx].reset_index(drop=True)\n",
    "\n",
    "del events, events_train_idx "
   ]
  },
  {
   "cell_type": "code",
   "execution_count": 11,
   "id": "1e60b4bd",
   "metadata": {},
   "outputs": [
    {
     "name": "stdout",
     "output_type": "stream",
     "text": [
      "Пользователй в обучающей выборке :    1341269\n",
      "Пользователй в тестовой выборке  :     778789\n",
      "  в т.ч.холодные пользователи    :      30773\n"
     ]
    }
   ],
   "source": [
    "# Посмотрим на разницу в множествах пользователей \n",
    "# в обущающей и тестовой выборке \n",
    "users_train = set(events_train['user_id'].drop_duplicates())\n",
    "users_test = set(events_test['user_id'].drop_duplicates())\n",
    "\n",
    "# Холодные пользователи - отсутствующие в обучающей выборке\n",
    "cold_users = users_test - users_train\n",
    "\n",
    "print(f'Пользователй в обучающей выборке : {len(users_train):>10}')\n",
    "print(f'Пользователй в тестовой выборке  : {len(users_test):>10}')\n",
    "print(f'  в т.ч.холодные пользователи    : {len(cold_users):>10}')"
   ]
  },
  {
   "cell_type": "code",
   "execution_count": 12,
   "id": "39a4a2fd",
   "metadata": {},
   "outputs": [
    {
     "name": "stdout",
     "output_type": "stream",
     "text": [
      "Process memory usage: 5.48 GB\n"
     ]
    }
   ],
   "source": [
    "del users_test, users_train, cold_users\n",
    "print_total_mem_usage()"
   ]
  },
  {
   "cell_type": "markdown",
   "id": "9131c7e6-8852-4556-b510-51f7253cc299",
   "metadata": {},
   "source": [
    "#### 3.4 Топ популярных"
   ]
  },
  {
   "cell_type": "markdown",
   "id": "dd70d43a-88cc-4719-b291-feaed7136f30",
   "metadata": {},
   "source": [
    "Расчитаем индекс (score) популярности как общее кол-во прослушиваний трека различными пользователями.       \n",
    "- Отнормируем от 0 до 1, разделив на максимальное число прослушиваний одного трека.             \n",
    "- Используем только обучающую выборку, берем N_RECS_USER наиболее популярных.        \n",
    "\n",
    "___NB:___ Особенность наших данных - данные о преслушивании трека конкретным пользователем включены в events только один раз, другими словами, комбинация (user_id, item_id) в пределах таблицы events уникальна."
   ]
  },
  {
   "cell_type": "code",
   "execution_count": 13,
   "id": "13e85691",
   "metadata": {},
   "outputs": [
    {
     "data": {
      "text/html": [
       "<div>\n",
       "<style scoped>\n",
       "    .dataframe tbody tr th:only-of-type {\n",
       "        vertical-align: middle;\n",
       "    }\n",
       "\n",
       "    .dataframe tbody tr th {\n",
       "        vertical-align: top;\n",
       "    }\n",
       "\n",
       "    .dataframe thead th {\n",
       "        text-align: right;\n",
       "    }\n",
       "</style>\n",
       "<table border=\"1\" class=\"dataframe\">\n",
       "  <thead>\n",
       "    <tr style=\"text-align: right;\">\n",
       "      <th></th>\n",
       "      <th>item_id</th>\n",
       "      <th>score</th>\n",
       "    </tr>\n",
       "  </thead>\n",
       "  <tbody>\n",
       "    <tr>\n",
       "      <th>0</th>\n",
       "      <td>53404</td>\n",
       "      <td>1.00</td>\n",
       "    </tr>\n",
       "    <tr>\n",
       "      <th>1</th>\n",
       "      <td>33311009</td>\n",
       "      <td>0.92</td>\n",
       "    </tr>\n",
       "    <tr>\n",
       "      <th>2</th>\n",
       "      <td>178529</td>\n",
       "      <td>0.92</td>\n",
       "    </tr>\n",
       "  </tbody>\n",
       "</table>\n",
       "</div>"
      ],
      "text/plain": [
       "    item_id  score\n",
       "0     53404   1.00\n",
       "1  33311009   0.92\n",
       "2    178529   0.92"
      ]
     },
     "execution_count": 13,
     "metadata": {},
     "output_type": "execute_result"
    }
   ],
   "source": [
    "top_popular = (\n",
    "    events_train\n",
    "    .groupby('item_id')\n",
    "    .agg(score=('user_id', 'count'))\n",
    "    .reset_index()\n",
    "    .sort_values(by='score', ascending=False)\n",
    "    [:N_RECS_USER]\n",
    "    .reset_index(drop=True)\n",
    ")\n",
    "top_popular['score'] /= top_popular['score'].max()\n",
    "top_popular['score'] = top_popular['score'].astype('float32')\n",
    "\n",
    "# визуальная проверка \n",
    "top_popular.head(3)"
   ]
  },
  {
   "cell_type": "code",
   "execution_count": 14,
   "id": "7690c86f-7aa9-46ed-bba5-2c837626411e",
   "metadata": {},
   "outputs": [],
   "source": [
    "# Сохраняем локально\n",
    "top_popular.to_parquet('data/top_popular.parquet')"
   ]
  },
  {
   "cell_type": "raw",
   "id": "66d36a40",
   "metadata": {
    "vscode": {
     "languageId": "raw"
    }
   },
   "source": [
    "# Заливаем в s3\n",
    "upload_file_to_s3('data/top_popular.parquet',\n",
    "                  'recsys/recommendations/top_popular.parquet')\n",
    "print_bucket_contents(key_pattern='recsys/recommendations/')"
   ]
  },
  {
   "cell_type": "code",
   "execution_count": 15,
   "id": "6a6a6a56",
   "metadata": {},
   "outputs": [
    {
     "data": {
      "text/html": [
       "<div>\n",
       "<style scoped>\n",
       "    .dataframe tbody tr th:only-of-type {\n",
       "        vertical-align: middle;\n",
       "    }\n",
       "\n",
       "    .dataframe tbody tr th {\n",
       "        vertical-align: top;\n",
       "    }\n",
       "\n",
       "    .dataframe thead th {\n",
       "        text-align: right;\n",
       "    }\n",
       "</style>\n",
       "<table border=\"1\" class=\"dataframe\">\n",
       "  <thead>\n",
       "    <tr style=\"text-align: right;\">\n",
       "      <th></th>\n",
       "      <th>user_id</th>\n",
       "      <th>item_id</th>\n",
       "      <th>score</th>\n",
       "    </tr>\n",
       "  </thead>\n",
       "  <tbody>\n",
       "    <tr>\n",
       "      <th>0</th>\n",
       "      <td>3</td>\n",
       "      <td>53404</td>\n",
       "      <td>1.00</td>\n",
       "    </tr>\n",
       "    <tr>\n",
       "      <th>1</th>\n",
       "      <td>3</td>\n",
       "      <td>33311009</td>\n",
       "      <td>0.92</td>\n",
       "    </tr>\n",
       "    <tr>\n",
       "      <th>2</th>\n",
       "      <td>3</td>\n",
       "      <td>178529</td>\n",
       "      <td>0.92</td>\n",
       "    </tr>\n",
       "  </tbody>\n",
       "</table>\n",
       "</div>"
      ],
      "text/plain": [
       "   user_id   item_id  score\n",
       "0        3     53404   1.00\n",
       "1        3  33311009   0.92\n",
       "2        3    178529   0.92"
      ]
     },
     "execution_count": 15,
     "metadata": {},
     "output_type": "execute_result"
    }
   ],
   "source": [
    "# Для пользвателей из тестовой выборки подготовим таблицу с\n",
    "# рекомендациями вида (user_id, item_id, score)  \n",
    "top_popular_recs = (\n",
    "    events_test[['user_id']]\n",
    "    .drop_duplicates()\n",
    "    .reset_index(drop=True)\n",
    "    .merge(top_popular, how='cross')\n",
    "    .reset_index(drop=True)\n",
    ")\n",
    "top_popular_recs.head(3)"
   ]
  },
  {
   "cell_type": "markdown",
   "id": "e339d98b",
   "metadata": {},
   "source": [
    "Подготовим функции для расчета различных метрик полученных рекомпндаций:\n",
    "- precision@K1, recall@K1 - точность и полнота для среза топ-K1 рекомендаций\n",
    "- coverage@K2 - покрытие по объектам для cреза топ-K2 рекомендаций\n",
    "- novelty@K3 - новизна по объектам для среза топ-K3 рекомендаций"
   ]
  },
  {
   "cell_type": "code",
   "execution_count": 16,
   "id": "33f9dfd7",
   "metadata": {},
   "outputs": [],
   "source": [
    "def get_precision_recall_metrics(\n",
    "    recs: pd.DataFrame,     \n",
    "    events_test: pd.DataFrame,  \n",
    "    K_prc_rec: int = 5\n",
    "):\n",
    "    \"\"\"Calculate precision@K, recall@K metrics.\n",
    "\n",
    "    Parameters\n",
    "    ----------\n",
    "    - recs: reccomendations table containing `user_id, item_id, score` columns\n",
    "    - events_test: events table containing `user_id, item_id`\n",
    "    - K_prc_rec: at_K value for precision and recall \n",
    "    \"\"\"\n",
    "\n",
    "    # Расчет будем вести по пользователям, удовлетворяющим двум условиям:\n",
    "    # 1) для них были даны рекомендации\n",
    "    # 2) они взаимодействовали с объектами в тестовый период \n",
    "    effective_users = (\n",
    "        set(recs['user_id'].drop_duplicates()) \n",
    "        & set(events_test['user_id'].drop_duplicates())\n",
    "    )\n",
    "    events_test = (\n",
    "        events_test\n",
    "        .query('user_id in @effective_users')\n",
    "        .reset_index(drop=True)\n",
    "        .copy()\n",
    "    )\n",
    "    recs = (\n",
    "        recs\n",
    "        .query('user_id in @effective_users')\n",
    "        # Оставляем только top-K рекомендаций для каждого пользователя\n",
    "        .sort_values(by=['user_id', 'score'], ascending=[True, False])\n",
    "        .groupby('user_id')\n",
    "        .head(K_prc_rec)\n",
    "        .reset_index(drop=True)\n",
    "        .copy()\n",
    "    )\n",
    "    # Философский вопрос состоит в том, нужно ли удалять из тестовой выборки\n",
    "    # взаимодействия с объектами, отсутствующими в обучающей выборке?\n",
    "    # Примем решение, что мы так делать не будем.\n",
    "\n",
    "    # Помечаем события в тестовой выборке как 'ground truth'\n",
    "    events_test['gt'] = True\n",
    "\n",
    "    # Сливаем события тестовой выборки с рекомендациями\n",
    "    events_recs = (\n",
    "        events_test[['user_id', 'item_id', 'gt']]\n",
    "        .merge(\n",
    "            recs[['user_id', 'item_id', 'score']],\n",
    "            on=['user_id', 'item_id'],\n",
    "            how='outer'\n",
    "        )\n",
    "    )\n",
    "    # Для нерелевантных рекомендации 'gt': NaN заменяем на False \n",
    "    events_recs['gt'] = events_recs['gt'].fillna(False)\n",
    "\n",
    "    # Размечаем рекомендованные объекты (имеющие score) как 'rec': True\n",
    "    events_recs['rec'] = events_recs['score'].notna()\n",
    "\n",
    "    # Размечаем true positive, false positive и false negative\n",
    "    events_recs['tp'] = events_recs['gt'] & events_recs['rec']\n",
    "    events_recs['fp'] = ~events_recs['gt'] & events_recs['rec']\n",
    "    events_recs['fn'] = events_recs['gt'] & ~events_recs['rec']\n",
    "\n",
    "    grouped = events_recs.groupby('user_id')\n",
    "\n",
    "    precision = (\n",
    "        grouped['tp'].sum() / (grouped['tp'].sum() + grouped['fp'].sum())\n",
    "    )\n",
    "    precision = precision.fillna(0).mean()\n",
    "\n",
    "    recall = (\n",
    "        grouped['tp'].sum() / (grouped['tp'].sum() + grouped['fn'].sum())\n",
    "    )\n",
    "    recall = recall.fillna(0).mean()\n",
    "\n",
    "    return (precision, recall)"
   ]
  },
  {
   "cell_type": "code",
   "execution_count": 17,
   "id": "573b8919",
   "metadata": {},
   "outputs": [],
   "source": [
    "def get_item_coverage_metric(\n",
    "    recs: pd.DataFrame,     \n",
    "    items: pd.DataFrame,    \n",
    "    K_coverage: int = N_RECS_USER,\n",
    "):\n",
    "    \"\"\"\n",
    "    Calculate and return coverage@K metrics.\n",
    "\n",
    "    Parameters\n",
    "    ----------\n",
    "    - recs: reccomendations table containing `user_id, item_id, score` columns\n",
    "    - items: all items table containing `item_id` column\n",
    "    - K_coverage: at_K value for coverage\n",
    "    \"\"\"\n",
    "\n",
    "    # Берем срез топ-К\n",
    "    top_k_recs = (\n",
    "        recs\n",
    "        .sort_values(by=['user_id', 'score'], ascending=[True, False])\n",
    "        .groupby('user_id')\n",
    "        .head(K_coverage)\n",
    "    )\n",
    "    \n",
    "    # кол-во уникальных объектов в К-срезах к общему кол-ву объектов\n",
    "    return top_k_recs['item_id'].nunique() / len(items)"
   ]
  },
  {
   "cell_type": "code",
   "execution_count": 18,
   "id": "818b3c59",
   "metadata": {},
   "outputs": [],
   "source": [
    "def get_novelty_metric(\n",
    "    recs: pd.DataFrame,   \n",
    "    events_train: pd.DataFrame,\n",
    "    K_novelty: int = 5\n",
    "):\n",
    "    \"\"\"\n",
    "    Calculate and return novelty@K metric.\n",
    "\n",
    "    Parameters\n",
    "    ----------\n",
    "    - recs: reccomendations table containing `user_id, item_id, score` columns\n",
    "    - events_trian: events table containing `user_id, item_id`\n",
    "    - K_novelty: at_K value for novelty\n",
    "    \"\"\"\n",
    "\n",
    "    # Отфильтруем рекомендации, оставив только топ-К\n",
    "    top_k_recs = (\n",
    "        recs\n",
    "        .sort_values(by=['user_id', 'score'], ascending=[True, False])\n",
    "        .groupby('user_id')\n",
    "        .head(K_novelty)\n",
    "        .copy()\n",
    "    )\n",
    "    # Добавим к обучающим событиям колонку 'new' : False \n",
    "    # - признак прослушивания трека конкретным пользователем\n",
    "    events_train['new'] = False\n",
    "    \n",
    "    # Добавим признак 'new' к таблице рекомендаций\n",
    "    top_k_recs = top_k_recs.merge(\n",
    "        events_train[['user_id', 'item_id', 'new']],\n",
    "        on=['user_id', 'item_id'],\n",
    "        how='left'\n",
    "    )\n",
    "    top_k_recs['new'] = top_k_recs['new'].fillna(True).astype('bool')\n",
    "\n",
    "    # Для топ-К рекомендаций расчитаем novelty по пользователям и усредним\n",
    "    return top_k_recs.groupby('user_id')['new'].mean().mean()    "
   ]
  },
  {
   "cell_type": "code",
   "execution_count": 19,
   "id": "f7c31cd1",
   "metadata": {},
   "outputs": [],
   "source": [
    "def get_recs_metrics(\n",
    "    recs: pd.DataFrame,     \n",
    "    items: pd.DataFrame,    \n",
    "    events_test: pd.DataFrame,\n",
    "    events_train: pd.DataFrame,\n",
    "    K_prc_rec: int = 5,\n",
    "    K_coverage: int = N_RECS_USER,\n",
    "    K_novelty: int = 5\n",
    "):\n",
    "    \"\"\"\n",
    "    Calculate and return precision@K, recall@K, coverage@K, novelty@K metrics.\n",
    "\n",
    "    Parameters\n",
    "    ----------\n",
    "    - recs: reccomendations table containing `user_id, item_id, score` columns\n",
    "    - items: all items table containing `item_id` column\n",
    "    - events_test: events table containing `user_id, item_id`\n",
    "    - events_trian: events table containing `user_id, item_id`\n",
    "    - K_prc_rec: at_K value for precision and recall \n",
    "    - K_coverage: at_K value for coverage\n",
    "    - K_novelty: at_K value for novelty\n",
    "    \"\"\"\n",
    "    precision_at_K, recall_at_K = (\n",
    "        get_precision_recall_metrics(recs, events_test, K_prc_rec)\n",
    "    )\n",
    "    coverage_at_K = get_item_coverage_metric(recs, items, K_coverage)\n",
    "    novelty_at_K = get_novelty_metric(recs, events_train, K_novelty)\n",
    "    \n",
    "    return {\n",
    "        f'Precision@{K_prc_rec}, %': precision_at_K * 100,\n",
    "        f'Recall@{K_prc_rec}, %': recall_at_K * 100,\n",
    "        f'Coverage@{K_coverage}, %': coverage_at_K * 100,\n",
    "        f'Novelty@{K_novelty}, %': novelty_at_K * 100,\n",
    "    }\n"
   ]
  },
  {
   "cell_type": "code",
   "execution_count": 20,
   "id": "5dece899",
   "metadata": {},
   "outputs": [
    {
     "data": {
      "text/html": [
       "<div>\n",
       "<style scoped>\n",
       "    .dataframe tbody tr th:only-of-type {\n",
       "        vertical-align: middle;\n",
       "    }\n",
       "\n",
       "    .dataframe tbody tr th {\n",
       "        vertical-align: top;\n",
       "    }\n",
       "\n",
       "    .dataframe thead th {\n",
       "        text-align: right;\n",
       "    }\n",
       "</style>\n",
       "<table border=\"1\" class=\"dataframe\">\n",
       "  <thead>\n",
       "    <tr style=\"text-align: right;\">\n",
       "      <th></th>\n",
       "      <th>Precision@5, %</th>\n",
       "      <th>Recall@5, %</th>\n",
       "      <th>Coverage@50, %</th>\n",
       "      <th>Novelty@5, %</th>\n",
       "    </tr>\n",
       "  </thead>\n",
       "  <tbody>\n",
       "    <tr>\n",
       "      <th>Top popular</th>\n",
       "      <td>0.36</td>\n",
       "      <td>0.13</td>\n",
       "      <td>0.01</td>\n",
       "      <td>92.62</td>\n",
       "    </tr>\n",
       "  </tbody>\n",
       "</table>\n",
       "</div>"
      ],
      "text/plain": [
       "             Precision@5, %  Recall@5, %  Coverage@50, %  Novelty@5, %\n",
       "Top popular            0.36         0.13            0.01         92.62"
      ]
     },
     "execution_count": 20,
     "metadata": {},
     "output_type": "execute_result"
    }
   ],
   "source": [
    "metrics = pd.DataFrame(\n",
    "    get_recs_metrics(top_popular_recs, items, events_test, events_train),\n",
    "    index=['Top popular'])\n",
    "metrics"
   ]
  },
  {
   "cell_type": "markdown",
   "id": "b1f1a0a9",
   "metadata": {},
   "source": [
    "Для рекомендаций топ популярных метрики ожидаемо не ахти, но неожиданно высокая novelty 😊"
   ]
  },
  {
   "cell_type": "code",
   "execution_count": 21,
   "id": "ad96b35b",
   "metadata": {},
   "outputs": [
    {
     "name": "stdout",
     "output_type": "stream",
     "text": [
      "Process memory usage: 6.40 GB\n"
     ]
    }
   ],
   "source": [
    "print_total_mem_usage()"
   ]
  },
  {
   "cell_type": "markdown",
   "id": "2ad231f2-6158-421a-b7fa-01d8bc3ed572",
   "metadata": {},
   "source": [
    "#### 3.5 Персональные ALS"
   ]
  },
  {
   "cell_type": "markdown",
   "id": "52b8d2f7",
   "metadata": {},
   "source": [
    "__NB:__ Персональные рекомендации считаем только для пользователй и объектов  [__!__], входящих в обучающую выборку events_train (< 16 декабя 2022 года). "
   ]
  },
  {
   "cell_type": "code",
   "execution_count": 22,
   "id": "d2944822-569c-4f9b-82dc-70a7fa2d542e",
   "metadata": {},
   "outputs": [],
   "source": [
    "# Создаем энкодеры для перекодирования идентификаторов user_id, item_id \n",
    "# в натруральный ряд  {0, 1, ...} для построения матрицы взаимодействий\n",
    "# NB: пользователи и объекты - только из обучающей выборки [!]\n",
    "\n",
    "user_encoder = LabelEncoder().fit(\n",
    "    events_train['user_id'].drop_duplicates().sort_values()\n",
    ")\n",
    "item_encoder = LabelEncoder().fit(\n",
    "    events_train['item_id'].drop_duplicates().sort_values()\n",
    ")"
   ]
  },
  {
   "cell_type": "code",
   "execution_count": 23,
   "id": "0d77ea5d",
   "metadata": {},
   "outputs": [],
   "source": [
    "# создаём sparse-матрицу (user x item) \n",
    "user_item_matrix = scipy.sparse.csr_matrix(\n",
    "    # кортеж вида (data, (row_index, col_index))\n",
    "    (\n",
    "        np.ones(len(events_train), dtype=np.int8),  # взаимодействие -> единица\n",
    "        (\n",
    "            user_encoder.transform(events_train['user_id']),\n",
    "            item_encoder.transform(events_train['item_id'])\n",
    "        )\n",
    "    )\n",
    ")"
   ]
  },
  {
   "cell_type": "raw",
   "id": "fb0c1e61",
   "metadata": {
    "vscode": {
     "languageId": "raw"
    }
   },
   "source": [
    "# Время выполения ~40 минут\n",
    "# Раскладываем матрицу с помощью ALS\n",
    "als_model = AlternatingLeastSquares(\n",
    "    factors=100,\n",
    "    iterations=50,\n",
    "    regularization=0.05,\n",
    "    random_state=0\n",
    ")\n",
    "als_model.fit(user_item_matrix)\n",
    "\n",
    "# Сохраним обученную модель\n",
    "with open('models/als_model.pkl', 'wb') as f:\n",
    "    pickle.dump(als_model, f)"
   ]
  },
  {
   "cell_type": "raw",
   "id": "1aa2a299",
   "metadata": {
    "vscode": {
     "languageId": "raw"
    }
   },
   "source": [
    "# Эталоннный расчет для проверки загружаемой модели\n",
    "als_model.recommend(1000, user_item_matrix[1000],\n",
    "                    filter_already_liked_items=True, N=10)\n",
    ">>>>\n",
    "(array([  4522,  27441,  21898,  10462,   5484,  52000,   2015, 208618,\n",
    "          2903,  39098], dtype=int32),\n",
    " array([0.01942061, 0.018442  , 0.01827359, 0.01789448, 0.01765682,\n",
    "        0.01726999, 0.01719784, 0.01719521, 0.01658652, 0.0159805 ],\n",
    "       dtype=float32))"
   ]
  },
  {
   "cell_type": "code",
   "execution_count": 27,
   "id": "f3a41146",
   "metadata": {},
   "outputs": [
    {
     "data": {
      "text/plain": [
       "(array([  4522,  27441,  21898,  10462,   5484,  52000,   2015, 208618,\n",
       "          2903,  39098], dtype=int32),\n",
       " array([0.01942061, 0.018442  , 0.01827359, 0.01789448, 0.01765682,\n",
       "        0.01726999, 0.01719784, 0.01719521, 0.01658652, 0.0159805 ],\n",
       "       dtype=float32))"
      ]
     },
     "execution_count": 27,
     "metadata": {},
     "output_type": "execute_result"
    }
   ],
   "source": [
    "# Для экономии времени - загружаем обученную модель\n",
    "with open('models/als_model.pkl', 'rb') as f:\n",
    "    als_model = pickle.load(f)\n",
    "    \n",
    "# Проврерочный расчет\n",
    "als_model.recommend(\n",
    "    1000, \n",
    "    user_item_matrix[1000], \n",
    "    filter_already_liked_items=True,\n",
    "    N=10\n",
    ")"
   ]
  },
  {
   "cell_type": "code",
   "execution_count": 37,
   "id": "66c9a60a",
   "metadata": {},
   "outputs": [],
   "source": [
    "# Время выполения ~45 минут\n",
    "# Получаем рекомендации для всех пользователй из events_train\n",
    "als_user_ids, als_scores = als_model.recommend(\n",
    "    range(len(user_encoder.classes_)),  # все закодированные user_id\n",
    "    user_item_matrix, \n",
    "    filter_already_liked_items=True,\n",
    "    N=N_RECS_USER\n",
    ")"
   ]
  },
  {
   "cell_type": "code",
   "execution_count": 48,
   "id": "7e3bb6c1",
   "metadata": {},
   "outputs": [],
   "source": [
    "# в предыдущей ячейке ошиблись с именем переменной, в als_user_ids положили \n",
    "# идентификаторы рекомендуемых объектов, исправляем:\n",
    "als_item_ids = als_user_ids"
   ]
  },
  {
   "cell_type": "code",
   "execution_count": 71,
   "id": "680db80c",
   "metadata": {},
   "outputs": [
    {
     "ename": "",
     "evalue": "",
     "output_type": "error",
     "traceback": [
      "\u001b[1;31mThe Kernel crashed while executing code in the current cell or a previous cell. \n",
      "\u001b[1;31mPlease review the code in the cell(s) to identify a possible cause of the failure. \n",
      "\u001b[1;31mClick <a href='https://aka.ms/vscodeJupyterKernelCrash'>here</a> for more info. \n",
      "\u001b[1;31mView Jupyter <a href='command:jupyter.viewOutput'>log</a> for further details."
     ]
    }
   ],
   "source": [
    "# Перепаковываем рекомендации для всех пользователй в таблицу формата\n",
    "# (user_id, item_id, score)\n",
    "personal_als = pd.DataFrame({\n",
    "    'user_id': range(len(user_encoder.classes_)),\n",
    "    'item_id': als_item_ids.tolist(),\n",
    "    'score': als_scores.tolist()\n",
    "})\n",
    "personal_als = personal_als.explode(['item_id', 'score'])\n",
    "personal_als['user_id'] = personal_als['user_id'].astype('int32')\n",
    "personal_als['item_id'] = personal_als['item_id '].astype('int32')\n",
    "personal_als['score'] = personal_als['score '].astype('float32')"
   ]
  },
  {
   "cell_type": "code",
   "execution_count": 57,
   "id": "f56ab535",
   "metadata": {},
   "outputs": [
    {
     "name": "stdout",
     "output_type": "stream",
     "text": [
      "<class 'pandas.core.frame.DataFrame'>\n",
      "RangeIndex: 1341269 entries, 0 to 1341268\n",
      "Data columns (total 3 columns):\n",
      " #   Column   Non-Null Count    Dtype \n",
      "---  ------   --------------    ----- \n",
      " 0   user_id  1341269 non-null  int64 \n",
      " 1   item_id  1341269 non-null  object\n",
      " 2   score    1341269 non-null  object\n",
      "dtypes: int64(1), object(2)\n",
      "memory usage: 30.7+ MB\n"
     ]
    }
   ],
   "source": [
    "personal_als.info()"
   ]
  },
  {
   "cell_type": "code",
   "execution_count": 59,
   "id": "1e8cdb58-3a8c-45ad-8e5f-7f950314aa56",
   "metadata": {},
   "outputs": [
    {
     "name": "stdout",
     "output_type": "stream",
     "text": [
      "Process memory usage: 21.11 GB\n"
     ]
    }
   ],
   "source": [
    "print_total_mem_usage()"
   ]
  },
  {
   "cell_type": "markdown",
   "id": "5f09dc7e-7c91-4355-860a-b9cfb9f33f15",
   "metadata": {},
   "source": [
    "#### 3.6 Похожие"
   ]
  },
  {
   "cell_type": "markdown",
   "id": "1dfcb683-b440-40a8-9975-894156a53872",
   "metadata": {},
   "source": [
    "Рассчитаем похожие, они позже пригодятся для онлайн-рекомендаций."
   ]
  },
  {
   "cell_type": "code",
   "execution_count": null,
   "id": "a75d07ee-4b12-4ce5-aa85-e45cb7a7a4f0",
   "metadata": {},
   "outputs": [],
   "source": []
  },
  {
   "cell_type": "code",
   "execution_count": null,
   "id": "ce370904-4c49-4152-8706-416074ea9b9a",
   "metadata": {},
   "outputs": [],
   "source": []
  },
  {
   "cell_type": "markdown",
   "id": "0087a3e7-ca9f-42cd-944c-944222c1baef",
   "metadata": {},
   "source": [
    "#### 3.7 Построение признаков"
   ]
  },
  {
   "cell_type": "markdown",
   "id": "e82a32e1-b90b-4eaf-9439-fc8deab9f34b",
   "metadata": {},
   "source": [
    "Построим три признака, можно больше, для ранжирующей модели."
   ]
  },
  {
   "cell_type": "code",
   "execution_count": null,
   "id": "05b4ae84-406a-44a4-abec-4f80f93e3004",
   "metadata": {},
   "outputs": [],
   "source": []
  },
  {
   "cell_type": "code",
   "execution_count": null,
   "id": "00f84c35-f544-4c3d-ad53-9b1d2b684c75",
   "metadata": {},
   "outputs": [],
   "source": []
  },
  {
   "cell_type": "markdown",
   "id": "47bcf88d-b236-46f0-a6f3-38ddd64895fe",
   "metadata": {},
   "source": [
    "#### 3.8 Ранжирование рекомендаций"
   ]
  },
  {
   "cell_type": "markdown",
   "id": "e8cd8223-3418-4493-8c87-1f76286ebda0",
   "metadata": {},
   "source": [
    "Построим ранжирующую модель, чтобы сделать рекомендации более точными. Отранжируем рекомендации."
   ]
  },
  {
   "cell_type": "code",
   "execution_count": null,
   "id": "79f1dd92-32a9-463d-827e-8bb9ee5bbb54",
   "metadata": {},
   "outputs": [],
   "source": []
  },
  {
   "cell_type": "code",
   "execution_count": null,
   "id": "6dbe4db4-1ac5-44da-a13c-8e7f9768ab73",
   "metadata": {},
   "outputs": [],
   "source": []
  },
  {
   "cell_type": "markdown",
   "id": "b3c84071-45b5-4a15-a683-e0ab034a3128",
   "metadata": {},
   "source": [
    "#### 3.9 Оценка качества"
   ]
  },
  {
   "cell_type": "markdown",
   "id": "1b107fe4-554e-42b1-87d9-c435a52bb77a",
   "metadata": {},
   "source": [
    "Проверим оценку качества трёх типов рекомендаций: \n",
    "\n",
    "- топ популярных,\n",
    "- персональных, полученных при помощи ALS,\n",
    "- итоговых\n",
    "  \n",
    "по четырем метрикам: recall, precision, coverage, novelty."
   ]
  },
  {
   "cell_type": "code",
   "execution_count": null,
   "id": "94d6f388-aecb-443e-8647-14014e932d4d",
   "metadata": {},
   "outputs": [],
   "source": []
  },
  {
   "cell_type": "code",
   "execution_count": null,
   "id": "26df411f-14c1-4848-8797-f37afe449cc6",
   "metadata": {},
   "outputs": [],
   "source": []
  },
  {
   "cell_type": "markdown",
   "id": "f1c8d38c-32b0-46a4-96f0-cd01dac708bc",
   "metadata": {},
   "source": [
    "#### 3.10 Выводы, метрики"
   ]
  },
  {
   "cell_type": "markdown",
   "id": "f7d7d5d8-7d1e-4fdf-a6cd-83e5ce92c684",
   "metadata": {},
   "source": [
    "Основные выводы при работе над расчётом рекомендаций, рассчитанные метрики."
   ]
  },
  {
   "cell_type": "code",
   "execution_count": null,
   "id": "6403097d-db36-46d9-8952-613c9bd51b05",
   "metadata": {},
   "outputs": [],
   "source": []
  },
  {
   "cell_type": "code",
   "execution_count": null,
   "id": "986cfdd5-6f2e-4de6-8666-85804c87d04b",
   "metadata": {},
   "outputs": [],
   "source": []
  }
 ],
 "metadata": {
  "kernelspec": {
   "display_name": "Python 3 (ipykernel)",
   "language": "python",
   "name": "python3"
  },
  "language_info": {
   "codemirror_mode": {
    "name": "ipython",
    "version": 3
   },
   "file_extension": ".py",
   "mimetype": "text/x-python",
   "name": "python",
   "nbconvert_exporter": "python",
   "pygments_lexer": "ipython3",
   "version": "3.10.12"
  }
 },
 "nbformat": 4,
 "nbformat_minor": 5
}
